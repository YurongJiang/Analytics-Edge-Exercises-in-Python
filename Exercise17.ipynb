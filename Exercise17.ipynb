








<!DOCTYPE html>
<html lang="en">

<head>
  <meta charset="utf-8">
  <title>Jupyter Notebook Viewer</title>
  <meta name="viewport" content="width=device-width, initial-scale=1.0">
  <meta name="description" content="">
  <meta name="author" content="">
  
  <meta name="robots" content="noindex,nofollow">
  

  <!--NEW RELIC Start Perf Measurement-->
  
  <!--NREND-->

  <!-- Le styles -->
  <link href="/static/build/styles.css?v=55ba354138253381d2c0ada9821cd4da" rel="stylesheet">

  <!-- Le HTML5 shim, for IE6-8 support of HTML5 elements -->
  <!--[if lt IE 9]>
    <script src="http://html5shim.googlecode.com/svn/trunk/html5.js"></script>
  <![endif]-->

  <!-- Le fav and touch icons -->
  <link rel="shortcut icon" href="/static/ico/ipynb_icon_16x16.png">
  <link rel="apple-touch-icon-precomposed" sizes="144x144"
        href="/static/ico/apple-touch-icon-144-precomposed.png?v=5a3c9ede93e2a8b8ea9e3f8f3da1a905">
  <link rel="apple-touch-icon-precomposed" sizes="114x114"
        href="/static/ico/apple-touch-icon-114-precomposed.png?v=45d86fc8f24dc00638035e1dd7a6d898">
  <link rel="apple-touch-icon-precomposed" sizes="72x72"
        href="/static/ico/apple-touch-icon-72-precomposed.png?v=540b5eb0f3cfd25f1439d1c9bd30e15f">
  <link rel="apple-touch-icon-precomposed"
        href="/static/ico/apple-touch-icon-57-precomposed.png?v=225f0590e187e1458625654f10a28f56">
  
  

  

  
  <meta name="twitter:card" content="summary">
  <meta name="twitter:title" content="Notebook on nbviewer">
  <meta name="twitter:description" content="Check out this Jupyter notebook!">

  
  <meta name="twitter:domain" content="nbviewer.jupyter.org">
  <meta name="twitter:image:src" content="http://ipython.org/ipython-doc/dev/_images/ipynb_icon_128x128.png">

  
    <link href="/static/build/notebook.css?v=aae8f92f7e80fc468ae446b9d852fe90" rel="stylesheet">
  

  

  
    <script src="https://cdnjs.cloudflare.com/ajax/libs/mathjax/2.7.1/MathJax.js?config=TeX-AMS_HTML" type="text/javascript">
    </script>
    <script type="text/javascript">
      init_mathjax = function() {
        if (window.MathJax) {
          // MathJax loaded
          MathJax.Hub.Config({
            TeX: {
              equationNumbers: {
                autoNumber: "AMS",
                useLabelIds: true
              }
            },
            tex2jax: {
              inlineMath: [ ['$','$'], ["\\(","\\)"] ],
              displayMath: [ ['$$','$$'], ["\\[","\\]"] ],
              processEscapes: true,
              processEnvironments: true
            },
            displayAlign: 'center',
            "HTML-CSS": {
              styles: {'.MathJax_Display': {"margin": 0}},
              linebreaks: { automatic: true }
            }
          });
          MathJax.Hub.Queue(["Typeset", MathJax.Hub]);
        }
      }
      init_mathjax();
    </script>
  

  
    <script>
      (function() {
        function addWidgetsRenderer() {
          var mimeElement = document.querySelector('script[type="application/vnd.jupyter.widget-view+json"]');
          var scriptElement = document.createElement('script');
          var widgetRendererSrc = 'https://unpkg.com/@jupyter-widgets/html-manager@0.15/dist/embed-amd.js';
          var widgetState;

          try {
            widgetState = mimeElement && JSON.parse(mimeElement.innerHTML);

            if (widgetState && (widgetState.version_major < 2 || !widgetState.version_major)) {
              widgetRendererSrc = 'https://unpkg.com/jupyter-js-widgets@2.1/dist/embed.js';
            }
          } catch(e) {}

          scriptElement.src = widgetRendererSrc;
          document.body.appendChild(scriptElement);
        }

        document.addEventListener('DOMContentLoaded', addWidgetsRenderer);
      }());
    </script>
  

</head>

<body class="nbviewer">

  <!-- These are loaded at the top of the body so they are available to
       notebook cells when they are loaded below. -->
  <script src="/static/components/jquery/dist/jquery.min.js?v=a09e13ee94d51c524b7e2a728c7d4039"></script>
  <script src="/static/components/requirejs/require.js?v=6da8be361b9ee26c5e721e76c6d4afce"></script>
  <script src="/static/components/moment/min/moment.min.js?v=89f87298ad94aa1e6b92f42eb66da043"></script>
<!-- Navbar
================================================== -->
  <nav id="menubar" class="navbar navbar-default navbar-fixed-top" data-spy="affix">
    <div class="container">
      <div class="navbar-header">
        <button type="button" class="navbar-toggle collapsed" data-toggle="collapse" data-target=".navbar-collapse">
          <span class="sr-only">Toggle navigation</span>
          <i class="fa fa-bars"></i>
        </button>
        <a class="navbar-brand" href="/">
          <img src="/static/img/nav_logo.svg?v=479cefe8d932fb14a67b93911b97d70f" width="159"/>
        </a>
      </div>

      <div class="collapse navbar-collapse">
        <ul class="nav navbar-nav navbar-right">
          <li>
            <a class="active" href="http://jupyter.org">JUPYTER</a>
          </li>
          <li>
    <a href="/faq" title="FAQ" >
      
        <span>FAQ</span>
      
    </a>
  </li>

          
  
    
  
    
      
        <li>
    <a href="/format/script/github/pengshi-usc/usc-dso-570/blob/master/Handouts%20and%20Notes/17-Handout-Solutions.ipynb" title="View as Code" >
      <span class="fa fa-code fa-2x menu-icon"></span>
      <span class="menu-text">View as Code</span>
    </a>
  </li>
      
    
  

  
    <li>
    <a href="#" title="Python 3 Kernel" >
      <span class="fa fa-server fa-2x menu-icon"></span>
      <span class="menu-text">Python 3 Kernel</span>
    </a>
  </li>
  

  
    <li>
    <a href="https://github.com/pengshi-usc/usc-dso-570/blob/master/Handouts%20and%20Notes/17-Handout-Solutions.ipynb" title="View on GitHub" >
      <span class="fa fa-github fa-2x menu-icon"></span>
      <span class="menu-text">View on GitHub</span>
    </a>
  </li>
  

  
    <li>
    <a href="https://mybinder.org/v2/gh/pengshi-usc/usc-dso-570/master?filepath=Handouts%20and%20Notes/17-Handout-Solutions.ipynb" title="Execute on Binder" >
      <span class="fa fa-icon-binder fa-2x menu-icon"></span>
      <span class="menu-text">Execute on Binder</span>
    </a>
  </li>
  

  <li>
    <a href="https://raw.githubusercontent.com/pengshi-usc/usc-dso-570/master/Handouts%20and%20Notes/17-Handout-Solutions.ipynb" title="Download Notebook" download>
      <span class="fa fa-download fa-2x menu-icon"></span>
      <span class="menu-text">Download Notebook</span>
    </a>
  </li>

        </ul>
      </div><!-- /.navbar-collapse -->
      
      
    </div>
  </nav>

  <div class="container container-main">
    
  
  <ol class="breadcrumb">
    
      <li>
        <a href="/github/pengshi-usc/usc-dso-570/tree/master">usc-dso-570</a>
      </li>
    
      <li>
        <a href="/github/pengshi-usc/usc-dso-570/tree/master/Handouts and Notes">Handouts and Notes</a>
      </li>
    
  </ol>
  
  <div id="notebook">
    <div id="notebook-container">
      
<div class="cell border-box-sizing text_cell rendered"><div class="prompt input_prompt">
</div><div class="inner_cell">
<div class="text_cell_render border-box-sizing rendered_html">
<h1 id="Session-17:-Introduction-to-Linear-Programming-(LP)-(Solutions)">Session 17: Introduction to Linear Programming (LP) (Solutions)<a class="anchor-link" href="#Session-17:-Introduction-to-Linear-Programming-(LP)-(Solutions)">&#182;</a></h1><h2 id="Example:-Production-Planning">Example: Production Planning<a class="anchor-link" href="#Example:-Production-Planning">&#182;</a></h2><p><strong>(DMD Ex. 7.2)</strong> The Gemstone Tool Company (GTC) produces wrenches and pliers. Each product is made of steel, and requires using a Molding Machine and an Assembly Machine. The daily availability of each resource, as well as the resources required to produce one units of each tool, are shown below.</p>
<table>
<thead><tr>
<th><code></code></th>
<th>Wrench (1 unit)</th>
<th>Plier (1 unit)</th>
<th>Daily Availability</th>
</tr>
</thead>
<tbody>
<tr>
<td>Steel</td>
<td>1.5 lbs</td>
<td>1.0 lbs</td>
<td>27,000 lbs</td>
</tr>
<tr>
<td>Molding Machine</td>
<td>1.0 hours</td>
<td>1.0 hours</td>
<td>21,000 hours</td>
</tr>
<tr>
<td>Assembly Machine</td>
<td>0.3 hours</td>
<td>0.5 hours</td>
<td>9,000 hours</td>
</tr>
</tbody>
</table>
<p>There is demand for 16,000 wrenches and 15,000 pliers per day. Each wrench earns a profit of .10 dollars and each plier earns a profit of .13 dollars.</p>
<p><strong>a)</strong> How much of each product should GTC produce each day and what is the maximum possible profit?</p>
<p><strong>b)</strong> How much additional profit can the company obtain if it had one additional unit of each of the three resources?</p>

</div>
</div>
</div>
<div class="cell border-box-sizing text_cell rendered"><div class="prompt input_prompt">
</div><div class="inner_cell">
<div class="text_cell_render border-box-sizing rendered_html">
<h3 id="Step-1.-Identify-the-decision,-objective,-and-constraints-in-English">Step 1. Identify the decision, objective, and constraints in English<a class="anchor-link" href="#Step-1.-Identify-the-decision,-objective,-and-constraints-in-English">&#182;</a></h3><p><strong>Decision:</strong> How many units of wrench and plier to produce each day?</p>
<p><strong>Objective:</strong> Maximize profit.</p>
<p><strong>Constraints:</strong></p>
<ul>
<li>not using more steel, molding, or assembly than what is available.</li>
<li>not producing more units than the maximum daily demand.</li>
</ul>
<h3 id="Step-2.-Formulate-the-optimization-as-linear-expressions-of-decision-variables">Step 2. Formulate the optimization as linear expressions of decision variables<a class="anchor-link" href="#Step-2.-Formulate-the-optimization-as-linear-expressions-of-decision-variables">&#182;</a></h3><p><strong>Decision Variables:</strong></p>
<ul>
<li>$W$: the number of wrenches to produce.</li>
<li>$P$: the number of pliers to produce.</li>
</ul>
<p><strong>Objective:</strong></p>
$$ \text{Maximize: } .1 W+.13 P $$<p><strong>Constraints:</strong></p>
$$\begin{aligned}
\text{Subject to: } \\
\text{(Steel)} &amp;&amp; 1.5W + P &amp; \le 27000 \\
\text{(Molding)} &amp;&amp; W + P &amp; \le 21000 \\
\text{(Assembly)} &amp;&amp; .3W + .5 P &amp; \le 9000 \\
\text{(Demand W)} &amp;&amp; W &amp; \le 16000 \\
\text{(Demand P)} &amp;&amp; P &amp; \le 15000 \\
\text{(Non-negativity)} &amp;&amp; W, P &amp; \ge 0
\end{aligned}$$<h3 id="Step-3.-Numerically-solve-using-Gurobi">Step 3. Numerically solve using Gurobi<a class="anchor-link" href="#Step-3.-Numerically-solve-using-Gurobi">&#182;</a></h3>
</div>
</div>
</div>
<div class="cell border-box-sizing code_cell rendered">
<div class="input">
<div class="prompt input_prompt">In&nbsp;[2]:</div>
<div class="inner_cell">
    <div class="input_area">
<div class=" highlight hl-ipython3"><pre><span></span><span class="kn">import</span> <span class="nn">gurobipy</span> <span class="k">as</span> <span class="nn">grb</span>
<span class="n">mod</span><span class="o">=</span><span class="n">grb</span><span class="o">.</span><span class="n">Model</span><span class="p">()</span>
<span class="n">W</span><span class="o">=</span><span class="n">mod</span><span class="o">.</span><span class="n">addVar</span><span class="p">()</span>
<span class="n">P</span><span class="o">=</span><span class="n">mod</span><span class="o">.</span><span class="n">addVar</span><span class="p">()</span>
<span class="n">mod</span><span class="o">.</span><span class="n">setObjective</span><span class="p">(</span><span class="o">.</span><span class="mi">1</span><span class="o">*</span><span class="n">W</span><span class="o">+.</span><span class="mi">13</span><span class="o">*</span><span class="n">P</span><span class="p">,</span><span class="n">sense</span><span class="o">=</span><span class="n">grb</span><span class="o">.</span><span class="n">GRB</span><span class="o">.</span><span class="n">MAXIMIZE</span><span class="p">)</span>
<span class="n">steel</span><span class="o">=</span><span class="n">mod</span><span class="o">.</span><span class="n">addConstr</span><span class="p">(</span><span class="mf">1.5</span><span class="o">*</span><span class="n">W</span><span class="o">+</span><span class="n">P</span> <span class="o">&lt;=</span> <span class="mi">27000</span><span class="p">)</span>
<span class="n">molding</span><span class="o">=</span><span class="n">mod</span><span class="o">.</span><span class="n">addConstr</span><span class="p">(</span><span class="n">W</span><span class="o">+</span><span class="n">P</span> <span class="o">&lt;=</span><span class="mi">21000</span><span class="p">)</span>
<span class="n">assembly</span><span class="o">=</span><span class="n">mod</span><span class="o">.</span><span class="n">addConstr</span><span class="p">(</span><span class="o">.</span><span class="mi">3</span><span class="o">*</span><span class="n">W</span><span class="o">+.</span><span class="mi">5</span><span class="o">*</span><span class="n">P</span><span class="o">&lt;=</span><span class="mi">9000</span><span class="p">)</span>
<span class="n">mod</span><span class="o">.</span><span class="n">addConstr</span><span class="p">(</span><span class="n">W</span><span class="o">&lt;=</span><span class="mi">16000</span><span class="p">)</span>
<span class="n">mod</span><span class="o">.</span><span class="n">addConstr</span><span class="p">(</span><span class="n">P</span><span class="o">&lt;=</span><span class="mi">15000</span><span class="p">)</span>
<span class="n">mod</span><span class="o">.</span><span class="n">optimize</span><span class="p">()</span>
</pre></div>

    </div>
</div>
</div>

<div class="output_wrapper">
<div class="output">


<div class="output_area">

    <div class="prompt"></div>


<div class="output_subarea output_stream output_stdout output_text">
<pre>Academic license - for non-commercial use only
Optimize a model with 5 rows, 2 columns and 8 nonzeros
Coefficient statistics:
  Matrix range     [3e-01, 2e+00]
  Objective range  [1e-01, 1e-01]
  Bounds range     [0e+00, 0e+00]
  RHS range        [9e+03, 3e+04]
Presolve removed 2 rows and 0 columns
Presolve time: 0.02s
Presolved: 3 rows, 2 columns, 6 nonzeros

Iteration    Objective       Primal Inf.    Dual Inf.      Time
       0    3.5100000e+03   3.375000e+03   0.000000e+00      0s
       3    2.5050000e+03   0.000000e+00   0.000000e+00      0s

Solved in 3 iterations and 0.04 seconds
Optimal objective  2.505000000e+03
</pre>
</div>
</div>

</div>
</div>

</div>
<div class="cell border-box-sizing code_cell rendered">
<div class="input">
<div class="prompt input_prompt">In&nbsp;[2]:</div>
<div class="inner_cell">
    <div class="input_area">
<div class=" highlight hl-ipython3"><pre><span></span><span class="nb">print</span><span class="p">(</span><span class="s1">&#39;Optimal profit:&#39;</span><span class="p">,</span><span class="n">mod</span><span class="o">.</span><span class="n">objval</span><span class="p">)</span>
<span class="nb">print</span><span class="p">(</span><span class="s1">&#39;W:&#39;</span><span class="p">,</span><span class="n">W</span><span class="o">.</span><span class="n">x</span><span class="p">)</span>
<span class="nb">print</span><span class="p">(</span><span class="s1">&#39;P:&#39;</span><span class="p">,</span><span class="n">P</span><span class="o">.</span><span class="n">x</span><span class="p">)</span>
<span class="nb">print</span><span class="p">(</span><span class="s1">&#39;</span><span class="se">\n</span><span class="s1">Shadow prices:&#39;</span><span class="p">)</span>
<span class="nb">print</span><span class="p">(</span><span class="n">f</span><span class="s1">&#39;Steel </span><span class="si">{steel.pi}</span><span class="s1"> </span><span class="se">\t</span><span class="s1"> valid RHS: </span><span class="si">{steel.sarhslow}</span><span class="s1"> to </span><span class="si">{steel.sarhsup}</span><span class="s1">&#39;</span><span class="p">)</span>
<span class="nb">print</span><span class="p">(</span><span class="n">f</span><span class="s1">&#39;Molding </span><span class="si">{molding.pi:.3f}</span><span class="s1"> </span><span class="se">\t</span><span class="s1"> valid RHS: </span><span class="si">{molding.sarhslow}</span><span class="s1"> to </span><span class="si">{molding.sarhsup}</span><span class="s1">&#39;</span><span class="p">)</span>
<span class="nb">print</span><span class="p">(</span><span class="n">f</span><span class="s1">&#39;Assembly </span><span class="si">{assembly.pi:.3f}</span><span class="s1"> </span><span class="se">\t</span><span class="s1"> valid RHS: </span><span class="si">{assembly.sarhslow}</span><span class="s1"> to </span><span class="si">{assembly.sarhsup}</span><span class="s1">&#39;</span><span class="p">)</span>
</pre></div>

    </div>
</div>
</div>

<div class="output_wrapper">
<div class="output">


<div class="output_area">

    <div class="prompt"></div>


<div class="output_subarea output_stream output_stdout output_text">
<pre>Optimal profit: 2505.0
W: 7500.0
P: 13500.0

Shadow prices:
Steel 0.0 	 valid RHS: 24750.0 to 1e+100
Molding 0.055 	 valid RHS: 20000.0 to 22000.0
Assembly 0.150 	 valid RHS: 8100.0 to 9300.0
</pre>
</div>
</div>

</div>
</div>

</div>
<div class="cell border-box-sizing text_cell rendered"><div class="prompt input_prompt">
</div><div class="inner_cell">
<div class="text_cell_render border-box-sizing rendered_html">
<h3 id="Debugging-by-Outputing-Formulation">Debugging by Outputing Formulation<a class="anchor-link" href="#Debugging-by-Outputing-Formulation">&#182;</a></h3>
</div>
</div>
</div>
<div class="cell border-box-sizing code_cell rendered">
<div class="input">
<div class="prompt input_prompt">In&nbsp;[3]:</div>
<div class="inner_cell">
    <div class="input_area">
<div class=" highlight hl-ipython3"><pre><span></span><span class="n">mod</span><span class="o">.</span><span class="n">write</span><span class="p">(</span><span class="s1">&#39;GTC.lp&#39;</span><span class="p">)</span>
<span class="o">!</span>cat GTC.lp
</pre></div>

    </div>
</div>
</div>

<div class="output_wrapper">
<div class="output">


<div class="output_area">

    <div class="prompt"></div>


<div class="output_subarea output_stream output_stdout output_text">
<pre>\ LP format - for model browsing. Use MPS format to capture full model detail.
Maximize
  0.1 C0 + 0.13 C1
Subject To
 R0: 1.5 C0 + C1 &lt;= 27000
 R1: C0 + C1 &lt;= 21000
 R2: 0.3 C0 + 0.5 C1 &lt;= 9000
 R3: C0 &lt;= 16000
 R4: C1 &lt;= 15000
Bounds
End
</pre>
</div>
</div>

</div>
</div>

</div>
<div class="cell border-box-sizing code_cell rendered">
<div class="input">
<div class="prompt input_prompt">In&nbsp;[4]:</div>
<div class="inner_cell">
    <div class="input_area">
<div class=" highlight hl-ipython3"><pre><span></span><span class="c1"># Naming variables and constraints</span>
<span class="kn">import</span> <span class="nn">gurobipy</span> <span class="k">as</span> <span class="nn">grb</span>
<span class="n">mod</span><span class="o">=</span><span class="n">grb</span><span class="o">.</span><span class="n">Model</span><span class="p">()</span>
<span class="n">W</span><span class="o">=</span><span class="n">mod</span><span class="o">.</span><span class="n">addVar</span><span class="p">(</span><span class="n">name</span><span class="o">=</span><span class="s1">&#39;W&#39;</span><span class="p">)</span>
<span class="n">P</span><span class="o">=</span><span class="n">mod</span><span class="o">.</span><span class="n">addVar</span><span class="p">(</span><span class="n">name</span><span class="o">=</span><span class="s1">&#39;P&#39;</span><span class="p">)</span>
<span class="n">mod</span><span class="o">.</span><span class="n">setObjective</span><span class="p">(</span><span class="o">.</span><span class="mi">1</span><span class="o">*</span><span class="n">W</span><span class="o">+.</span><span class="mi">13</span><span class="o">*</span><span class="n">P</span><span class="p">,</span><span class="n">sense</span><span class="o">=</span><span class="n">grb</span><span class="o">.</span><span class="n">GRB</span><span class="o">.</span><span class="n">MAXIMIZE</span><span class="p">)</span>
<span class="n">steel</span><span class="o">=</span><span class="n">mod</span><span class="o">.</span><span class="n">addConstr</span><span class="p">(</span><span class="mf">1.5</span><span class="o">*</span><span class="n">W</span><span class="o">+</span><span class="n">P</span> <span class="o">&lt;=</span> <span class="mi">27000</span><span class="p">,</span><span class="n">name</span><span class="o">=</span><span class="s1">&#39;Steel&#39;</span><span class="p">)</span>
<span class="n">molding</span><span class="o">=</span><span class="n">mod</span><span class="o">.</span><span class="n">addConstr</span><span class="p">(</span><span class="n">W</span><span class="o">+</span><span class="n">P</span> <span class="o">&lt;=</span><span class="mi">21000</span><span class="p">,</span><span class="n">name</span><span class="o">=</span><span class="s1">&#39;Molding&#39;</span><span class="p">)</span>
<span class="n">assembly</span><span class="o">=</span><span class="n">mod</span><span class="o">.</span><span class="n">addConstr</span><span class="p">(</span><span class="o">.</span><span class="mi">3</span><span class="o">*</span><span class="n">W</span><span class="o">+.</span><span class="mi">5</span><span class="o">*</span><span class="n">P</span><span class="o">&lt;=</span><span class="mi">9000</span><span class="p">,</span><span class="n">name</span><span class="o">=</span><span class="s1">&#39;Assembly&#39;</span><span class="p">)</span>
<span class="n">mod</span><span class="o">.</span><span class="n">addConstr</span><span class="p">(</span><span class="n">W</span><span class="o">&lt;=</span><span class="mi">16000</span><span class="p">,</span><span class="n">name</span><span class="o">=</span><span class="s1">&#39;Demand-W&#39;</span><span class="p">)</span>
<span class="n">mod</span><span class="o">.</span><span class="n">addConstr</span><span class="p">(</span><span class="n">P</span><span class="o">&lt;=</span><span class="mi">15000</span><span class="p">,</span><span class="n">name</span><span class="o">=</span><span class="s1">&#39;Demand-P&#39;</span><span class="p">)</span>
<span class="n">mod</span><span class="o">.</span><span class="n">write</span><span class="p">(</span><span class="s1">&#39;GTC.lp&#39;</span><span class="p">)</span>
<span class="o">!</span>cat GTC.lp
</pre></div>

    </div>
</div>
</div>

<div class="output_wrapper">
<div class="output">


<div class="output_area">

    <div class="prompt"></div>


<div class="output_subarea output_stream output_stdout output_text">
<pre>\ LP format - for model browsing. Use MPS format to capture full model detail.
Maximize
  0.1 W + 0.13 P
Subject To
 Steel: 1.5 W + P &lt;= 27000
 Molding: W + P &lt;= 21000
 Assembly: 0.3 W + 0.5 P &lt;= 9000
 Demand-W: W &lt;= 16000
 Demand-P: P &lt;= 15000
Bounds
End
</pre>
</div>
</div>

</div>
</div>

</div>
<div class="cell border-box-sizing text_cell rendered"><div class="prompt input_prompt">
</div><div class="inner_cell">
<div class="text_cell_render border-box-sizing rendered_html">
<h2 id="Exercise:-Transportation-Planning">Exercise: Transportation Planning<a class="anchor-link" href="#Exercise:-Transportation-Planning">&#182;</a></h2><p>There are 2 production plants, A and B, with capacities $20$ and $15$ respectively. There are 3 demand centers, 1, 2, 3, with demand of $10$ each. The cost of transporting each unit of good from each plant to each demand center is shown below.</p>
<table>
<thead><tr>
<th><code></code></th>
<th>1</th>
<th>2</th>
<th>3</th>
</tr>
</thead>
<tbody>
<tr>
<td>A</td>
<td>3</td>
<td>7</td>
<td>5</td>
</tr>
<tr>
<td>B</td>
<td>5</td>
<td>3</td>
<td>3</td>
</tr>
</tbody>
</table>
<p><strong>a)</strong> What is the minimum transportation cost needed to satisfy all demand while respecting plant capacities, and how would you achieve this cost?</p>
<p><strong>b)</strong> How would increasing one unit of capacity at each plant affect the optimal cost?</p>
<p><strong>c)</strong> How would increasing one unit of demand at each center affect the optimal cost?</p>
<h3 id="Step-1.-Identify-the-decision,-objective,-and-constraints-in-English">Step 1. Identify the decision, objective, and constraints in English<a class="anchor-link" href="#Step-1.-Identify-the-decision,-objective,-and-constraints-in-English">&#182;</a></h3><p><strong>Decision:</strong> How many units to transport from each plant to each demand center.</p>
<p><strong>Objective:</strong> Minimize transportation cost.</p>
<p><strong>Constraints:</strong></p>
<ul>
<li>Not transporting more out of a plant than its capacity.</li>
<li>Transporting enough to each center to meet its demand. </li>
</ul>
<h3 id="Step-2.-Formulate-the-optimization-as-linear-expressions-of-decision-variables">Step 2. Formulate the optimization as linear expressions of decision variables<a class="anchor-link" href="#Step-2.-Formulate-the-optimization-as-linear-expressions-of-decision-variables">&#182;</a></h3><p><strong>Decision variables:</strong> Let $x_{ij}$ denote the amount to transport from plant $i$ to demand center $j$.</p>
<p><strong>Objective and Constraints:</strong></p>
$$
\begin{aligned}
\text{Minimize: } &amp;&amp; 3x_{A1}+7x_{A2}+5x_{A3}&amp;+5x_{B1}+3x_{B2}+3x_{B3} \\
\text{Subject to:}\\
\text{(Capacity A)} &amp;&amp; x_{A1}+x_{A2}+x_{A3} &amp; \le 20 \\
\text{(Capacity B)} &amp;&amp; x_{B1}+x_{B2}+x_{B3} &amp; \le 15 \\
\text{(Demand 1)} &amp;&amp; x_{A1}+x_{B1} &amp; \ge 10 \\
\text{(Demand 2)} &amp;&amp; x_{A2}+x_{B2} &amp; \ge 10 \\
\text{(Demand 3)} &amp;&amp; x_{A3}+x_{B3} &amp; \ge 10 \\
\text{(Non-negativity}) &amp;&amp; x_{ij} &amp; \ge 0 \quad \text{for all $i \in \{A,B\}$, $j \in \{1,2,3\}$}
\end{aligned}$$<h3 id="Step-3.-Numerically-solve-using-Gurobi">Step 3. Numerically solve using Gurobi<a class="anchor-link" href="#Step-3.-Numerically-solve-using-Gurobi">&#182;</a></h3>
</div>
</div>
</div>
<div class="cell border-box-sizing code_cell rendered">
<div class="input">
<div class="prompt input_prompt">In&nbsp;[5]:</div>
<div class="inner_cell">
    <div class="input_area">
<div class=" highlight hl-ipython3"><pre><span></span><span class="kn">from</span> <span class="nn">gurobipy</span> <span class="k">import</span> <span class="n">Model</span><span class="p">,</span> <span class="n">GRB</span>
<span class="n">mod</span><span class="o">=</span><span class="n">Model</span><span class="p">()</span>
<span class="n">A1</span><span class="o">=</span><span class="n">mod</span><span class="o">.</span><span class="n">addVar</span><span class="p">()</span>
<span class="n">A2</span><span class="o">=</span><span class="n">mod</span><span class="o">.</span><span class="n">addVar</span><span class="p">()</span>
<span class="n">A3</span><span class="o">=</span><span class="n">mod</span><span class="o">.</span><span class="n">addVar</span><span class="p">()</span>
<span class="n">B1</span><span class="o">=</span><span class="n">mod</span><span class="o">.</span><span class="n">addVar</span><span class="p">()</span>
<span class="n">B2</span><span class="o">=</span><span class="n">mod</span><span class="o">.</span><span class="n">addVar</span><span class="p">()</span>
<span class="n">B3</span><span class="o">=</span><span class="n">mod</span><span class="o">.</span><span class="n">addVar</span><span class="p">()</span>
<span class="n">mod</span><span class="o">.</span><span class="n">setObjective</span><span class="p">(</span><span class="mi">3</span><span class="o">*</span><span class="n">A1</span><span class="o">+</span><span class="mi">7</span><span class="o">*</span><span class="n">A2</span><span class="o">+</span><span class="mi">5</span><span class="o">*</span><span class="n">A3</span><span class="o">+</span><span class="mi">5</span><span class="o">*</span><span class="n">B1</span><span class="o">+</span><span class="mi">3</span><span class="o">*</span><span class="n">B2</span><span class="o">+</span><span class="mi">3</span><span class="o">*</span><span class="n">B3</span><span class="p">)</span>
<span class="n">capA</span><span class="o">=</span><span class="n">mod</span><span class="o">.</span><span class="n">addConstr</span><span class="p">(</span><span class="n">A1</span><span class="o">+</span><span class="n">A2</span><span class="o">+</span><span class="n">A3</span><span class="o">&lt;=</span><span class="mi">20</span><span class="p">)</span>
<span class="n">capB</span><span class="o">=</span><span class="n">mod</span><span class="o">.</span><span class="n">addConstr</span><span class="p">(</span><span class="n">B1</span><span class="o">+</span><span class="n">B2</span><span class="o">+</span><span class="n">B3</span><span class="o">&lt;=</span><span class="mi">15</span><span class="p">)</span>
<span class="n">dem1</span><span class="o">=</span><span class="n">mod</span><span class="o">.</span><span class="n">addConstr</span><span class="p">(</span><span class="n">A1</span><span class="o">+</span><span class="n">B1</span><span class="o">&gt;=</span><span class="mi">10</span><span class="p">)</span>
<span class="n">dem2</span><span class="o">=</span><span class="n">mod</span><span class="o">.</span><span class="n">addConstr</span><span class="p">(</span><span class="n">A2</span><span class="o">+</span><span class="n">B2</span><span class="o">&gt;=</span><span class="mi">10</span><span class="p">)</span>
<span class="n">dem3</span><span class="o">=</span><span class="n">mod</span><span class="o">.</span><span class="n">addConstr</span><span class="p">(</span><span class="n">A3</span><span class="o">+</span><span class="n">B3</span><span class="o">&gt;=</span><span class="mi">10</span><span class="p">)</span>
<span class="n">mod</span><span class="o">.</span><span class="n">optimize</span><span class="p">()</span>
</pre></div>

    </div>
</div>
</div>

<div class="output_wrapper">
<div class="output">


<div class="output_area">

    <div class="prompt"></div>


<div class="output_subarea output_stream output_stdout output_text">
<pre>Optimize a model with 5 rows, 6 columns and 12 nonzeros
Coefficient statistics:
  Matrix range     [1e+00, 1e+00]
  Objective range  [3e+00, 7e+00]
  Bounds range     [0e+00, 0e+00]
  RHS range        [1e+01, 2e+01]
Presolve time: 0.01s
Presolved: 5 rows, 6 columns, 12 nonzeros

Iteration    Objective       Primal Inf.    Dual Inf.      Time
       0    0.0000000e+00   3.000000e+01   0.000000e+00      0s
       4    1.0000000e+02   0.000000e+00   0.000000e+00      0s

Solved in 4 iterations and 0.01 seconds
Optimal objective  1.000000000e+02
</pre>
</div>
</div>

</div>
</div>

</div>
<div class="cell border-box-sizing code_cell rendered">
<div class="input">
<div class="prompt input_prompt">In&nbsp;[6]:</div>
<div class="inner_cell">
    <div class="input_area">
<div class=" highlight hl-ipython3"><pre><span></span><span class="nb">print</span><span class="p">(</span><span class="s1">&#39;A) Minimal cost:&#39;</span><span class="p">,</span><span class="n">mod</span><span class="o">.</span><span class="n">objval</span><span class="p">)</span>
<span class="nb">print</span><span class="p">(</span><span class="s1">&#39;Optimal transportation plan:&#39;</span><span class="p">)</span>
<span class="nb">print</span><span class="p">(</span><span class="s1">&#39;</span><span class="se">\t</span><span class="s1">A1:&#39;</span><span class="p">,</span><span class="n">A1</span><span class="o">.</span><span class="n">x</span><span class="p">)</span>
<span class="nb">print</span><span class="p">(</span><span class="s1">&#39;</span><span class="se">\t</span><span class="s1">A2:&#39;</span><span class="p">,</span><span class="n">A2</span><span class="o">.</span><span class="n">x</span><span class="p">)</span>
<span class="nb">print</span><span class="p">(</span><span class="s1">&#39;</span><span class="se">\t</span><span class="s1">A3:&#39;</span><span class="p">,</span><span class="n">A3</span><span class="o">.</span><span class="n">x</span><span class="p">)</span>
<span class="nb">print</span><span class="p">(</span><span class="s1">&#39;</span><span class="se">\t</span><span class="s1">B1:&#39;</span><span class="p">,</span><span class="n">B1</span><span class="o">.</span><span class="n">x</span><span class="p">)</span>
<span class="nb">print</span><span class="p">(</span><span class="s1">&#39;</span><span class="se">\t</span><span class="s1">B2:&#39;</span><span class="p">,</span><span class="n">B2</span><span class="o">.</span><span class="n">x</span><span class="p">)</span>
<span class="nb">print</span><span class="p">(</span><span class="s1">&#39;</span><span class="se">\t</span><span class="s1">B3:&#39;</span><span class="p">,</span><span class="n">B3</span><span class="o">.</span><span class="n">x</span><span class="p">)</span>
</pre></div>

    </div>
</div>
</div>

<div class="output_wrapper">
<div class="output">


<div class="output_area">

    <div class="prompt"></div>


<div class="output_subarea output_stream output_stdout output_text">
<pre>A) Minimal cost: 100.0
Optimal transportation plan:
	A1: 10.0
	A2: 0.0
	A3: 5.0
	B1: 0.0
	B2: 10.0
	B3: 5.0
</pre>
</div>
</div>

</div>
</div>

</div>
<div class="cell border-box-sizing code_cell rendered">
<div class="input">
<div class="prompt input_prompt">In&nbsp;[7]:</div>
<div class="inner_cell">
    <div class="input_area">
<div class=" highlight hl-ipython3"><pre><span></span><span class="nb">print</span><span class="p">(</span><span class="s1">&#39;B) Effect of adding 1 unit of plant capacity&#39;</span><span class="p">)</span>
<span class="nb">print</span><span class="p">(</span><span class="s1">&#39;</span><span class="se">\t</span><span class="s1"> Plant A:&#39;</span><span class="p">,</span><span class="n">capA</span><span class="o">.</span><span class="n">pi</span><span class="p">,</span><span class="s1">&#39;</span><span class="se">\t</span><span class="s1">Valid RHS:&#39;</span><span class="p">,</span><span class="n">capA</span><span class="o">.</span><span class="n">sarhslow</span><span class="p">,</span><span class="s1">&#39;to&#39;</span><span class="p">,</span><span class="n">capA</span><span class="o">.</span><span class="n">sarhsup</span><span class="p">)</span>
<span class="nb">print</span><span class="p">(</span><span class="s1">&#39;</span><span class="se">\t</span><span class="s1"> Plant B:&#39;</span><span class="p">,</span><span class="n">capB</span><span class="o">.</span><span class="n">pi</span><span class="p">,</span><span class="s1">&#39;</span><span class="se">\t</span><span class="s1">Valid RHS:&#39;</span><span class="p">,</span><span class="n">capB</span><span class="o">.</span><span class="n">sarhslow</span><span class="p">,</span><span class="s1">&#39;to&#39;</span><span class="p">,</span><span class="n">capB</span><span class="o">.</span><span class="n">sarhsup</span><span class="p">)</span>
</pre></div>

    </div>
</div>
</div>

<div class="output_wrapper">
<div class="output">


<div class="output_area">

    <div class="prompt"></div>


<div class="output_subarea output_stream output_stdout output_text">
<pre>B) Effect of adding 1 unit of plant capacity
	 Plant A: 0.0 	Valid RHS: 15.0 to 1e+100
	 Plant B: -2.0 	Valid RHS: 10.0 to 20.0
</pre>
</div>
</div>

</div>
</div>

</div>
<div class="cell border-box-sizing code_cell rendered">
<div class="input">
<div class="prompt input_prompt">In&nbsp;[8]:</div>
<div class="inner_cell">
    <div class="input_area">
<div class=" highlight hl-ipython3"><pre><span></span><span class="nb">print</span><span class="p">(</span><span class="s1">&#39;C) Effect of demand increase by 1 unit&#39;</span><span class="p">)</span>
<span class="nb">print</span><span class="p">(</span><span class="s1">&#39;</span><span class="se">\t</span><span class="s1"> Center 1:&#39;</span><span class="p">,</span><span class="n">dem1</span><span class="o">.</span><span class="n">pi</span><span class="p">,</span><span class="s1">&#39;</span><span class="se">\t</span><span class="s1">Valid RHS:&#39;</span><span class="p">,</span><span class="n">dem1</span><span class="o">.</span><span class="n">sarhslow</span><span class="p">,</span><span class="s1">&#39;to&#39;</span><span class="p">,</span><span class="n">dem1</span><span class="o">.</span><span class="n">sarhsup</span><span class="p">)</span>
<span class="nb">print</span><span class="p">(</span><span class="s1">&#39;</span><span class="se">\t</span><span class="s1"> Center 2:&#39;</span><span class="p">,</span><span class="n">dem2</span><span class="o">.</span><span class="n">pi</span><span class="p">,</span><span class="s1">&#39;</span><span class="se">\t</span><span class="s1">Valid RHS:&#39;</span><span class="p">,</span><span class="n">dem2</span><span class="o">.</span><span class="n">sarhslow</span><span class="p">,</span><span class="s1">&#39;to&#39;</span><span class="p">,</span><span class="n">dem2</span><span class="o">.</span><span class="n">sarhsup</span><span class="p">)</span>
<span class="nb">print</span><span class="p">(</span><span class="s1">&#39;</span><span class="se">\t</span><span class="s1"> Center 3:&#39;</span><span class="p">,</span><span class="n">dem3</span><span class="o">.</span><span class="n">pi</span><span class="p">,</span><span class="s1">&#39;</span><span class="se">\t</span><span class="s1">Valid RHS:&#39;</span><span class="p">,</span><span class="n">dem3</span><span class="o">.</span><span class="n">sarhslow</span><span class="p">,</span><span class="s1">&#39;to&#39;</span><span class="p">,</span><span class="n">dem3</span><span class="o">.</span><span class="n">sarhsup</span><span class="p">)</span>
</pre></div>

    </div>
</div>
</div>

<div class="output_wrapper">
<div class="output">


<div class="output_area">

    <div class="prompt"></div>


<div class="output_subarea output_stream output_stdout output_text">
<pre>C) Effect of demand increase by 1 unit
	 Center 1: 3.0 	Valid RHS: -0.0 to 15.0
	 Center 2: 5.0 	Valid RHS: 5.0 to 15.0
	 Center 3: 5.0 	Valid RHS: 5.0 to 15.0
</pre>
</div>
</div>

</div>
</div>

</div>
<div class="cell border-box-sizing code_cell rendered">
<div class="input">
<div class="prompt input_prompt">In&nbsp;[9]:</div>
<div class="inner_cell">
    <div class="input_area">
<div class=" highlight hl-ipython3"><pre><span></span><span class="c1"># Alternative using for loops and list comprehension</span>
<span class="kn">from</span> <span class="nn">gurobipy</span> <span class="k">import</span> <span class="n">Model</span><span class="p">,</span> <span class="n">GRB</span>
<span class="kn">import</span> <span class="nn">pandas</span> <span class="k">as</span> <span class="nn">pd</span>

<span class="c1"># Input data</span>
<span class="n">plants</span><span class="o">=</span><span class="p">[</span><span class="s1">&#39;A&#39;</span><span class="p">,</span><span class="s1">&#39;B&#39;</span><span class="p">]</span>
<span class="n">centers</span><span class="o">=</span><span class="p">[</span><span class="mi">1</span><span class="p">,</span><span class="mi">2</span><span class="p">,</span><span class="mi">3</span><span class="p">]</span>
<span class="n">q</span><span class="o">=</span><span class="n">pd</span><span class="o">.</span><span class="n">Series</span><span class="p">([</span><span class="mi">20</span><span class="p">,</span><span class="mi">15</span><span class="p">],</span><span class="n">index</span><span class="o">=</span><span class="n">plants</span><span class="p">)</span>
<span class="n">d</span><span class="o">=</span><span class="n">pd</span><span class="o">.</span><span class="n">Series</span><span class="p">([</span><span class="mi">10</span><span class="p">,</span><span class="mi">10</span><span class="p">,</span><span class="mi">10</span><span class="p">],</span><span class="n">index</span><span class="o">=</span><span class="n">centers</span><span class="p">)</span>
<span class="n">c</span><span class="o">=</span><span class="n">pd</span><span class="o">.</span><span class="n">DataFrame</span><span class="p">([[</span><span class="mi">3</span><span class="p">,</span><span class="mi">7</span><span class="p">,</span><span class="mi">5</span><span class="p">],[</span><span class="mi">5</span><span class="p">,</span><span class="mi">3</span><span class="p">,</span><span class="mi">3</span><span class="p">]],</span><span class="n">index</span><span class="o">=</span><span class="n">plants</span><span class="p">,</span><span class="n">columns</span><span class="o">=</span><span class="n">centers</span><span class="p">)</span>

<span class="c1"># Build model</span>
<span class="n">mod</span><span class="o">=</span><span class="n">Model</span><span class="p">()</span>
<span class="n">x</span><span class="o">=</span><span class="n">mod</span><span class="o">.</span><span class="n">addVars</span><span class="p">(</span><span class="n">plants</span><span class="p">,</span><span class="n">centers</span><span class="p">)</span>
<span class="n">cap</span><span class="o">=</span><span class="p">{}</span>
<span class="k">for</span> <span class="n">i</span> <span class="ow">in</span> <span class="n">plants</span><span class="p">:</span>
    <span class="n">cap</span><span class="p">[</span><span class="n">i</span><span class="p">]</span><span class="o">=</span><span class="n">mod</span><span class="o">.</span><span class="n">addConstr</span><span class="p">(</span><span class="nb">sum</span><span class="p">(</span><span class="n">x</span><span class="p">[</span><span class="n">i</span><span class="p">,</span><span class="n">j</span><span class="p">]</span> <span class="k">for</span> <span class="n">j</span> <span class="ow">in</span> <span class="n">centers</span><span class="p">)</span><span class="o">&lt;=</span><span class="n">q</span><span class="p">[</span><span class="n">i</span><span class="p">])</span>
<span class="n">dem</span><span class="o">=</span><span class="p">{}</span>
<span class="k">for</span> <span class="n">j</span> <span class="ow">in</span> <span class="n">centers</span><span class="p">:</span>
    <span class="n">dem</span><span class="p">[</span><span class="n">j</span><span class="p">]</span><span class="o">=</span><span class="n">mod</span><span class="o">.</span><span class="n">addConstr</span><span class="p">(</span><span class="nb">sum</span><span class="p">(</span><span class="n">x</span><span class="p">[</span><span class="n">i</span><span class="p">,</span><span class="n">j</span><span class="p">]</span> <span class="k">for</span> <span class="n">i</span> <span class="ow">in</span> <span class="n">plants</span><span class="p">)</span><span class="o">&gt;=</span><span class="n">d</span><span class="p">[</span><span class="n">j</span><span class="p">])</span>
    
<span class="n">mod</span><span class="o">.</span><span class="n">setObjective</span><span class="p">(</span><span class="nb">sum</span><span class="p">(</span><span class="n">c</span><span class="o">.</span><span class="n">loc</span><span class="p">[</span><span class="n">i</span><span class="p">,</span><span class="n">j</span><span class="p">]</span><span class="o">*</span><span class="n">x</span><span class="p">[</span><span class="n">i</span><span class="p">,</span><span class="n">j</span><span class="p">]</span> <span class="k">for</span> <span class="n">i</span> <span class="ow">in</span> <span class="n">plants</span> <span class="k">for</span> <span class="n">j</span> <span class="ow">in</span> <span class="n">centers</span><span class="p">))</span>

<span class="c1"># Solve and print output</span>
<span class="n">mod</span><span class="o">.</span><span class="n">setParam</span><span class="p">(</span><span class="s1">&#39;outputflag&#39;</span><span class="p">,</span><span class="kc">False</span><span class="p">)</span>   
<span class="n">mod</span><span class="o">.</span><span class="n">optimize</span><span class="p">()</span>

<span class="nb">print</span><span class="p">(</span><span class="s1">&#39;A) Minimal cost:&#39;</span><span class="p">,</span><span class="n">mod</span><span class="o">.</span><span class="n">objval</span><span class="p">)</span>
<span class="nb">print</span><span class="p">(</span><span class="s1">&#39;Optimal transportation plan:&#39;</span><span class="p">)</span>
<span class="k">for</span> <span class="n">i</span> <span class="ow">in</span> <span class="n">plants</span><span class="p">:</span>
    <span class="k">for</span> <span class="n">j</span> <span class="ow">in</span> <span class="n">centers</span><span class="p">:</span>
        <span class="nb">print</span><span class="p">(</span><span class="n">f</span><span class="s1">&#39;</span><span class="se">\t</span><span class="si">{i}{j}</span><span class="s1">: </span><span class="si">{x[i,j].x}</span><span class="s1">&#39;</span><span class="p">)</span>

<span class="nb">print</span><span class="p">(</span><span class="s1">&#39;B) Effect of adding 1 unit of plant capacity&#39;</span><span class="p">)</span>
<span class="k">for</span> <span class="n">i</span> <span class="ow">in</span> <span class="n">plants</span><span class="p">:</span>
    <span class="nb">print</span> <span class="p">(</span><span class="n">f</span><span class="s1">&#39;</span><span class="se">\t</span><span class="s1"> Plant </span><span class="si">{i}</span><span class="s1">: </span><span class="si">{cap[i].pi}</span><span class="s1">&#39;</span><span class="p">)</span>
    
<span class="nb">print</span><span class="p">(</span><span class="s1">&#39;C) Effect of demand increase by 1 unit&#39;</span><span class="p">)</span>
<span class="k">for</span> <span class="n">j</span> <span class="ow">in</span> <span class="n">centers</span><span class="p">:</span>
    <span class="nb">print</span> <span class="p">(</span><span class="n">f</span><span class="s1">&#39;</span><span class="se">\t</span><span class="s1"> Center </span><span class="si">{j}</span><span class="s1">: </span><span class="si">{dem[j].pi}</span><span class="s1">&#39;</span><span class="p">)</span>
</pre></div>

    </div>
</div>
</div>

<div class="output_wrapper">
<div class="output">


<div class="output_area">

    <div class="prompt"></div>


<div class="output_subarea output_stream output_stdout output_text">
<pre>A) Minimal cost: 100.0
Optimal transportation plan:
	A1: 10.0
	A2: 0.0
	A3: 5.0
	B1: 0.0
	B2: 10.0
	B3: 5.0
B) Effect of adding 1 unit of plant capacity
	 Plant A: 0.0
	 Plant B: -2.0
C) Effect of demand increase by 1 unit
	 Center 1: 3.0
	 Center 2: 5.0
	 Center 3: 5.0
</pre>
</div>
</div>

</div>
</div>

</div>
 


    </div>
  </div>

  </div>


  
    <footer class="footer hidden-print">
      <div class="container">
        <div class="col-md-4">
          <p>
            This website does not host notebooks, it only renders notebooks
            available on other websites.
          </p>
        </div>

        <div class="col-md-4">
          <p>
            Delivered by <a href="http://www.fastly.com/">Fastly</a>,
            Rendered by <a href="https://developer.rackspace.com/?nbviewer=awesome">Rackspace</a>
          </p>
          <p>
            nbviewer GitHub <a href="https://github.com/jupyter/nbviewer">repository</a>.
          </p>
        </div>

        <div class="col-md-4">
          
  
            
              <p>
                nbviewer version:
                <a href="https://github.com/jupyter/nbviewer/commit/f69705373d1402afd924a77712e7c63659e2b57f">
                  f697053
                </a>
              </p>
            
          
  
  <p>
    nbconvert version: <a href="https://github.com/jupyter/nbconvert/releases/tag/5.4.1">
      5.4.1
    </a>
  </p>
  

          
  
  
  <p>
    Rendered
    <span class='date' data-date='Thu, 02 May 2019 02:57:18 UTC' title='Thu, 02 May 2019 02:57:18 UTC'>(Thu, 02 May 2019 02:57:18 UTC)</span>
  </p>
  

        </div>
      </div>
    </footer>
  

  <script src="/static/components/bootstrap/js/bootstrap.min.js?v=5869c96cc8f19086aee625d670d741f9"></script>
  <script src="/static/components/headroom.js/dist/headroom.min.js?v=b0a311ea668f8e768ea375f4a7abb81c"></script>
  <script src="/static/components/headroom.js/dist/jQuery.headroom.min.js?v=f3a1bae118315d0c234afc74dc6aab71"></script>

  
  
  <script>
    $(function(){ $("#menubar").headroom({
      tolerance: 5,
      offset: 205,
      classes: {
        initial: "animated",
        pinned: "slideInDown",
        unpinned: "slideOutUp"
      }
    })});
  </script>


  
  <script>
    (function(i,s,o,g,r,a,m){i['GoogleAnalyticsObject']=r;i[r]=i[r]||function(){
      (i[r].q=i[r].q||[]).push(arguments)},i[r].l=1*new Date();a=s.createElement(o),
      m=s.getElementsByTagName(o)[0];a.async=1;a.src=g;m.parentNode.insertBefore(a,m)
    })(window,document,'script','https://www.google-analytics.com/analytics.js','ga');
    ga('create', 'UA-52617120-5', 'auto',
       {'storage': 'none'});
    ga('set', 'anonymizeIp', true);
    ga('send', 'pageview');
  </script>
  
  <script>
    require({
        paths: {
          moment: "/static/components/moment/min/moment.min.js?v=89f87298ad94aa1e6b92f42eb66da043"
        }
      }, ["moment"], function(moment){
      var date = $("footer .date"),
        m = moment(new Date(date.data('date'))),
        update = function(){ date.text(m.fromNow()); };
      setInterval(update, 61*1000);
      update();
      var w = $(window).scroll(function(event){
        $("body").toggleClass("scrolled", w.scrollTop() > 0);
      });
    });
  </script>

  <!--NEW RELIC Stop Perf Measurement-->
  
  <!--NEW RELIC End-->
</body>
</html>