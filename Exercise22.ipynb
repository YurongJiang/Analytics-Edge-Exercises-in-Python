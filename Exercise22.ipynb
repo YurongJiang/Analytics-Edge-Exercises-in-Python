








<!DOCTYPE html>
<html lang="en">

<head>
  <meta charset="utf-8">
  <title>Jupyter Notebook Viewer</title>
  <meta name="viewport" content="width=device-width, initial-scale=1.0">
  <meta name="description" content="">
  <meta name="author" content="">
  
  <meta name="robots" content="noindex,nofollow">
  

  <!--NEW RELIC Start Perf Measurement-->
  
  <!--NREND-->

  <!-- Le styles -->
  <link href="/static/build/styles.css?v=55ba354138253381d2c0ada9821cd4da" rel="stylesheet">

  <!-- Le HTML5 shim, for IE6-8 support of HTML5 elements -->
  <!--[if lt IE 9]>
    <script src="http://html5shim.googlecode.com/svn/trunk/html5.js"></script>
  <![endif]-->

  <!-- Le fav and touch icons -->
  <link rel="shortcut icon" href="/static/ico/ipynb_icon_16x16.png">
  <link rel="apple-touch-icon-precomposed" sizes="144x144"
        href="/static/ico/apple-touch-icon-144-precomposed.png?v=5a3c9ede93e2a8b8ea9e3f8f3da1a905">
  <link rel="apple-touch-icon-precomposed" sizes="114x114"
        href="/static/ico/apple-touch-icon-114-precomposed.png?v=45d86fc8f24dc00638035e1dd7a6d898">
  <link rel="apple-touch-icon-precomposed" sizes="72x72"
        href="/static/ico/apple-touch-icon-72-precomposed.png?v=540b5eb0f3cfd25f1439d1c9bd30e15f">
  <link rel="apple-touch-icon-precomposed"
        href="/static/ico/apple-touch-icon-57-precomposed.png?v=225f0590e187e1458625654f10a28f56">
  
  

  

  
  <meta name="twitter:card" content="summary">
  <meta name="twitter:title" content="Notebook on nbviewer">
  <meta name="twitter:description" content="Check out this Jupyter notebook!">

  
  <meta name="twitter:domain" content="nbviewer.jupyter.org">
  <meta name="twitter:image:src" content="http://ipython.org/ipython-doc/dev/_images/ipynb_icon_128x128.png">

  
    <link href="/static/build/notebook.css?v=aae8f92f7e80fc468ae446b9d852fe90" rel="stylesheet">
  

  

  
    <script src="https://cdnjs.cloudflare.com/ajax/libs/mathjax/2.7.1/MathJax.js?config=TeX-AMS_HTML" type="text/javascript">
    </script>
    <script type="text/javascript">
      init_mathjax = function() {
        if (window.MathJax) {
          // MathJax loaded
          MathJax.Hub.Config({
            TeX: {
              equationNumbers: {
                autoNumber: "AMS",
                useLabelIds: true
              }
            },
            tex2jax: {
              inlineMath: [ ['$','$'], ["\\(","\\)"] ],
              displayMath: [ ['$$','$$'], ["\\[","\\]"] ],
              processEscapes: true,
              processEnvironments: true
            },
            displayAlign: 'center',
            "HTML-CSS": {
              styles: {'.MathJax_Display': {"margin": 0}},
              linebreaks: { automatic: true }
            }
          });
          MathJax.Hub.Queue(["Typeset", MathJax.Hub]);
        }
      }
      init_mathjax();
    </script>
  

  
    <script>
      (function() {
        function addWidgetsRenderer() {
          var mimeElement = document.querySelector('script[type="application/vnd.jupyter.widget-view+json"]');
          var scriptElement = document.createElement('script');
          var widgetRendererSrc = 'https://unpkg.com/@jupyter-widgets/html-manager@0.15/dist/embed-amd.js';
          var widgetState;

          try {
            widgetState = mimeElement && JSON.parse(mimeElement.innerHTML);

            if (widgetState && (widgetState.version_major < 2 || !widgetState.version_major)) {
              widgetRendererSrc = 'https://unpkg.com/jupyter-js-widgets@2.1/dist/embed.js';
            }
          } catch(e) {}

          scriptElement.src = widgetRendererSrc;
          document.body.appendChild(scriptElement);
        }

        document.addEventListener('DOMContentLoaded', addWidgetsRenderer);
      }());
    </script>
  

</head>

<body class="nbviewer">

  <!-- These are loaded at the top of the body so they are available to
       notebook cells when they are loaded below. -->
  <script src="/static/components/jquery/dist/jquery.min.js?v=a09e13ee94d51c524b7e2a728c7d4039"></script>
  <script src="/static/components/requirejs/require.js?v=6da8be361b9ee26c5e721e76c6d4afce"></script>
  <script src="/static/components/moment/min/moment.min.js?v=89f87298ad94aa1e6b92f42eb66da043"></script>
<!-- Navbar
================================================== -->
  <nav id="menubar" class="navbar navbar-default navbar-fixed-top" data-spy="affix">
    <div class="container">
      <div class="navbar-header">
        <button type="button" class="navbar-toggle collapsed" data-toggle="collapse" data-target=".navbar-collapse">
          <span class="sr-only">Toggle navigation</span>
          <i class="fa fa-bars"></i>
        </button>
        <a class="navbar-brand" href="/">
          <img src="/static/img/nav_logo.svg?v=479cefe8d932fb14a67b93911b97d70f" width="159"/>
        </a>
      </div>

      <div class="collapse navbar-collapse">
        <ul class="nav navbar-nav navbar-right">
          <li>
            <a class="active" href="http://jupyter.org">JUPYTER</a>
          </li>
          <li>
    <a href="/faq" title="FAQ" >
      
        <span>FAQ</span>
      
    </a>
  </li>

          
  
    
  
    
      
        <li>
    <a href="/format/script/github/pengshi-usc/usc-dso-570/blob/master/Handouts%20and%20Notes/23-Handout-Solutions.ipynb" title="View as Code" >
      <span class="fa fa-code fa-2x menu-icon"></span>
      <span class="menu-text">View as Code</span>
    </a>
  </li>
      
    
  

  
    <li>
    <a href="#" title="Python 3 Kernel" >
      <span class="fa fa-server fa-2x menu-icon"></span>
      <span class="menu-text">Python 3 Kernel</span>
    </a>
  </li>
  

  
    <li>
    <a href="https://github.com/pengshi-usc/usc-dso-570/blob/master/Handouts%20and%20Notes/23-Handout-Solutions.ipynb" title="View on GitHub" >
      <span class="fa fa-github fa-2x menu-icon"></span>
      <span class="menu-text">View on GitHub</span>
    </a>
  </li>
  

  
    <li>
    <a href="https://mybinder.org/v2/gh/pengshi-usc/usc-dso-570/master?filepath=Handouts%20and%20Notes/23-Handout-Solutions.ipynb" title="Execute on Binder" >
      <span class="fa fa-icon-binder fa-2x menu-icon"></span>
      <span class="menu-text">Execute on Binder</span>
    </a>
  </li>
  

  <li>
    <a href="https://raw.githubusercontent.com/pengshi-usc/usc-dso-570/master/Handouts%20and%20Notes/23-Handout-Solutions.ipynb" title="Download Notebook" download>
      <span class="fa fa-download fa-2x menu-icon"></span>
      <span class="menu-text">Download Notebook</span>
    </a>
  </li>

        </ul>
      </div><!-- /.navbar-collapse -->
      
      
    </div>
  </nav>

  <div class="container container-main">
    
  
  <ol class="breadcrumb">
    
      <li>
        <a href="/github/pengshi-usc/usc-dso-570/tree/master">usc-dso-570</a>
      </li>
    
      <li>
        <a href="/github/pengshi-usc/usc-dso-570/tree/master/Handouts and Notes">Handouts and Notes</a>
      </li>
    
  </ol>
  
  <div id="notebook">
    <div id="notebook-container">
      
<div class="cell border-box-sizing text_cell rendered"><div class="prompt input_prompt">
</div><div class="inner_cell">
<div class="text_cell_render border-box-sizing rendered_html">
<h1 id="Session-23:-Introduction-to-non-linear-programming-(NLP)-Solutions">Session 23: Introduction to non-linear programming (NLP) Solutions<a class="anchor-link" href="#Session-23:-Introduction-to-non-linear-programming-(NLP)-Solutions">&#182;</a></h1><p>A generic non-linear program has the following form ($x$ is a $n$-dimensional vector.)</p>
$$\begin{aligned}
\text{Minimize :} &amp;&amp; f(x) \\
&amp;&amp; g_1(x) &amp;\le 0 \\
&amp;&amp; \cdots \\
&amp;&amp; g_m(x) &amp;\le 0 \\
&amp;&amp; x &amp;\in X
\end{aligned}$$<p>In a linear program, all of the functions $f$, $g_1, \cdots, g_m$ are linear, and the constraint set $X$ is $n$-dimensional real numbers. In a MIP, the constraint set $X$ also requires certain variables to be integers.</p>
<p>Unlike with LP and MIPs, there are no generic algorithms that can solve arbitrary non-linear programs with large $n$ or $m$. The strategy in practice is to find special structure in the functions $f$ and $g_j$.</p>
<h2 id="1.-Sum-of-Squares">1. Sum of Squares<a class="anchor-link" href="#1.-Sum-of-Squares">&#182;</a></h2><p>Let $x$, $y$ and $z$ be decision variables. Gurobi allows the following types of quadratic constraints:</p>
<ul>
<li><strong>Minimizing</strong> a sum of squares plus a linear term, or an expression that can be expressed as a sum of squares plus a linear term. </li>
<li>A sum of squares plus a linear term <strong>less than</strong> equal to a linear term.</li>
</ul>
<p>Examples of what is allowed:</p>
$$\begin{aligned}
\text{Minimize: } &amp;&amp; x^2 + (x+2y)^2 + 3(y+z)^2 - 5y  \\
&amp;&amp; x^2+2y^2+3z^2 &amp;\le 5 \\
 &amp;&amp; (x+2y)^2 &amp;\le 5z-2x \\
 &amp;&amp; x^2+4y^2+4xy &amp; \le 5z-2x  \\
 &amp;&amp; 6x+y^2+2z \le 10
 \end{aligned}$$<p>However, in the code, you cannot use the power <code>**</code> operator or <code>^2</code>, but must multiply out using <code>*</code>:</p>

</div>
</div>
</div>
<div class="cell border-box-sizing code_cell rendered">
<div class="input">
<div class="prompt input_prompt">In&nbsp;[1]:</div>
<div class="inner_cell">
    <div class="input_area">
<div class=" highlight hl-ipython3"><pre><span></span><span class="kn">from</span> <span class="nn">gurobipy</span> <span class="k">import</span> <span class="n">Model</span><span class="p">,</span> <span class="n">GRB</span>
<span class="n">mod</span><span class="o">=</span><span class="n">Model</span><span class="p">()</span>
<span class="n">x</span><span class="o">=</span><span class="n">mod</span><span class="o">.</span><span class="n">addVar</span><span class="p">(</span><span class="n">lb</span><span class="o">=-</span><span class="n">GRB</span><span class="o">.</span><span class="n">INFINITY</span><span class="p">)</span>
<span class="n">y</span><span class="o">=</span><span class="n">mod</span><span class="o">.</span><span class="n">addVar</span><span class="p">(</span><span class="n">lb</span><span class="o">=-</span><span class="n">GRB</span><span class="o">.</span><span class="n">INFINITY</span><span class="p">)</span>
<span class="n">z</span><span class="o">=</span><span class="n">mod</span><span class="o">.</span><span class="n">addVar</span><span class="p">(</span><span class="n">lb</span><span class="o">=-</span><span class="n">GRB</span><span class="o">.</span><span class="n">INFINITY</span><span class="p">)</span>

<span class="n">mod</span><span class="o">.</span><span class="n">setObjective</span><span class="p">(</span><span class="n">x</span><span class="o">*</span><span class="n">x</span><span class="o">+</span><span class="p">(</span><span class="n">x</span><span class="o">+</span><span class="mi">2</span><span class="o">*</span><span class="n">y</span><span class="p">)</span><span class="o">*</span><span class="p">(</span><span class="n">x</span><span class="o">+</span><span class="mi">2</span><span class="o">*</span><span class="n">y</span><span class="p">)</span><span class="o">+</span><span class="mi">3</span><span class="o">*</span><span class="p">(</span><span class="n">y</span><span class="o">+</span><span class="n">z</span><span class="p">)</span><span class="o">*</span><span class="p">(</span><span class="n">y</span><span class="o">+</span><span class="n">z</span><span class="p">)</span><span class="o">-</span><span class="mi">5</span><span class="o">*</span><span class="n">y</span><span class="p">)</span>
<span class="n">mod</span><span class="o">.</span><span class="n">addConstr</span><span class="p">(</span><span class="n">x</span><span class="o">*</span><span class="n">x</span><span class="o">+</span><span class="mi">2</span><span class="o">*</span><span class="n">y</span><span class="o">*</span><span class="n">y</span><span class="o">+</span><span class="mi">3</span><span class="o">*</span><span class="n">z</span><span class="o">*</span><span class="n">z</span> <span class="o">&lt;=</span> <span class="mi">5</span><span class="p">)</span>
<span class="n">mod</span><span class="o">.</span><span class="n">addConstr</span><span class="p">((</span><span class="n">x</span><span class="o">+</span><span class="mi">2</span><span class="o">*</span><span class="n">y</span><span class="p">)</span><span class="o">*</span><span class="p">(</span><span class="n">x</span><span class="o">+</span><span class="mi">2</span><span class="o">*</span><span class="n">y</span><span class="p">)</span><span class="o">&lt;=</span><span class="mi">5</span><span class="o">*</span><span class="n">z</span><span class="o">-</span><span class="mi">2</span><span class="o">*</span><span class="n">x</span><span class="p">)</span>
<span class="n">mod</span><span class="o">.</span><span class="n">addConstr</span><span class="p">(</span><span class="n">x</span><span class="o">*</span><span class="n">x</span><span class="o">+</span><span class="mi">4</span><span class="o">*</span><span class="n">y</span><span class="o">*</span><span class="n">y</span><span class="o">+</span><span class="mi">4</span><span class="o">*</span><span class="n">x</span><span class="o">*</span><span class="n">y</span><span class="o">&lt;=</span><span class="mi">5</span><span class="o">*</span><span class="n">z</span><span class="o">-</span><span class="mi">2</span><span class="o">*</span><span class="n">x</span><span class="p">)</span>
<span class="n">lhs4</span><span class="o">=</span><span class="mi">6</span><span class="o">*</span><span class="n">x</span><span class="o">+</span><span class="n">y</span><span class="o">*</span><span class="n">y</span><span class="o">+</span><span class="mi">2</span><span class="o">*</span><span class="n">z</span>
<span class="n">mod</span><span class="o">.</span><span class="n">addConstr</span><span class="p">(</span><span class="n">lhs4</span><span class="o">&lt;=</span><span class="mi">10</span><span class="p">)</span>
<span class="n">mod</span><span class="o">.</span><span class="n">optimize</span><span class="p">()</span>
</pre></div>

    </div>
</div>
</div>

<div class="output_wrapper">
<div class="output">


<div class="output_area">

    <div class="prompt"></div>


<div class="output_subarea output_stream output_stdout output_text">
<pre>Academic license - for non-commercial use only
Optimize a model with 0 rows, 3 columns and 0 nonzeros
Model has 5 quadratic objective terms
Model has 4 quadratic constraints
Coefficient statistics:
  Matrix range     [0e+00, 0e+00]
  QMatrix range    [1e+00, 4e+00]
  QLMatrix range   [2e+00, 6e+00]
  Objective range  [5e+00, 5e+00]
  QObjective range [4e+00, 1e+01]
  Bounds range     [0e+00, 0e+00]
  RHS range        [0e+00, 0e+00]
  QRHS range       [5e+00, 1e+01]
Presolve time: 0.01s
Presolved: 14 rows, 18 columns, 34 nonzeros
Presolved model has 5 second-order cone constraints
Ordering time: 0.00s

Barrier statistics:
 AA&#39; NZ     : 5.400e+01
 Factor NZ  : 1.050e+02
 Factor Ops : 1.015e+03 (less than 1 second per iteration)
 Threads    : 1

                  Objective                Residual
Iter       Primal          Dual         Primal    Dual     Compl     Time
   0   2.59923525e+00  2.59923525e+00  3.97e+00 1.81e+00  2.20e+00     0s
   1   6.48142721e-01 -6.08983065e-02  7.82e-02 6.15e-01  3.95e-01     0s
   2  -1.36604964e+00 -9.81061734e-01  8.60e-08 1.77e-01  8.03e-02     0s
   3  -1.75056778e+00 -2.36660450e+00  8.82e-14 1.94e-07  3.24e-02     0s
   4  -2.03333778e+00 -2.08760645e+00  2.44e-15 2.14e-13  2.86e-03     0s
   5  -2.03685499e+00 -2.04992621e+00  3.46e-14 5.46e-14  6.88e-04     0s
   6  -2.04092379e+00 -2.04233805e+00  4.00e-13 2.40e-14  7.44e-05     0s
   7  -2.04110331e+00 -2.04111180e+00  8.21e-13 4.09e-14  4.47e-07     0s
   8  -2.04110515e+00 -2.04110521e+00  5.57e-10 8.86e-12  2.84e-09     0s

Barrier solved model in 8 iterations and 0.03 seconds
Optimal objective -2.04110515e+00

</pre>
</div>
</div>

</div>
</div>

</div>
<div class="cell border-box-sizing code_cell rendered">
<div class="input">
<div class="prompt input_prompt">In&nbsp;[2]:</div>
<div class="inner_cell">
    <div class="input_area">
<div class=" highlight hl-ipython3"><pre><span></span><span class="nb">print</span><span class="p">(</span><span class="n">f</span><span class="s1">&#39;Optimal solution: obj=</span><span class="si">{mod.objval}</span><span class="s1">&#39;</span><span class="p">)</span>
<span class="nb">print</span><span class="p">(</span><span class="n">f</span><span class="s1">&#39;</span><span class="se">\t</span><span class="s1"> x=</span><span class="si">{x.x}</span><span class="s1">&#39;</span><span class="p">)</span>
<span class="nb">print</span><span class="p">(</span><span class="n">f</span><span class="s1">&#39;</span><span class="se">\t</span><span class="s1"> y=</span><span class="si">{y.x}</span><span class="s1">&#39;</span><span class="p">)</span>
<span class="nb">print</span><span class="p">(</span><span class="n">f</span><span class="s1">&#39;</span><span class="se">\t</span><span class="s1"> z=</span><span class="si">{z.x}</span><span class="s1">&#39;</span><span class="p">)</span>
<span class="nb">print</span><span class="p">(</span><span class="n">f</span><span class="s1">&#39;</span><span class="se">\t</span><span class="s1"> lhs4={lhs4.getValue()}&#39;</span><span class="p">)</span>
</pre></div>

    </div>
</div>
</div>

<div class="output_wrapper">
<div class="output">


<div class="output_area">

    <div class="prompt"></div>


<div class="output_subarea output_stream output_stdout output_text">
<pre>Optimal solution: obj=-2.0411051524261055
	 x=-1.134296289724148
	 y=0.7968655538079593
	 z=-0.41150244505150585
	 lhs4=-6.993787917602234
</pre>
</div>
</div>

</div>
</div>

</div>
<div class="cell border-box-sizing text_cell rendered"><div class="prompt input_prompt">
</div><div class="inner_cell">
<div class="text_cell_render border-box-sizing rendered_html">
<p>The following are <strong>NOT allowed</strong>:</p>
<ul>
<li>Subtracting a square instead of adding:</li>
</ul>
$$\text{Minimize: } x^2 + (x+2y)^2 - 3(y+z)^2 - 5y $$<ul>
<li>Maximizing a sum of squares:</li>
</ul>
$$\text{Maximize: } x^2 + (x+2y)^2 + 3(y+z)^2 - 5y $$<ul>
<li>A sum of squares larger than a linear expression:</li>
</ul>
$$ x^2 + y^2 - 2xy \ge 5 $$
</div>
</div>
</div>
<div class="cell border-box-sizing text_cell rendered"><div class="prompt input_prompt">
</div><div class="inner_cell">
<div class="text_cell_render border-box-sizing rendered_html">
<h2 id="Q1-(DMD-Example-8.1)">Q1 (DMD Example 8.1)<a class="anchor-link" href="#Q1-(DMD-Example-8.1)">&#182;</a></h2><p><strong>Solve the following non-linear optimization formulation problem using Gurobi.</strong> The formulation maximizes expected returns of a portfolio subject to not exceeding a certain level of risk.</p>
<p><strong>Decision variables:</strong> Let $A$, $G$, $D$ denote the fraction of total investment to put in the assets Advent, GSS, and Digital.</p>
<p><strong>Objective and constraints:</strong> 
$$\begin{aligned}
\text{Maximize: } &amp;&amp; 11A+14G+7D \\
\text{subect to: } \\
\text{(Fractions)} &amp;&amp; A+G+D &amp; = 1 \\
\text{(Target risk)} &amp;&amp; \sqrt{16A^2+22G^2+10D^2+6AG+2GD-10AD} &amp; \le 3.1 \\
\text{(Nonnegativity)} &amp;&amp; A, G, D &amp; \ge 0
\end{aligned}$$</p>

</div>
</div>
</div>
<div class="cell border-box-sizing code_cell rendered">
<div class="input">
<div class="prompt input_prompt">In&nbsp;[3]:</div>
<div class="inner_cell">
    <div class="input_area">
<div class=" highlight hl-ipython3"><pre><span></span><span class="kn">from</span> <span class="nn">gurobipy</span> <span class="k">import</span> <span class="n">Model</span><span class="p">,</span> <span class="n">GRB</span>
<span class="n">mod</span><span class="o">=</span><span class="n">Model</span><span class="p">()</span>
<span class="n">A</span><span class="o">=</span><span class="n">mod</span><span class="o">.</span><span class="n">addVar</span><span class="p">(</span><span class="n">lb</span><span class="o">=</span><span class="mi">0</span><span class="p">)</span>
<span class="n">G</span><span class="o">=</span><span class="n">mod</span><span class="o">.</span><span class="n">addVar</span><span class="p">(</span><span class="n">lb</span><span class="o">=</span><span class="mi">0</span><span class="p">)</span>
<span class="n">D</span><span class="o">=</span><span class="n">mod</span><span class="o">.</span><span class="n">addVar</span><span class="p">(</span><span class="n">lb</span><span class="o">=</span><span class="mi">0</span><span class="p">)</span>
<span class="n">mod</span><span class="o">.</span><span class="n">setObjective</span><span class="p">(</span><span class="mi">11</span><span class="o">*</span><span class="n">A</span><span class="o">+</span><span class="mi">14</span><span class="o">*</span><span class="n">G</span><span class="o">+</span><span class="mi">7</span><span class="o">*</span><span class="n">D</span><span class="p">,</span> <span class="n">sense</span><span class="o">=</span><span class="n">GRB</span><span class="o">.</span><span class="n">MAXIMIZE</span><span class="p">)</span>
<span class="n">mod</span><span class="o">.</span><span class="n">addConstr</span><span class="p">(</span><span class="n">A</span><span class="o">+</span><span class="n">G</span><span class="o">+</span><span class="n">D</span> <span class="o">==</span> <span class="mi">1</span><span class="p">)</span>
<span class="n">riskSquared</span><span class="o">=</span><span class="mi">16</span><span class="o">*</span><span class="n">A</span><span class="o">*</span><span class="n">A</span><span class="o">+</span><span class="mi">22</span><span class="o">*</span><span class="n">G</span><span class="o">*</span><span class="n">G</span><span class="o">+</span><span class="mi">10</span><span class="o">*</span><span class="n">D</span><span class="o">*</span><span class="n">D</span><span class="o">+</span><span class="mi">6</span><span class="o">*</span><span class="n">A</span><span class="o">*</span><span class="n">G</span><span class="o">+</span><span class="mi">2</span><span class="o">*</span><span class="n">G</span><span class="o">*</span><span class="n">D</span><span class="o">-</span><span class="mi">10</span><span class="o">*</span><span class="n">A</span><span class="o">*</span><span class="n">D</span>
<span class="n">mod</span><span class="o">.</span><span class="n">addConstr</span><span class="p">(</span><span class="n">riskSquared</span> <span class="o">&lt;=</span> <span class="mf">3.1</span><span class="o">**</span><span class="mi">2</span><span class="p">)</span>
<span class="n">mod</span><span class="o">.</span><span class="n">setParam</span><span class="p">(</span><span class="s1">&#39;outputflag&#39;</span><span class="p">,</span><span class="kc">False</span><span class="p">)</span>
<span class="n">mod</span><span class="o">.</span><span class="n">optimize</span><span class="p">()</span>
</pre></div>

    </div>
</div>
</div>

</div>
<div class="cell border-box-sizing code_cell rendered">
<div class="input">
<div class="prompt input_prompt">In&nbsp;[4]:</div>
<div class="inner_cell">
    <div class="input_area">
<div class=" highlight hl-ipython3"><pre><span></span><span class="kn">import</span> <span class="nn">numpy</span> <span class="k">as</span> <span class="nn">np</span>
<span class="nb">print</span><span class="p">(</span><span class="s1">&#39;Optimal annual return:&#39;</span><span class="p">,</span> <span class="n">mod</span><span class="o">.</span><span class="n">objval</span><span class="p">)</span>
<span class="nb">print</span><span class="p">(</span><span class="s1">&#39;</span><span class="se">\t</span><span class="s1"> A:&#39;</span><span class="p">,</span><span class="n">A</span><span class="o">.</span><span class="n">x</span><span class="p">)</span>
<span class="nb">print</span><span class="p">(</span><span class="s1">&#39;</span><span class="se">\t</span><span class="s1"> G:&#39;</span><span class="p">,</span><span class="n">G</span><span class="o">.</span><span class="n">x</span><span class="p">)</span>
<span class="nb">print</span><span class="p">(</span><span class="s1">&#39;</span><span class="se">\t</span><span class="s1"> D:&#39;</span><span class="p">,</span><span class="n">D</span><span class="o">.</span><span class="n">x</span><span class="p">)</span>
<span class="nb">print</span><span class="p">(</span><span class="s1">&#39;</span><span class="se">\t</span><span class="s1"> risk:&#39;</span><span class="p">,</span><span class="n">np</span><span class="o">.</span><span class="n">sqrt</span><span class="p">(</span><span class="n">riskSquared</span><span class="o">.</span><span class="n">getValue</span><span class="p">()))</span>
</pre></div>

    </div>
</div>
</div>

<div class="output_wrapper">
<div class="output">


<div class="output_area">

    <div class="prompt"></div>


<div class="output_subarea output_stream output_stdout output_text">
<pre>Optimal annual return: 12.250136110681433
	 A: 0.37801476764687053
	 G: 0.5340110057277011
	 D: 0.08797422662543453
	 risk: 3.099999192146312
</pre>
</div>
</div>

</div>
</div>

</div>
<div class="cell border-box-sizing text_cell rendered"><div class="prompt input_prompt">
</div><div class="inner_cell">
<div class="text_cell_render border-box-sizing rendered_html">
<h2 id="2.-Linearizing-using-Auxiliary-Decision-Variables">2. Linearizing using Auxiliary Decision Variables<a class="anchor-link" href="#2.-Linearizing-using-Auxiliary-Decision-Variables">&#182;</a></h2><h3 id="2.1-Max-and-Min">2.1 Max and Min<a class="anchor-link" href="#2.1-Max-and-Min">&#182;</a></h3><p>The non-linear objective</p>
$$\text{Minimize } \max(x,y)$$<p>is equivalent to
$$ \begin{aligned}
\text{Minimize} &amp;&amp; z \\
\text{subject to} \\
  &amp;&amp; \max(x, y) \le z
\end{aligned}$$</p>
<p>which is equivalent to the linear formulation:</p>
$$ \begin{aligned}
\text{Minimize} &amp;&amp; z \\
\text{subject to} \\
  &amp;&amp; x \le z \\
  &amp;&amp; y \le z
\end{aligned}$$<p>Similarly,</p>
$$\text{Minimize } \max(x,y)- \min(x,y) $$<p>is equivalent to</p>
$$
\begin{aligned}
\text{Minimize} &amp;&amp; U-L \\
\text{subject to:} \\
 &amp;&amp; L \le x &amp; \le U \\
  &amp;&amp; L \le y &amp; \le U 
\end{aligned}$$<h3 id="2.2-Absolute-Values">2.2 Absolute Values<a class="anchor-link" href="#2.2-Absolute-Values">&#182;</a></h3><p>Similarly, the non-linear objective</p>
$$\text{Minimize } |x_1-y_1|+|x_2-y_2|$$<p>is equivalent</p>
$$ \begin{aligned}
\text{Minimize} &amp;&amp; z_1+z_2 \\
\text{subject to} \\
\text{(New constraint 1)}  &amp;&amp; |x_1-y_1| \le z_1 \\
\text{(New constraint 2)}  &amp;&amp; |x_2-y_2| \le z_2
\end{aligned}$$<p>Now, because $|x|=\max(x,-x)$, the above is equivalent to the linear formulation:</p>
$$ \begin{aligned}
\text{Minimize} &amp;&amp; z_1+z_2 \\
\text{subject to} \\
 &amp;&amp; x_1-y_1 \le z_1 \\
 &amp;&amp; y_1-x_1 \le z_1 \\
 &amp;&amp; x_2-y_2 \le z_2 \\
 &amp;&amp; y_2-x_2 \le z_2 
\end{aligned}$$<h3 id="2.3-Big-M-Method">2.3 Big-M Method<a class="anchor-link" href="#2.3-Big-M-Method">&#182;</a></h3><p>Suppose we want to either turn a continuous variable $X$ on or off, we can do</p>
$$ 0 \le X \le MZ, $$<p>where $Z$ is a binary decision variable and $M$ is a sufficiently large number that is guaranteed to be larger than the maximum possible value of $X$ in any optimal soluiton.</p>
<h3 id="2.4-Either/Or-Constraint">2.4 Either/Or Constraint<a class="anchor-link" href="#2.4-Either/Or-Constraint">&#182;</a></h3><p>Similar to the above, suppose that we want to force a continuous variable $X$ to be either between $A_1$ and $A_2$ or between $B_1$ and $B_2$, we can do</p>
$$ZA_1 + (1-Z)B_1 \le X \le ZA_2 + (1-Z)B_2.$$
</div>
</div>
</div>
<div class="cell border-box-sizing text_cell rendered"><div class="prompt input_prompt">
</div><div class="inner_cell">
<div class="text_cell_render border-box-sizing rendered_html">
<h2 id="Q2-(Portfolio-Optimization-with-Complex-Constraints)">Q2 (Portfolio Optimization with Complex Constraints)<a class="anchor-link" href="#Q2-(Portfolio-Optimization-with-Complex-Constraints)">&#182;</a></h2><p>Consider the following formulation of a portfolio optimization problem, <strong>use auxiliary decision variables to linearize the last four constraints.</strong></p>
<p><strong>Data:</strong></p>
<ul>
<li>$S$: the set of stocks.</li>
<li>$w_i$: the old weight of stock $i \in S$ before optimization. (The "weight" of a stock is % of total funds invested in the stock; weights of all stocks should add to one.)</li>
<li>$R_i$: the expected annual return of stock $i \in S$.</li>
<li>$C_{ij}$: the estimated covariance between stocks $i, j \in S$.</li>
<li>$\sigma_{target}$: the maximum volatility of the final portfolio.</li>
<li>$\Delta$: the total movement allowed between the old weights and the new weights.</li>
<li>$k$: the maximum # of stocks allowed in the portfolio.</li>
<li>$\epsilon$: the minimum non-zero weight allowed. </li>
<li>$\lambda$: penalty for different weights for stocks $1$, $2$ and $3$. </li>
</ul>
<p><strong>Decision variables:</strong></p>
<ul>
<li>$x_i$: the new weight of stock $i$. (Continuous)</li>
<li>$y$: variation of weights among stocks $1$, $2$ and $3$. (Continuous)</li>
</ul>
<p><strong>Formulation:</strong> All summations are over the set $S$ of stocks.</p>
$$\begin{aligned}
\text{Maximize:} &amp;&amp; \sum_{i} R_i x_i - \lambda y&amp; &amp;&amp; \text{(Average Return)}\\
\text{subject to:} \\
\text{(Valid weights)} &amp;&amp; \sum_i x_i &amp; = 1 \\
\text{(Risk tolerance)} &amp;&amp; \sum_{i,j} C_{ij}x_ix_j &amp; \le \sigma_{target}^2 \\
\text{(Change in weights)} &amp;&amp; \frac{1}{2} \sum_i \left|x_i - w_i \right| &amp; \le \Delta \\
\text{(Non-negligible weights)} &amp;&amp; \text{If $x_i&gt;0$ then } x_i &amp; \ge \epsilon &amp;&amp; \text{for each stock $i$.} \\
\text{(Simplicity)} &amp;&amp; (\# \text{ of stock $i$ with $x_i &gt; 0$}) &amp; \le k \\
\text{(Similar weights for stocks 1-3)} &amp;&amp; \max(x_1,x_2,x_3) - \min(x_1,x_2,x_3) &amp;\le y \\
&amp;&amp; x_i &amp; \ge 0 
\end{aligned}$$
</div>
</div>
</div>
<div class="cell border-box-sizing text_cell rendered"><div class="prompt input_prompt">
</div><div class="inner_cell">
<div class="text_cell_render border-box-sizing rendered_html">
<h3 id="Solution-to-Q2.">Solution to Q2.<a class="anchor-link" href="#Solution-to-Q2.">&#182;</a></h3><p><strong>Auxiliary decision variables:</strong></p>
<ul>
<li>$\delta_i$: the absolute difference between $x_i$ and $w_i$. (Continuous)</li>
<li>$z_i$: whether to have a non-zero weight on stock $i$. (Binary)</li>
<li>$u$: upper bound of $x_1$, $x_2$ and $x_3$.</li>
<li>$l$: lower bound of $x_1$, $x_2$ and $x_3$.</li>
</ul>
<p><strong>Linearized constraints:</strong></p>
$$\begin{aligned}
\text{(Change in weights 1)} &amp;&amp; x_i - w_i &amp;\le \delta_i &amp;&amp; \text{for each stock $i$.} \\
\text{(Change in weights 2)} &amp;&amp; -(x_i - w_i) &amp;\le \delta_i &amp;&amp; \text{for each stock $i$.} \\
\text{(Change in weights 3)} &amp;&amp; \frac{1}{2}\sum_i \delta_i &amp;\le \Delta &amp;&amp; \\
\text{(Non-negligible weights)} &amp;&amp; \epsilon z_i \le x_i &amp;\le z_i &amp;&amp; \text{for each stock $i$.}\\
\text{(Simplicity)} &amp;&amp; \sum_i z_i &amp; \le k \\
\text{(Similar weights 1)} &amp;&amp; l \le x_i &amp; \le u &amp;&amp;\text{for $i \in \{1,2,3\}$.}\\
\text{(Similar weights 2)} &amp;&amp; u - l &amp;\le y 
\end{aligned}$$<p>Note that the simplicity constraints can be expressed simply because we already have $x_i \le z_i$ from the previous constraint, which is equivalent to the Big M method linking the continuous variable $x_i$ with the binary variable $z_i$.</p>

</div>
</div>
</div>
<div class="cell border-box-sizing text_cell rendered"><div class="prompt input_prompt">
</div><div class="inner_cell">
<div class="text_cell_render border-box-sizing rendered_html">
<h2 id="3.--(Optional)-Special-Non-Linear-Constraints-Supported-in-Gurobi">3.  (Optional) Special Non-Linear Constraints Supported in Gurobi<a class="anchor-link" href="#3.--(Optional)-Special-Non-Linear-Constraints-Supported-in-Gurobi">&#182;</a></h2><p><strong>The following information will not be tested in any exam or quiz, but may be helpful for the final project.</strong></p>
<p>In the following table, $x$, $y$, $z$, and $w$ are decision variables. Moreover, the code assume that you have imported all of the functions.</p>
<div class="highlight"><pre><span></span><span class="kn">from</span> <span class="nn">gurobipy</span> <span class="kn">import</span> <span class="n">Model</span><span class="p">,</span> <span class="n">GRB</span><span class="p">,</span> <span class="n">max_</span><span class="p">,</span> <span class="n">min_</span><span class="p">,</span> <span class="n">abs_</span><span class="p">,</span> <span class="n">and_</span><span class="p">,</span> <span class="n">or_</span>
<span class="n">mod</span><span class="o">=</span><span class="n">Model</span><span class="p">()</span>
</pre></div>
<table>
<thead><tr>
<th>Non-linear relationship</th>
<th>Sample Constraint as Math Expression</th>
<th>Gurobi Command</th>
</tr>
</thead>
<tbody>
<tr>
<td>Maximum of arbitrary variables</td>
<td>$x=max(y,z,5)$</td>
<td><code>mod.addConstr(x==max_(y,z,5))</code></td>
</tr>
<tr>
<td>Minimum  of arbitrary variables</td>
<td>$x=min(y,z,5)$</td>
<td><code>mod.addConstr(x==min_(y,z,5))</code></td>
</tr>
<tr>
<td>Absolute value of arbitrary variables</td>
<td>$x=max(y,-y)$</td>
<td><code>mod.addConstr(x==abs_(y))</code></td>
</tr>
<tr>
<td>AND of binary variables</td>
<td>$x=min(y,z,w)$</td>
<td><code>mod.addConstr(x==and_(y,z,w))</code></td>
</tr>
<tr>
<td>OR of binary variables</td>
<td>$x=max(y,z,w)$</td>
<td><code>mod.addConstr(x==or_(y,z,w))</code></td>
</tr>
<tr>
<td>At most one (arbitrary variable) non-zero</td>
<td>$\mathbb{1}(x\ne 0)+\mathbb{1}(y \ne 0)+\mathbb{1}(z \ne 0) \le 1$</td>
<td><code>mod.addSOS(GRB.SOS_TYPE1,[x,y,z])</code></td>
</tr>
</tbody>
</table>

</div>
</div>
</div>
<div class="cell border-box-sizing text_cell rendered"><div class="prompt input_prompt">
</div><div class="inner_cell">
<div class="text_cell_render border-box-sizing rendered_html">
<p><strong>Example:</strong></p>

</div>
</div>
</div>
<div class="cell border-box-sizing code_cell rendered">
<div class="input">
<div class="prompt input_prompt">In&nbsp;[5]:</div>
<div class="inner_cell">
    <div class="input_area">
<div class=" highlight hl-ipython3"><pre><span></span><span class="kn">from</span> <span class="nn">gurobipy</span> <span class="k">import</span> <span class="n">Model</span><span class="p">,</span> <span class="n">GRB</span><span class="p">,</span> <span class="n">max_</span><span class="p">,</span> <span class="n">min_</span><span class="p">,</span> <span class="n">and_</span><span class="p">,</span> <span class="n">abs_</span>
<span class="n">mod</span><span class="o">=</span><span class="n">Model</span><span class="p">()</span>
<span class="n">x</span><span class="o">=</span><span class="n">mod</span><span class="o">.</span><span class="n">addVar</span><span class="p">(</span><span class="n">lb</span><span class="o">=-</span><span class="n">GRB</span><span class="o">.</span><span class="n">INFINITY</span><span class="p">)</span>
<span class="n">y</span><span class="o">=</span><span class="n">mod</span><span class="o">.</span><span class="n">addVar</span><span class="p">(</span><span class="n">lb</span><span class="o">=-</span><span class="n">GRB</span><span class="o">.</span><span class="n">INFINITY</span><span class="p">)</span>
<span class="n">z</span><span class="o">=</span><span class="n">mod</span><span class="o">.</span><span class="n">addVar</span><span class="p">()</span>
<span class="n">l</span><span class="o">=</span><span class="n">mod</span><span class="o">.</span><span class="n">addVar</span><span class="p">(</span><span class="n">lb</span><span class="o">=-</span><span class="n">GRB</span><span class="o">.</span><span class="n">INFINITY</span><span class="p">)</span>
<span class="n">a</span><span class="o">=</span><span class="n">mod</span><span class="o">.</span><span class="n">addVar</span><span class="p">()</span>
<span class="n">mod</span><span class="o">.</span><span class="n">addConstr</span><span class="p">(</span><span class="n">z</span><span class="o">==</span><span class="n">max_</span><span class="p">(</span><span class="n">x</span><span class="p">,</span><span class="mi">5</span><span class="p">,</span><span class="n">y</span><span class="p">))</span>
<span class="n">mod</span><span class="o">.</span><span class="n">addConstr</span><span class="p">(</span><span class="n">l</span><span class="o">==</span><span class="n">min_</span><span class="p">(</span><span class="n">x</span><span class="p">,</span><span class="n">y</span><span class="p">))</span>
<span class="n">mod</span><span class="o">.</span><span class="n">addConstr</span><span class="p">(</span><span class="n">z</span><span class="o">&lt;=</span><span class="n">l</span><span class="o">+</span><span class="mi">5</span><span class="p">)</span>
<span class="n">mod</span><span class="o">.</span><span class="n">addConstr</span><span class="p">(</span><span class="n">a</span><span class="o">==</span><span class="n">abs_</span><span class="p">(</span><span class="n">y</span><span class="p">))</span>
<span class="n">mod</span><span class="o">.</span><span class="n">addSOS</span><span class="p">(</span><span class="n">GRB</span><span class="o">.</span><span class="n">SOS_TYPE1</span><span class="p">,</span> <span class="p">[</span><span class="n">x</span><span class="p">,</span><span class="n">y</span><span class="p">])</span>
<span class="n">mod</span><span class="o">.</span><span class="n">setObjective</span><span class="p">(</span><span class="n">z</span><span class="o">-</span><span class="n">l</span><span class="o">-</span><span class="n">a</span><span class="p">,</span><span class="n">sense</span><span class="o">=</span><span class="n">GRB</span><span class="o">.</span><span class="n">MAXIMIZE</span><span class="p">)</span>
<span class="n">mod</span><span class="o">.</span><span class="n">optimize</span><span class="p">()</span>
<span class="nb">print</span><span class="p">(</span><span class="s1">&#39;</span><span class="se">\n</span><span class="s1">Objective&#39;</span><span class="p">,</span><span class="n">mod</span><span class="o">.</span><span class="n">objval</span><span class="p">)</span>
<span class="nb">print</span><span class="p">(</span><span class="n">f</span><span class="s1">&#39;x=</span><span class="si">{x.x}</span><span class="s1"> y=</span><span class="si">{y.x}</span><span class="s1"> z=</span><span class="si">{z.x}</span><span class="s1"> l=</span><span class="si">{l.x}</span><span class="s1"> a=</span><span class="si">{a.x}</span><span class="s1">&#39;</span><span class="p">)</span>
</pre></div>

    </div>
</div>
</div>

<div class="output_wrapper">
<div class="output">


<div class="output_area">

    <div class="prompt"></div>


<div class="output_subarea output_stream output_stdout output_text">
<pre>Optimize a model with 1 rows, 5 columns and 2 nonzeros
Model has 1 SOS constraint
Model has 3 general constraints
Variable types: 5 continuous, 0 integer (0 binary)
Coefficient statistics:
  Matrix range     [1e+00, 1e+00]
  Objective range  [1e+00, 1e+00]
  Bounds range     [0e+00, 0e+00]
  RHS range        [5e+00, 5e+00]
Presolve added 6 rows and 6 columns
Presolve time: 0.00s
Presolved: 7 rows, 11 columns, 19 nonzeros
Presolved model has 4 SOS constraint(s)
Variable types: 7 continuous, 4 integer (4 binary)

Root relaxation: objective 5.000000e+00, 5 iterations, 0.00 seconds

    Nodes    |    Current Node    |     Objective Bounds      |     Work
 Expl Unexpl |  Obj  Depth IntInf | Incumbent    BestBd   Gap | It/Node Time

     0     0    5.00000    0    1          -    5.00000      -     -    0s
H    0     0                       5.0000000    5.00000  0.00%     -    0s

Explored 1 nodes (5 simplex iterations) in 0.03 seconds
Thread count was 4 (of 4 available processors)

Solution count 1: 5 

Optimal solution found (tolerance 1.00e-04)
Best objective 5.000000000000e+00, best bound 5.000000000000e+00, gap 0.0000%

Objective 5.0
x=5.0 y=0.0 z=5.0 l=0.0 a=0.0
</pre>
</div>
</div>

</div>
</div>

</div>
 


    </div>
  </div>

  </div>


  
    <footer class="footer hidden-print">
      <div class="container">
        <div class="col-md-4">
          <p>
            This website does not host notebooks, it only renders notebooks
            available on other websites.
          </p>
        </div>

        <div class="col-md-4">
          <p>
            Delivered by <a href="http://www.fastly.com/">Fastly</a>,
            Rendered by <a href="https://developer.rackspace.com/?nbviewer=awesome">Rackspace</a>
          </p>
          <p>
            nbviewer GitHub <a href="https://github.com/jupyter/nbviewer">repository</a>.
          </p>
        </div>

        <div class="col-md-4">
          
  
            
              <p>
                nbviewer version:
                <a href="https://github.com/jupyter/nbviewer/commit/f69705373d1402afd924a77712e7c63659e2b57f">
                  f697053
                </a>
              </p>
            
          
  
  <p>
    nbconvert version: <a href="https://github.com/jupyter/nbconvert/releases/tag/5.4.1">
      5.4.1
    </a>
  </p>
  

          
  
  
  <p>
    Rendered
    <span class='date' data-date='Thu, 02 May 2019 02:58:01 UTC' title='Thu, 02 May 2019 02:58:01 UTC'>(Thu, 02 May 2019 02:58:01 UTC)</span>
  </p>
  

        </div>
      </div>
    </footer>
  

  <script src="/static/components/bootstrap/js/bootstrap.min.js?v=5869c96cc8f19086aee625d670d741f9"></script>
  <script src="/static/components/headroom.js/dist/headroom.min.js?v=b0a311ea668f8e768ea375f4a7abb81c"></script>
  <script src="/static/components/headroom.js/dist/jQuery.headroom.min.js?v=f3a1bae118315d0c234afc74dc6aab71"></script>

  
  
  <script>
    $(function(){ $("#menubar").headroom({
      tolerance: 5,
      offset: 205,
      classes: {
        initial: "animated",
        pinned: "slideInDown",
        unpinned: "slideOutUp"
      }
    })});
  </script>


  
  <script>
    (function(i,s,o,g,r,a,m){i['GoogleAnalyticsObject']=r;i[r]=i[r]||function(){
      (i[r].q=i[r].q||[]).push(arguments)},i[r].l=1*new Date();a=s.createElement(o),
      m=s.getElementsByTagName(o)[0];a.async=1;a.src=g;m.parentNode.insertBefore(a,m)
    })(window,document,'script','https://www.google-analytics.com/analytics.js','ga');
    ga('create', 'UA-52617120-5', 'auto',
       {'storage': 'none'});
    ga('set', 'anonymizeIp', true);
    ga('send', 'pageview');
  </script>
  
  <script>
    require({
        paths: {
          moment: "/static/components/moment/min/moment.min.js?v=89f87298ad94aa1e6b92f42eb66da043"
        }
      }, ["moment"], function(moment){
      var date = $("footer .date"),
        m = moment(new Date(date.data('date'))),
        update = function(){ date.text(m.fromNow()); };
      setInterval(update, 61*1000);
      update();
      var w = $(window).scroll(function(event){
        $("body").toggleClass("scrolled", w.scrollTop() > 0);
      });
    });
  </script>

  <!--NEW RELIC Stop Perf Measurement-->
  
  <!--NEW RELIC End-->
</body>
</html>