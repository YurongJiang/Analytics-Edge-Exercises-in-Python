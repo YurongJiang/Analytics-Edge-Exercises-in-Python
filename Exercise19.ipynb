








<!DOCTYPE html>
<html lang="en">

<head>
  <meta charset="utf-8">
  <title>Jupyter Notebook Viewer</title>
  <meta name="viewport" content="width=device-width, initial-scale=1.0">
  <meta name="description" content="">
  <meta name="author" content="">
  
  <meta name="robots" content="noindex,nofollow">
  

  <!--NEW RELIC Start Perf Measurement-->
  
  <!--NREND-->

  <!-- Le styles -->
  <link href="/static/build/styles.css?v=55ba354138253381d2c0ada9821cd4da" rel="stylesheet">

  <!-- Le HTML5 shim, for IE6-8 support of HTML5 elements -->
  <!--[if lt IE 9]>
    <script src="http://html5shim.googlecode.com/svn/trunk/html5.js"></script>
  <![endif]-->

  <!-- Le fav and touch icons -->
  <link rel="shortcut icon" href="/static/ico/ipynb_icon_16x16.png">
  <link rel="apple-touch-icon-precomposed" sizes="144x144"
        href="/static/ico/apple-touch-icon-144-precomposed.png?v=5a3c9ede93e2a8b8ea9e3f8f3da1a905">
  <link rel="apple-touch-icon-precomposed" sizes="114x114"
        href="/static/ico/apple-touch-icon-114-precomposed.png?v=45d86fc8f24dc00638035e1dd7a6d898">
  <link rel="apple-touch-icon-precomposed" sizes="72x72"
        href="/static/ico/apple-touch-icon-72-precomposed.png?v=540b5eb0f3cfd25f1439d1c9bd30e15f">
  <link rel="apple-touch-icon-precomposed"
        href="/static/ico/apple-touch-icon-57-precomposed.png?v=225f0590e187e1458625654f10a28f56">
  
  

  

  
  <meta name="twitter:card" content="summary">
  <meta name="twitter:title" content="Notebook on nbviewer">
  <meta name="twitter:description" content="Check out this Jupyter notebook!">

  
  <meta name="twitter:domain" content="nbviewer.jupyter.org">
  <meta name="twitter:image:src" content="http://ipython.org/ipython-doc/dev/_images/ipynb_icon_128x128.png">

  
    <link href="/static/build/notebook.css?v=aae8f92f7e80fc468ae446b9d852fe90" rel="stylesheet">
  

  

  
    <script src="https://cdnjs.cloudflare.com/ajax/libs/mathjax/2.7.1/MathJax.js?config=TeX-AMS_HTML" type="text/javascript">
    </script>
    <script type="text/javascript">
      init_mathjax = function() {
        if (window.MathJax) {
          // MathJax loaded
          MathJax.Hub.Config({
            TeX: {
              equationNumbers: {
                autoNumber: "AMS",
                useLabelIds: true
              }
            },
            tex2jax: {
              inlineMath: [ ['$','$'], ["\\(","\\)"] ],
              displayMath: [ ['$$','$$'], ["\\[","\\]"] ],
              processEscapes: true,
              processEnvironments: true
            },
            displayAlign: 'center',
            "HTML-CSS": {
              styles: {'.MathJax_Display': {"margin": 0}},
              linebreaks: { automatic: true }
            }
          });
          MathJax.Hub.Queue(["Typeset", MathJax.Hub]);
        }
      }
      init_mathjax();
    </script>
  

  
    <script>
      (function() {
        function addWidgetsRenderer() {
          var mimeElement = document.querySelector('script[type="application/vnd.jupyter.widget-view+json"]');
          var scriptElement = document.createElement('script');
          var widgetRendererSrc = 'https://unpkg.com/@jupyter-widgets/html-manager@0.15/dist/embed-amd.js';
          var widgetState;

          try {
            widgetState = mimeElement && JSON.parse(mimeElement.innerHTML);

            if (widgetState && (widgetState.version_major < 2 || !widgetState.version_major)) {
              widgetRendererSrc = 'https://unpkg.com/jupyter-js-widgets@2.1/dist/embed.js';
            }
          } catch(e) {}

          scriptElement.src = widgetRendererSrc;
          document.body.appendChild(scriptElement);
        }

        document.addEventListener('DOMContentLoaded', addWidgetsRenderer);
      }());
    </script>
  

</head>

<body class="nbviewer">

  <!-- These are loaded at the top of the body so they are available to
       notebook cells when they are loaded below. -->
  <script src="/static/components/jquery/dist/jquery.min.js?v=a09e13ee94d51c524b7e2a728c7d4039"></script>
  <script src="/static/components/requirejs/require.js?v=6da8be361b9ee26c5e721e76c6d4afce"></script>
  <script src="/static/components/moment/min/moment.min.js?v=89f87298ad94aa1e6b92f42eb66da043"></script>
<!-- Navbar
================================================== -->
  <nav id="menubar" class="navbar navbar-default navbar-fixed-top" data-spy="affix">
    <div class="container">
      <div class="navbar-header">
        <button type="button" class="navbar-toggle collapsed" data-toggle="collapse" data-target=".navbar-collapse">
          <span class="sr-only">Toggle navigation</span>
          <i class="fa fa-bars"></i>
        </button>
        <a class="navbar-brand" href="/">
          <img src="/static/img/nav_logo.svg?v=479cefe8d932fb14a67b93911b97d70f" width="159"/>
        </a>
      </div>

      <div class="collapse navbar-collapse">
        <ul class="nav navbar-nav navbar-right">
          <li>
            <a class="active" href="http://jupyter.org">JUPYTER</a>
          </li>
          <li>
    <a href="/faq" title="FAQ" >
      
        <span>FAQ</span>
      
    </a>
  </li>

          
  
    
  
    
      
        <li>
    <a href="/format/script/github/pengshi-usc/usc-dso-570/blob/master/Handouts%20and%20Notes/19-Handout-Solutions.ipynb" title="View as Code" >
      <span class="fa fa-code fa-2x menu-icon"></span>
      <span class="menu-text">View as Code</span>
    </a>
  </li>
      
    
  

  
    <li>
    <a href="#" title="Python 3 Kernel" >
      <span class="fa fa-server fa-2x menu-icon"></span>
      <span class="menu-text">Python 3 Kernel</span>
    </a>
  </li>
  

  
    <li>
    <a href="https://github.com/pengshi-usc/usc-dso-570/blob/master/Handouts%20and%20Notes/19-Handout-Solutions.ipynb" title="View on GitHub" >
      <span class="fa fa-github fa-2x menu-icon"></span>
      <span class="menu-text">View on GitHub</span>
    </a>
  </li>
  

  
    <li>
    <a href="https://mybinder.org/v2/gh/pengshi-usc/usc-dso-570/master?filepath=Handouts%20and%20Notes/19-Handout-Solutions.ipynb" title="Execute on Binder" >
      <span class="fa fa-icon-binder fa-2x menu-icon"></span>
      <span class="menu-text">Execute on Binder</span>
    </a>
  </li>
  

  <li>
    <a href="https://raw.githubusercontent.com/pengshi-usc/usc-dso-570/master/Handouts%20and%20Notes/19-Handout-Solutions.ipynb" title="Download Notebook" download>
      <span class="fa fa-download fa-2x menu-icon"></span>
      <span class="menu-text">Download Notebook</span>
    </a>
  </li>

        </ul>
      </div><!-- /.navbar-collapse -->
      
      
    </div>
  </nav>

  <div class="container container-main">
    
  
  <ol class="breadcrumb">
    
      <li>
        <a href="/github/pengshi-usc/usc-dso-570/tree/master">usc-dso-570</a>
      </li>
    
      <li>
        <a href="/github/pengshi-usc/usc-dso-570/tree/master/Handouts and Notes">Handouts and Notes</a>
      </li>
    
  </ol>
  
  <div id="notebook">
    <div id="notebook-container">
      
<div class="cell border-box-sizing text_cell rendered"><div class="prompt input_prompt">
</div><div class="inner_cell">
<div class="text_cell_render border-box-sizing rendered_html">
<h1 id="Session-19:-Optimization-Modeling-I-(Concrete-Formulation)-Solutions">Session 19: Optimization Modeling I (Concrete Formulation) Solutions<a class="anchor-link" href="#Session-19:-Optimization-Modeling-I-(Concrete-Formulation)-Solutions">&#182;</a></h1><p>Formulate each of the following optimization problems as a LP or a MIP.</p>
<h2 id="Q1-(Assortment-Planning)">Q1 (Assortment Planning)<a class="anchor-link" href="#Q1-(Assortment-Planning)">&#182;</a></h2><p>Amazon.com is expanding its business by launching a physical store in West LA. As the manager, you need to select which bestsellers to carry at the store’s grand opening. The following table provides the list of Top 10 Bestsellers in Literature &amp; Fiction, along with their genres. Note that some bestsellers belong to more than one genre.</p>
<table>
<thead><tr>
<th style="text-align:left">Rank \ Genre</th>
<th>Literary</th>
<th>Sci-Fi</th>
<th>Romance</th>
<th>Thriller</th>
</tr>
</thead>
<tbody>
<tr>
<td style="text-align:left">1</td>
<td>√</td>
<td><code></code></td>
<td><code></code></td>
<td><code></code></td>
</tr>
<tr>
<td style="text-align:left">2</td>
<td><code></code></td>
<td>√</td>
<td><code></code></td>
<td>√</td>
</tr>
<tr>
<td style="text-align:left">3</td>
<td><code></code></td>
<td><code></code></td>
<td>√</td>
<td>√</td>
</tr>
<tr>
<td style="text-align:left">4</td>
<td>√</td>
<td><code></code></td>
<td>√</td>
<td><code></code></td>
</tr>
<tr>
<td style="text-align:left">5</td>
<td>√</td>
<td><code></code></td>
<td><code></code></td>
<td><code></code></td>
</tr>
<tr>
<td style="text-align:left">6</td>
<td><code></code></td>
<td><code></code></td>
<td>√</td>
<td><code></code></td>
</tr>
<tr>
<td style="text-align:left">7</td>
<td><code></code></td>
<td>√</td>
<td><code></code></td>
<td><code></code></td>
</tr>
<tr>
<td style="text-align:left">8</td>
<td><code></code></td>
<td><code></code></td>
<td><code></code></td>
<td>√</td>
</tr>
<tr>
<td style="text-align:left">9</td>
<td>√</td>
<td>√</td>
<td><code></code></td>
<td><code></code></td>
</tr>
<tr>
<td style="text-align:left">10</td>
<td><code></code></td>
<td><code></code></td>
<td>√</td>
<td><code></code></td>
</tr>
</tbody>
</table>
<p>You wish to carry the minimum number of bestsellers, while ensuring that there are at least two bestsellers in each genre. Formulate this as an optimization problem.</p>
<h3 id="Step-1.-Identify-the-decision,-objective,-and-constraints-in-English">Step 1. Identify the decision, objective, and constraints in English<a class="anchor-link" href="#Step-1.-Identify-the-decision,-objective,-and-constraints-in-English">&#182;</a></h3><p><strong>Decision:</strong> Which bestsellers to carry.</p>
<p><strong>Objective:</strong> Minimize the total number of bestsellers carried.</p>
<p><strong>Constraints:</strong> For each of the four genres, we need to carry at least two books of that genre. In other words, for each genre,
$$\text{# of books carried of this genre} \ge 2 $$</p>
<h3 id="Step-2.-Formulate-the-optimization-as-linear-expressions-of-decision-variables">Step 2. Formulate the optimization as linear expressions of decision variables<a class="anchor-link" href="#Step-2.-Formulate-the-optimization-as-linear-expressions-of-decision-variables">&#182;</a></h3><p><strong>Decision variables:</strong>
Let $x_i$ be a binary decision variable denoting whether to carry book $i$, where $i \in \{1, 2, \cdots, 10\}$. ($x_i=1$ if we carry the book, and $x_i=0$ otherwise.)</p>
<p><strong>Objective:</strong>
$$\text{Maximize: } x_1+x_2+\cdots+x_{10}.$$</p>
<p><strong>Constraints:</strong></p>
$$\begin{aligned}
\text{(Literary)} &amp;&amp; x_1+x_4+x_5+x_9 &amp; \ge 2\\
\text{(Sci-Fi)} &amp;&amp; x_2 + x_7 + x_9 &amp; \ge 2\\
\text{(Romance)} &amp;&amp; x_3 + x_4 + x_6 + x_{10} &amp; \ge 2 \\
\text{(Thriller)} &amp;&amp; x_2+x_3+x_8 &amp; \ge 2
\end{aligned}$$
</div>
</div>
</div>
<div class="cell border-box-sizing text_cell rendered"><div class="prompt input_prompt">
</div><div class="inner_cell">
<div class="text_cell_render border-box-sizing rendered_html">
<h2 id="Q2-(Warehouse-Planning)">Q2 (Warehouse Planning)<a class="anchor-link" href="#Q2-(Warehouse-Planning)">&#182;</a></h2><p>The following table provides the shipping cost for one-pound packages, from 7 of Amazon’s fulfillment centers (FC) to 4 regions.</p>
<table>
<thead><tr>
<th>Region</th>
<th>1</th>
<th>2</th>
<th>3</th>
<th>4</th>
<th>5</th>
<th>6</th>
<th>7</th>
</tr>
</thead>
<tbody>
<tr>
<td>A. Kings County, NY</td>
<td>20.25</td>
<td>7.70</td>
<td>24.59</td>
<td>23.26</td>
<td>7.69</td>
<td>7.70</td>
<td>7.69</td>
</tr>
<tr>
<td>B. Los Angeles County, CA</td>
<td>18.43</td>
<td>23.30</td>
<td>7.69</td>
<td>7.69</td>
<td>24.16</td>
<td>22.12</td>
<td>24.91</td>
</tr>
<tr>
<td>C. King County, WA</td>
<td>21.28</td>
<td>24.18</td>
<td>7.70</td>
<td>17.67</td>
<td>23.91</td>
<td>22.98</td>
<td>24.57</td>
</tr>
<tr>
<td>D. Harris County, TX</td>
<td>7.69</td>
<td>7.70</td>
<td>18.73</td>
<td>7.71</td>
<td>18.79</td>
<td>7.70</td>
<td>19.47</td>
</tr>
</tbody>
</table>
<p>A shipping cost of $10 or less indicates that the package will be transported via ground shipping; otherwise, it will be transported via air shipping.</p>
<p>For a certain item that weights a pound, Amazon would like to stock it in as few FCs as possible, while guaranteeing that it can fulfill demand in all 4 regions via ground shipping. Moreover,</p>
<ul>
<li>the item must be stocked in at least one of FCs 5 or 7;</li>
<li>the item cannot be stocked in FC 4 unless it is also stocked in FC 1; </li>
<li>if the item is stocked in FC 2, then it cannot also be stocked in FC 3. </li>
</ul>
<p>Formulate an optimization problem to find the minimum number of FCs needed.</p>
<h3 id="Step-1.-Identify-the-decision,-objective,-and-constraints-in-English">Step 1. Identify the decision, objective, and constraints in English<a class="anchor-link" href="#Step-1.-Identify-the-decision,-objective,-and-constraints-in-English">&#182;</a></h3><p><strong>Decision:</strong> Determine whether to use each of the 7 FCs to stock the item.</p>
<p><strong>Objective:</strong> Minimize the number of FCs used.</p>
<p><strong>Constraints:</strong></p>
<ul>
<li>For each of the 4 regions, there is at least one FC selected that can ship to the region using ground shipping. In other words, for each region, 
$$\text{(# of FCs used that can ship to the region in under 10 dollars)} \ge 1$$</li>
<li>One of FC5 and FC7 must be used.</li>
<li>FC4 is not used unless FC1 is used.</li>
<li>FC2 and FC3 cannot be both used.</li>
</ul>
<h3 id="Step-2.-Formulate-the-optimization-as-linear-expressions-of-decision-variables">Step 2. Formulate the optimization as linear expressions of decision variables<a class="anchor-link" href="#Step-2.-Formulate-the-optimization-as-linear-expressions-of-decision-variables">&#182;</a></h3><p><strong>Decision Variables:</strong> Let $X_1, \cdots X_7$ denote whether to use each FC. (binary)</p>
<p><strong>Objective and constraints:</strong></p>
$$\begin{aligned}
\text{Min.} &amp;&amp; X_1+X_2+\cdots+X_7 \\
\text{s.t.} &amp;&amp; X_2+X_5+X_6+X_7 &amp; \ge 1\\
&amp;&amp; X_3+X_4 &amp; \ge 1\\
&amp;&amp; X_3 &amp; \ge 1 \\
&amp;&amp; X_1+X_2+X_4+X_6 &amp; \ge 1 \\
&amp;&amp; X_5 + X_7 &amp; \ge 1\\
&amp;&amp; X_4 &amp;\le X_1 \\
&amp;&amp; X_2+X_3 &amp; \le 1
\end{aligned}$$
</div>
</div>
</div>
<div class="cell border-box-sizing text_cell rendered"><div class="prompt input_prompt">
</div><div class="inner_cell">
<div class="text_cell_render border-box-sizing rendered_html">
<h2 id="Q3-(Investment-Planning)">Q3 (Investment Planning)<a class="anchor-link" href="#Q3-(Investment-Planning)">&#182;</a></h2><p>Finco Investment Corporation wishes to determine an investment strategy for the firm for the next 3 years. At present (Year 0), $100,000$ is available for investment. The goal is to maximize the cash on hand at the end of Year 3.</p>
<p>There are five investment options, each of which allows you to put in an arbitrary amount of principal at a given time, and will payoff a certain percentage of the principal at a later time. (The payoff includes all of the money you will get back; you won't get back the principal at a later time.) The five options are summarized below:</p>
<table>
<thead><tr>
<th>Investment option</th>
<th>Time of investment</th>
<th>Payoff schedule</th>
</tr>
</thead>
<tbody>
<tr>
<td>A</td>
<td>Year 0</td>
<td>50\% in Year 1 and 100\% in Year 2</td>
</tr>
<tr>
<td>B</td>
<td>Year 1</td>
<td>50\% in Year 2 and 100\% in Year 3</td>
</tr>
<tr>
<td>C</td>
<td>Year 0</td>
<td>120\% in Year 1</td>
</tr>
<tr>
<td>D</td>
<td>Year 0</td>
<td>190\% in Year 3</td>
</tr>
<tr>
<td>E</td>
<td>Year 2</td>
<td>150\% in Year 3</td>
</tr>
</tbody>
</table>
<p>To ensure that the company’s portfolio is diversified, Finco required that at most \$75,000 be placed in any single investment option. Payoffs happen at the beginning of the year, so can be reinvested in the same year. For example, the positive cash flow received from Option C in Year 1 can be reinvested immediately in Option B. However, Finco cannot borrow funds, so net cash on hand must be non-negative in all years. Formulate this as an optimization problem.</p>
<h3 id="Step-1.-Identify-the-decision,-objective,-and-constraints-in-English">Step 1. Identify the decision, objective, and constraints in English<a class="anchor-link" href="#Step-1.-Identify-the-decision,-objective,-and-constraints-in-English">&#182;</a></h3><p><strong>Decision:</strong> How much to invest in each of the five options?</p>
<p><strong>Objective:</strong> Maximize cash at hand at the end of year 3.</p>
<p><strong>Constraints:</strong></p>
<ul>
<li>Cash flow: Cash at end of a year is equal to cash at beginning plus returns minus investments. (4 constraints, one for each year)</li>
<li>Amount invested in each option is no more than 75000.</li>
</ul>
<h3 id="Step-2.-Formulate-the-optimization-as-linear-expressions-of-decision-variables">Step 2. Formulate the optimization as linear expressions of decision variables<a class="anchor-link" href="#Step-2.-Formulate-the-optimization-as-linear-expressions-of-decision-variables">&#182;</a></h3><p><strong>Decision Variables:</strong></p>
<ul>
<li>Let $x_A, x_B, x_C, x_D, x_E$ denote how much to invest in each of the five options. (continuous)</li>
<li>Let $y_0,y_1,y_2,y_3$ denote the cash at hand at the end of each year. (Continuous)</li>
</ul>
<p><strong>Objective and constraints:</strong></p>
$$\begin{aligned}
\text{Maximize:} &amp;&amp; y_3 \\
\text{subject to:} \\
\text{(Limit on investment)} &amp;&amp; x_A, x_B, x_C, x_D, x_E &amp; \le 75000 \\
\text{(Cash flow in year 0)} &amp;&amp; 10000 - x_A-x_C-x_D &amp;= y_0 \\
\text{(Cash flow in year 1)} &amp;&amp; y_0 + 0.5x_A + 1.2x_C - x_B &amp;= y_1 \\
\text{(Cash flow in year 2)} &amp;&amp; y_1 + x_A + 0.5x_B - x_E &amp;= y_2 \\
\text{(Cash flow in year 3)} &amp;&amp; y_2 + x_B + 1.9x_D + 1.5x_E &amp;= y3\\
\text{(Non-negative investments)} &amp;&amp; x_A, x_B, x_C, x_D, x_E &amp; \ge 0 \\
\text{(Non-negative cash flow)} &amp;&amp; y_0, y_1, y_2, y_3 &amp; \ge 0
\end{aligned}$$
</div>
</div>
</div>
<div class="cell border-box-sizing text_cell rendered"><div class="prompt input_prompt">
</div><div class="inner_cell">
<div class="text_cell_render border-box-sizing rendered_html">
<h2 id="(Optional)-Solve-Numerically-in-Gurobi">(Optional) Solve Numerically in Gurobi<a class="anchor-link" href="#(Optional)-Solve-Numerically-in-Gurobi">&#182;</a></h2>
</div>
</div>
</div>
<div class="cell border-box-sizing code_cell rendered">
<div class="input">
<div class="prompt input_prompt">In&nbsp;[12]:</div>
<div class="inner_cell">
    <div class="input_area">
<div class=" highlight hl-ipython3"><pre><span></span><span class="kn">from</span> <span class="nn">gurobipy</span> <span class="k">import</span> <span class="n">Model</span><span class="p">,</span> <span class="n">GRB</span>
<span class="n">I</span><span class="o">=</span><span class="nb">range</span><span class="p">(</span><span class="mi">1</span><span class="p">,</span><span class="mi">11</span><span class="p">)</span>
<span class="n">mod</span><span class="o">=</span><span class="n">Model</span><span class="p">()</span>
<span class="n">x</span><span class="o">=</span><span class="n">mod</span><span class="o">.</span><span class="n">addVars</span><span class="p">(</span><span class="n">I</span><span class="p">,</span><span class="n">vtype</span><span class="o">=</span><span class="n">GRB</span><span class="o">.</span><span class="n">BINARY</span><span class="p">)</span>
<span class="n">mod</span><span class="o">.</span><span class="n">setObjective</span><span class="p">(</span><span class="nb">sum</span><span class="p">(</span><span class="n">x</span><span class="p">[</span><span class="n">i</span><span class="p">]</span> <span class="k">for</span> <span class="n">i</span> <span class="ow">in</span> <span class="n">I</span><span class="p">))</span>
<span class="n">mod</span><span class="o">.</span><span class="n">addConstr</span><span class="p">(</span><span class="n">x</span><span class="p">[</span><span class="mi">1</span><span class="p">]</span><span class="o">+</span><span class="n">x</span><span class="p">[</span><span class="mi">4</span><span class="p">]</span><span class="o">+</span><span class="n">x</span><span class="p">[</span><span class="mi">5</span><span class="p">]</span><span class="o">+</span><span class="n">x</span><span class="p">[</span><span class="mi">9</span><span class="p">]</span><span class="o">&gt;=</span><span class="mi">2</span><span class="p">)</span>
<span class="n">mod</span><span class="o">.</span><span class="n">addConstr</span><span class="p">(</span><span class="n">x</span><span class="p">[</span><span class="mi">2</span><span class="p">]</span><span class="o">+</span><span class="n">x</span><span class="p">[</span><span class="mi">7</span><span class="p">]</span><span class="o">+</span><span class="n">x</span><span class="p">[</span><span class="mi">9</span><span class="p">]</span><span class="o">&gt;=</span><span class="mi">2</span><span class="p">)</span>
<span class="n">mod</span><span class="o">.</span><span class="n">addConstr</span><span class="p">(</span><span class="n">x</span><span class="p">[</span><span class="mi">3</span><span class="p">]</span><span class="o">+</span><span class="n">x</span><span class="p">[</span><span class="mi">4</span><span class="p">]</span><span class="o">+</span><span class="n">x</span><span class="p">[</span><span class="mi">6</span><span class="p">]</span><span class="o">+</span><span class="n">x</span><span class="p">[</span><span class="mi">10</span><span class="p">]</span><span class="o">&gt;=</span><span class="mi">2</span><span class="p">)</span>
<span class="n">mod</span><span class="o">.</span><span class="n">addConstr</span><span class="p">(</span><span class="n">x</span><span class="p">[</span><span class="mi">2</span><span class="p">]</span><span class="o">+</span><span class="n">x</span><span class="p">[</span><span class="mi">3</span><span class="p">]</span><span class="o">+</span><span class="n">x</span><span class="p">[</span><span class="mi">8</span><span class="p">]</span><span class="o">&gt;=</span><span class="mi">2</span><span class="p">)</span>
<span class="n">mod</span><span class="o">.</span><span class="n">setParam</span><span class="p">(</span><span class="s1">&#39;outputflag&#39;</span><span class="p">,</span><span class="kc">False</span><span class="p">)</span>
<span class="n">mod</span><span class="o">.</span><span class="n">optimize</span><span class="p">()</span>
<span class="nb">print</span><span class="p">(</span><span class="s1">&#39;Solution for Q1: carry book &#39;</span><span class="p">,</span><span class="n">end</span><span class="o">=</span><span class="s1">&#39;&#39;</span><span class="p">)</span>
<span class="k">for</span> <span class="n">i</span> <span class="ow">in</span> <span class="n">I</span><span class="p">:</span>
    <span class="k">if</span> <span class="n">x</span><span class="p">[</span><span class="n">i</span><span class="p">]</span><span class="o">.</span><span class="n">x</span><span class="o">&gt;</span><span class="mi">0</span><span class="p">:</span>
        <span class="nb">print</span><span class="p">(</span><span class="n">i</span><span class="p">,</span><span class="n">end</span><span class="o">=</span><span class="s1">&#39; &#39;</span><span class="p">)</span>
</pre></div>

    </div>
</div>
</div>

<div class="output_wrapper">
<div class="output">


<div class="output_area">

    <div class="prompt"></div>


<div class="output_subarea output_stream output_stdout output_text">
<pre>Solution for Q1: carry book 2 3 4 9 </pre>
</div>
</div>

</div>
</div>

</div>
<div class="cell border-box-sizing code_cell rendered">
<div class="input">
<div class="prompt input_prompt">In&nbsp;[11]:</div>
<div class="inner_cell">
    <div class="input_area">
<div class=" highlight hl-ipython3"><pre><span></span><span class="kn">from</span> <span class="nn">gurobipy</span> <span class="k">import</span> <span class="n">Model</span><span class="p">,</span> <span class="n">GRB</span>
<span class="n">I</span><span class="o">=</span><span class="nb">range</span><span class="p">(</span><span class="mi">1</span><span class="p">,</span><span class="mi">8</span><span class="p">)</span>
<span class="n">mod</span><span class="o">=</span><span class="n">Model</span><span class="p">()</span>
<span class="n">x</span><span class="o">=</span><span class="n">mod</span><span class="o">.</span><span class="n">addVars</span><span class="p">(</span><span class="n">I</span><span class="p">,</span><span class="n">vtype</span><span class="o">=</span><span class="n">GRB</span><span class="o">.</span><span class="n">BINARY</span><span class="p">)</span>
<span class="n">mod</span><span class="o">.</span><span class="n">setObjective</span><span class="p">(</span><span class="nb">sum</span><span class="p">(</span><span class="n">x</span><span class="p">[</span><span class="n">i</span><span class="p">]</span> <span class="k">for</span> <span class="n">i</span> <span class="ow">in</span> <span class="n">I</span><span class="p">))</span>
<span class="n">mod</span><span class="o">.</span><span class="n">addConstr</span><span class="p">(</span><span class="n">x</span><span class="p">[</span><span class="mi">2</span><span class="p">]</span><span class="o">+</span><span class="n">x</span><span class="p">[</span><span class="mi">5</span><span class="p">]</span><span class="o">+</span><span class="n">x</span><span class="p">[</span><span class="mi">6</span><span class="p">]</span><span class="o">+</span><span class="n">x</span><span class="p">[</span><span class="mi">7</span><span class="p">]</span><span class="o">&gt;=</span><span class="mi">1</span><span class="p">)</span>
<span class="n">mod</span><span class="o">.</span><span class="n">addConstr</span><span class="p">(</span><span class="n">x</span><span class="p">[</span><span class="mi">3</span><span class="p">]</span><span class="o">+</span><span class="n">x</span><span class="p">[</span><span class="mi">4</span><span class="p">]</span><span class="o">&gt;=</span><span class="mi">1</span><span class="p">)</span>
<span class="n">mod</span><span class="o">.</span><span class="n">addConstr</span><span class="p">(</span><span class="n">x</span><span class="p">[</span><span class="mi">3</span><span class="p">]</span><span class="o">&gt;=</span><span class="mi">1</span><span class="p">)</span>
<span class="n">mod</span><span class="o">.</span><span class="n">addConstr</span><span class="p">(</span><span class="n">x</span><span class="p">[</span><span class="mi">1</span><span class="p">]</span><span class="o">+</span><span class="n">x</span><span class="p">[</span><span class="mi">2</span><span class="p">]</span><span class="o">+</span><span class="n">x</span><span class="p">[</span><span class="mi">4</span><span class="p">]</span><span class="o">+</span><span class="n">x</span><span class="p">[</span><span class="mi">6</span><span class="p">]</span><span class="o">&gt;=</span><span class="mi">1</span><span class="p">)</span>
<span class="n">mod</span><span class="o">.</span><span class="n">addConstr</span><span class="p">(</span><span class="n">x</span><span class="p">[</span><span class="mi">5</span><span class="p">]</span><span class="o">+</span><span class="n">x</span><span class="p">[</span><span class="mi">7</span><span class="p">]</span><span class="o">&gt;=</span><span class="mi">1</span><span class="p">)</span>
<span class="n">mod</span><span class="o">.</span><span class="n">addConstr</span><span class="p">(</span><span class="n">x</span><span class="p">[</span><span class="mi">4</span><span class="p">]</span><span class="o">&lt;=</span><span class="n">x</span><span class="p">[</span><span class="mi">1</span><span class="p">])</span>
<span class="n">mod</span><span class="o">.</span><span class="n">addConstr</span><span class="p">(</span><span class="n">x</span><span class="p">[</span><span class="mi">2</span><span class="p">]</span><span class="o">+</span><span class="n">x</span><span class="p">[</span><span class="mi">3</span><span class="p">]</span><span class="o">&lt;=</span><span class="mi">1</span><span class="p">)</span>
<span class="n">mod</span><span class="o">.</span><span class="n">setParam</span><span class="p">(</span><span class="s1">&#39;outputflag&#39;</span><span class="p">,</span><span class="kc">False</span><span class="p">)</span>
<span class="n">mod</span><span class="o">.</span><span class="n">optimize</span><span class="p">()</span>
<span class="nb">print</span><span class="p">(</span><span class="s1">&#39;Solution for Q2: use FC &#39;</span><span class="p">,</span><span class="n">end</span><span class="o">=</span><span class="s1">&#39;&#39;</span><span class="p">)</span>
<span class="k">for</span> <span class="n">i</span> <span class="ow">in</span> <span class="n">I</span><span class="p">:</span>
    <span class="k">if</span> <span class="n">x</span><span class="p">[</span><span class="n">i</span><span class="p">]</span><span class="o">.</span><span class="n">x</span><span class="o">&gt;</span><span class="mi">0</span><span class="p">:</span>
        <span class="nb">print</span><span class="p">(</span><span class="n">i</span><span class="p">,</span><span class="n">end</span><span class="o">=</span><span class="s1">&#39; &#39;</span><span class="p">)</span>
</pre></div>

    </div>
</div>
</div>

<div class="output_wrapper">
<div class="output">


<div class="output_area">

    <div class="prompt"></div>


<div class="output_subarea output_stream output_stdout output_text">
<pre>Solution for Q2: use FC 1 3 7 </pre>
</div>
</div>

</div>
</div>

</div>
<div class="cell border-box-sizing code_cell rendered">
<div class="input">
<div class="prompt input_prompt">In&nbsp;[22]:</div>
<div class="inner_cell">
    <div class="input_area">
<div class=" highlight hl-ipython3"><pre><span></span><span class="kn">from</span> <span class="nn">gurobipy</span> <span class="k">import</span> <span class="n">Model</span><span class="p">,</span> <span class="n">GRB</span>
<span class="n">mod</span><span class="o">=</span><span class="n">Model</span><span class="p">()</span>
<span class="n">x</span><span class="o">=</span><span class="n">mod</span><span class="o">.</span><span class="n">addVars</span><span class="p">([</span><span class="s1">&#39;A&#39;</span><span class="p">,</span><span class="s1">&#39;B&#39;</span><span class="p">,</span><span class="s1">&#39;C&#39;</span><span class="p">,</span><span class="s1">&#39;D&#39;</span><span class="p">,</span><span class="s1">&#39;E&#39;</span><span class="p">],</span><span class="n">ub</span><span class="o">=</span><span class="mi">75000</span><span class="p">)</span>
<span class="n">y</span><span class="o">=</span><span class="n">mod</span><span class="o">.</span><span class="n">addVars</span><span class="p">(</span><span class="nb">range</span><span class="p">(</span><span class="mi">4</span><span class="p">))</span>
<span class="n">mod</span><span class="o">.</span><span class="n">setObjective</span><span class="p">(</span><span class="n">y</span><span class="p">[</span><span class="mi">3</span><span class="p">],</span><span class="n">sense</span><span class="o">=</span><span class="n">GRB</span><span class="o">.</span><span class="n">MAXIMIZE</span><span class="p">)</span>
<span class="n">mod</span><span class="o">.</span><span class="n">addConstr</span><span class="p">(</span><span class="n">y</span><span class="p">[</span><span class="mi">0</span><span class="p">]</span><span class="o">==</span><span class="mi">100000</span><span class="o">-</span><span class="n">x</span><span class="p">[</span><span class="s1">&#39;A&#39;</span><span class="p">]</span><span class="o">-</span><span class="n">x</span><span class="p">[</span><span class="s1">&#39;C&#39;</span><span class="p">]</span><span class="o">-</span><span class="n">x</span><span class="p">[</span><span class="s1">&#39;D&#39;</span><span class="p">])</span>
<span class="n">mod</span><span class="o">.</span><span class="n">addConstr</span><span class="p">(</span><span class="n">y</span><span class="p">[</span><span class="mi">1</span><span class="p">]</span><span class="o">==</span><span class="n">y</span><span class="p">[</span><span class="mi">0</span><span class="p">]</span><span class="o">+</span><span class="mf">0.5</span><span class="o">*</span><span class="n">x</span><span class="p">[</span><span class="s1">&#39;A&#39;</span><span class="p">]</span><span class="o">+</span><span class="mf">1.2</span><span class="o">*</span><span class="n">x</span><span class="p">[</span><span class="s1">&#39;C&#39;</span><span class="p">]</span><span class="o">-</span><span class="n">x</span><span class="p">[</span><span class="s1">&#39;B&#39;</span><span class="p">])</span>
<span class="n">mod</span><span class="o">.</span><span class="n">addConstr</span><span class="p">(</span><span class="n">y</span><span class="p">[</span><span class="mi">2</span><span class="p">]</span><span class="o">==</span><span class="n">y</span><span class="p">[</span><span class="mi">1</span><span class="p">]</span><span class="o">+</span><span class="n">x</span><span class="p">[</span><span class="s1">&#39;A&#39;</span><span class="p">]</span><span class="o">+</span><span class="mf">0.5</span><span class="o">*</span><span class="n">x</span><span class="p">[</span><span class="s1">&#39;B&#39;</span><span class="p">]</span><span class="o">-</span><span class="n">x</span><span class="p">[</span><span class="s1">&#39;E&#39;</span><span class="p">])</span>
<span class="n">mod</span><span class="o">.</span><span class="n">addConstr</span><span class="p">(</span><span class="n">y</span><span class="p">[</span><span class="mi">3</span><span class="p">]</span><span class="o">==</span><span class="n">y</span><span class="p">[</span><span class="mi">2</span><span class="p">]</span><span class="o">+</span><span class="n">x</span><span class="p">[</span><span class="s1">&#39;B&#39;</span><span class="p">]</span><span class="o">+</span><span class="mf">1.9</span><span class="o">*</span><span class="n">x</span><span class="p">[</span><span class="s1">&#39;D&#39;</span><span class="p">]</span><span class="o">+</span><span class="mf">1.5</span><span class="o">*</span><span class="n">x</span><span class="p">[</span><span class="s1">&#39;E&#39;</span><span class="p">])</span>
<span class="n">mod</span><span class="o">.</span><span class="n">setParam</span><span class="p">(</span><span class="s1">&#39;outputflag&#39;</span><span class="p">,</span><span class="kc">False</span><span class="p">)</span>
<span class="n">mod</span><span class="o">.</span><span class="n">optimize</span><span class="p">()</span>
<span class="nb">print</span><span class="p">(</span><span class="n">f</span><span class="s1">&#39;Solution for Q3: final cash $</span><span class="si">{mod.objval}</span><span class="s1">&#39;</span><span class="p">)</span>
<span class="k">for</span> <span class="n">option</span> <span class="ow">in</span> <span class="n">x</span><span class="p">:</span>
    <span class="nb">print</span><span class="p">(</span><span class="n">f</span><span class="s1">&#39;</span><span class="se">\t</span><span class="s1">Invest $</span><span class="si">{x[option].x}</span><span class="s1"> in Option </span><span class="si">{option}</span><span class="s1">&#39;</span><span class="p">)</span>
</pre></div>

    </div>
</div>
</div>

<div class="output_wrapper">
<div class="output">


<div class="output_area">

    <div class="prompt"></div>


<div class="output_subarea output_stream output_stdout output_text">
<pre>Solution for Q3: final cash $218500.0
	Invest $60000.0 in Option A
	Invest $30000.0 in Option B
	Invest $0.0 in Option C
	Invest $40000.0 in Option D
	Invest $75000.0 in Option E
</pre>
</div>
</div>

</div>
</div>

</div>
 


    </div>
  </div>

  </div>


  
    <footer class="footer hidden-print">
      <div class="container">
        <div class="col-md-4">
          <p>
            This website does not host notebooks, it only renders notebooks
            available on other websites.
          </p>
        </div>

        <div class="col-md-4">
          <p>
            Delivered by <a href="http://www.fastly.com/">Fastly</a>,
            Rendered by <a href="https://developer.rackspace.com/?nbviewer=awesome">Rackspace</a>
          </p>
          <p>
            nbviewer GitHub <a href="https://github.com/jupyter/nbviewer">repository</a>.
          </p>
        </div>

        <div class="col-md-4">
          
  
            
              <p>
                nbviewer version:
                <a href="https://github.com/jupyter/nbviewer/commit/f69705373d1402afd924a77712e7c63659e2b57f">
                  f697053
                </a>
              </p>
            
          
  
  <p>
    nbconvert version: <a href="https://github.com/jupyter/nbconvert/releases/tag/5.4.1">
      5.4.1
    </a>
  </p>
  

          
  
  
  <p>
    Rendered
    <span class='date' data-date='Thu, 02 May 2019 02:57:27 UTC' title='Thu, 02 May 2019 02:57:27 UTC'>(Thu, 02 May 2019 02:57:27 UTC)</span>
  </p>
  

        </div>
      </div>
    </footer>
  

  <script src="/static/components/bootstrap/js/bootstrap.min.js?v=5869c96cc8f19086aee625d670d741f9"></script>
  <script src="/static/components/headroom.js/dist/headroom.min.js?v=b0a311ea668f8e768ea375f4a7abb81c"></script>
  <script src="/static/components/headroom.js/dist/jQuery.headroom.min.js?v=f3a1bae118315d0c234afc74dc6aab71"></script>

  
  
  <script>
    $(function(){ $("#menubar").headroom({
      tolerance: 5,
      offset: 205,
      classes: {
        initial: "animated",
        pinned: "slideInDown",
        unpinned: "slideOutUp"
      }
    })});
  </script>


  
  <script>
    (function(i,s,o,g,r,a,m){i['GoogleAnalyticsObject']=r;i[r]=i[r]||function(){
      (i[r].q=i[r].q||[]).push(arguments)},i[r].l=1*new Date();a=s.createElement(o),
      m=s.getElementsByTagName(o)[0];a.async=1;a.src=g;m.parentNode.insertBefore(a,m)
    })(window,document,'script','https://www.google-analytics.com/analytics.js','ga');
    ga('create', 'UA-52617120-5', 'auto',
       {'storage': 'none'});
    ga('set', 'anonymizeIp', true);
    ga('send', 'pageview');
  </script>
  
  <script>
    require({
        paths: {
          moment: "/static/components/moment/min/moment.min.js?v=89f87298ad94aa1e6b92f42eb66da043"
        }
      }, ["moment"], function(moment){
      var date = $("footer .date"),
        m = moment(new Date(date.data('date'))),
        update = function(){ date.text(m.fromNow()); };
      setInterval(update, 61*1000);
      update();
      var w = $(window).scroll(function(event){
        $("body").toggleClass("scrolled", w.scrollTop() > 0);
      });
    });
  </script>

  <!--NEW RELIC Stop Perf Measurement-->
  
  <!--NEW RELIC End-->
</body>
</html>