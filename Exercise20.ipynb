








<!DOCTYPE html>
<html lang="en">

<head>
  <meta charset="utf-8">
  <title>Jupyter Notebook Viewer</title>
  <meta name="viewport" content="width=device-width, initial-scale=1.0">
  <meta name="description" content="">
  <meta name="author" content="">
  
  <meta name="robots" content="noindex,nofollow">
  

  <!--NEW RELIC Start Perf Measurement-->
  
  <!--NREND-->

  <!-- Le styles -->
  <link href="/static/build/styles.css?v=55ba354138253381d2c0ada9821cd4da" rel="stylesheet">

  <!-- Le HTML5 shim, for IE6-8 support of HTML5 elements -->
  <!--[if lt IE 9]>
    <script src="http://html5shim.googlecode.com/svn/trunk/html5.js"></script>
  <![endif]-->

  <!-- Le fav and touch icons -->
  <link rel="shortcut icon" href="/static/ico/ipynb_icon_16x16.png">
  <link rel="apple-touch-icon-precomposed" sizes="144x144"
        href="/static/ico/apple-touch-icon-144-precomposed.png?v=5a3c9ede93e2a8b8ea9e3f8f3da1a905">
  <link rel="apple-touch-icon-precomposed" sizes="114x114"
        href="/static/ico/apple-touch-icon-114-precomposed.png?v=45d86fc8f24dc00638035e1dd7a6d898">
  <link rel="apple-touch-icon-precomposed" sizes="72x72"
        href="/static/ico/apple-touch-icon-72-precomposed.png?v=540b5eb0f3cfd25f1439d1c9bd30e15f">
  <link rel="apple-touch-icon-precomposed"
        href="/static/ico/apple-touch-icon-57-precomposed.png?v=225f0590e187e1458625654f10a28f56">
  
  

  

  
  <meta name="twitter:card" content="summary">
  <meta name="twitter:title" content="Notebook on nbviewer">
  <meta name="twitter:description" content="Check out this Jupyter notebook!">

  
  <meta name="twitter:domain" content="nbviewer.jupyter.org">
  <meta name="twitter:image:src" content="http://ipython.org/ipython-doc/dev/_images/ipynb_icon_128x128.png">

  
    <link href="/static/build/notebook.css?v=aae8f92f7e80fc468ae446b9d852fe90" rel="stylesheet">
  

  

  
    <script src="https://cdnjs.cloudflare.com/ajax/libs/mathjax/2.7.1/MathJax.js?config=TeX-AMS_HTML" type="text/javascript">
    </script>
    <script type="text/javascript">
      init_mathjax = function() {
        if (window.MathJax) {
          // MathJax loaded
          MathJax.Hub.Config({
            TeX: {
              equationNumbers: {
                autoNumber: "AMS",
                useLabelIds: true
              }
            },
            tex2jax: {
              inlineMath: [ ['$','$'], ["\\(","\\)"] ],
              displayMath: [ ['$$','$$'], ["\\[","\\]"] ],
              processEscapes: true,
              processEnvironments: true
            },
            displayAlign: 'center',
            "HTML-CSS": {
              styles: {'.MathJax_Display': {"margin": 0}},
              linebreaks: { automatic: true }
            }
          });
          MathJax.Hub.Queue(["Typeset", MathJax.Hub]);
        }
      }
      init_mathjax();
    </script>
  

  
    <script>
      (function() {
        function addWidgetsRenderer() {
          var mimeElement = document.querySelector('script[type="application/vnd.jupyter.widget-view+json"]');
          var scriptElement = document.createElement('script');
          var widgetRendererSrc = 'https://unpkg.com/@jupyter-widgets/html-manager@0.15/dist/embed-amd.js';
          var widgetState;

          try {
            widgetState = mimeElement && JSON.parse(mimeElement.innerHTML);

            if (widgetState && (widgetState.version_major < 2 || !widgetState.version_major)) {
              widgetRendererSrc = 'https://unpkg.com/jupyter-js-widgets@2.1/dist/embed.js';
            }
          } catch(e) {}

          scriptElement.src = widgetRendererSrc;
          document.body.appendChild(scriptElement);
        }

        document.addEventListener('DOMContentLoaded', addWidgetsRenderer);
      }());
    </script>
  

</head>

<body class="nbviewer">

  <!-- These are loaded at the top of the body so they are available to
       notebook cells when they are loaded below. -->
  <script src="/static/components/jquery/dist/jquery.min.js?v=a09e13ee94d51c524b7e2a728c7d4039"></script>
  <script src="/static/components/requirejs/require.js?v=6da8be361b9ee26c5e721e76c6d4afce"></script>
  <script src="/static/components/moment/min/moment.min.js?v=89f87298ad94aa1e6b92f42eb66da043"></script>
<!-- Navbar
================================================== -->
  <nav id="menubar" class="navbar navbar-default navbar-fixed-top" data-spy="affix">
    <div class="container">
      <div class="navbar-header">
        <button type="button" class="navbar-toggle collapsed" data-toggle="collapse" data-target=".navbar-collapse">
          <span class="sr-only">Toggle navigation</span>
          <i class="fa fa-bars"></i>
        </button>
        <a class="navbar-brand" href="/">
          <img src="/static/img/nav_logo.svg?v=479cefe8d932fb14a67b93911b97d70f" width="159"/>
        </a>
      </div>

      <div class="collapse navbar-collapse">
        <ul class="nav navbar-nav navbar-right">
          <li>
            <a class="active" href="http://jupyter.org">JUPYTER</a>
          </li>
          <li>
    <a href="/faq" title="FAQ" >
      
        <span>FAQ</span>
      
    </a>
  </li>

          
  
    
  
    
      
        <li>
    <a href="/format/script/github/pengshi-usc/usc-dso-570/blob/master/Handouts%20and%20Notes/20-Handout-Solutions.ipynb" title="View as Code" >
      <span class="fa fa-code fa-2x menu-icon"></span>
      <span class="menu-text">View as Code</span>
    </a>
  </li>
      
    
  

  
    <li>
    <a href="#" title="Python 3 Kernel" >
      <span class="fa fa-server fa-2x menu-icon"></span>
      <span class="menu-text">Python 3 Kernel</span>
    </a>
  </li>
  

  
    <li>
    <a href="https://github.com/pengshi-usc/usc-dso-570/blob/master/Handouts%20and%20Notes/20-Handout-Solutions.ipynb" title="View on GitHub" >
      <span class="fa fa-github fa-2x menu-icon"></span>
      <span class="menu-text">View on GitHub</span>
    </a>
  </li>
  

  
    <li>
    <a href="https://mybinder.org/v2/gh/pengshi-usc/usc-dso-570/master?filepath=Handouts%20and%20Notes/20-Handout-Solutions.ipynb" title="Execute on Binder" >
      <span class="fa fa-icon-binder fa-2x menu-icon"></span>
      <span class="menu-text">Execute on Binder</span>
    </a>
  </li>
  

  <li>
    <a href="https://raw.githubusercontent.com/pengshi-usc/usc-dso-570/master/Handouts%20and%20Notes/20-Handout-Solutions.ipynb" title="Download Notebook" download>
      <span class="fa fa-download fa-2x menu-icon"></span>
      <span class="menu-text">Download Notebook</span>
    </a>
  </li>

        </ul>
      </div><!-- /.navbar-collapse -->
      
      
    </div>
  </nav>

  <div class="container container-main">
    
  
  <ol class="breadcrumb">
    
      <li>
        <a href="/github/pengshi-usc/usc-dso-570/tree/master">usc-dso-570</a>
      </li>
    
      <li>
        <a href="/github/pengshi-usc/usc-dso-570/tree/master/Handouts and Notes">Handouts and Notes</a>
      </li>
    
  </ol>
  
  <div id="notebook">
    <div id="notebook-container">
      
<div class="cell border-box-sizing text_cell rendered"><div class="prompt input_prompt">
</div><div class="inner_cell">
<div class="text_cell_render border-box-sizing rendered_html">
<h1 id="Session-20:-Optimization-Modeling-II-Solutions">Session 20: Optimization Modeling II Solutions<a class="anchor-link" href="#Session-20:-Optimization-Modeling-II-Solutions">&#182;</a></h1><h2 id="Example-(Concrete-formulation-from-last-session's-Q1)">Example (Concrete formulation from last session's Q1)<a class="anchor-link" href="#Example-(Concrete-formulation-from-last-session's-Q1)">&#182;</a></h2><p>Amazon.com is expanding its business by launching a physical store in West LA. As the manager, you need to select which bestsellers to carry at the store’s grand opening. The following table provides the list of Top 10 Bestsellers in Literature &amp; Fiction, along with their genres. Note that some bestsellers belong to more than one genre.</p>
<table>
<thead><tr>
<th style="text-align:left">Rank \ Genre</th>
<th>Literary</th>
<th>Sci-Fi</th>
<th>Romance</th>
<th>Thriller</th>
</tr>
</thead>
<tbody>
<tr>
<td style="text-align:left">1</td>
<td>√</td>
<td><code></code></td>
<td><code></code></td>
<td><code></code></td>
</tr>
<tr>
<td style="text-align:left">2</td>
<td><code></code></td>
<td>√</td>
<td><code></code></td>
<td>√</td>
</tr>
<tr>
<td style="text-align:left">3</td>
<td><code></code></td>
<td><code></code></td>
<td>√</td>
<td>√</td>
</tr>
<tr>
<td style="text-align:left">4</td>
<td>√</td>
<td><code></code></td>
<td>√</td>
<td><code></code></td>
</tr>
<tr>
<td style="text-align:left">5</td>
<td>√</td>
<td><code></code></td>
<td><code></code></td>
<td><code></code></td>
</tr>
<tr>
<td style="text-align:left">6</td>
<td><code></code></td>
<td><code></code></td>
<td>√</td>
<td><code></code></td>
</tr>
<tr>
<td style="text-align:left">7</td>
<td><code></code></td>
<td>√</td>
<td><code></code></td>
<td><code></code></td>
</tr>
<tr>
<td style="text-align:left">8</td>
<td><code></code></td>
<td><code></code></td>
<td><code></code></td>
<td>√</td>
</tr>
<tr>
<td style="text-align:left">9</td>
<td>√</td>
<td>√</td>
<td><code></code></td>
<td><code></code></td>
</tr>
<tr>
<td style="text-align:left">10</td>
<td><code></code></td>
<td><code></code></td>
<td>√</td>
<td><code></code></td>
</tr>
</tbody>
</table>
<p>You wish to carry the minimum number of bestsellers, while ensuring that there are at least two bestsellers in each genre. Formulate this as an optimization problem.</p>
<p><strong>Decision variables:</strong>
Let $x_i$ be a binary decision variable denoting whether to carry book $i$, where $i \in \{1, 2, \cdots, 10\}$.</p>
<p><strong>Objective and Constraints:</strong></p>
$$\begin{aligned}
\text{Minimize:} &amp;&amp; x_1+x_2+\cdots+x_{10} \\
\text{subject to:} \\
\text{(Literary)} &amp;&amp; x_1+x_4+x_5+x_9 &amp; \ge 2\\
\text{(Sci-Fi)} &amp;&amp; x_2 + x_7 + x_9 &amp; \ge 2\\
\text{(Romance)} &amp;&amp; x_3 + x_4 + x_7 + x_{10} &amp; \ge 2 \\
\text{(Thriller)} &amp;&amp; x_2+x_3+x_8 &amp; \ge 2 \\
 &amp;&amp; x_{i} &amp; \in \{0,1\} \text{ for every book $i \in \{1,2,\cdots,10\}$.}
\end{aligned}$$<h3 id="Step-3a.-Use-variables-to-encode-all-input-data">Step 3a. Use variables to encode all input data<a class="anchor-link" href="#Step-3a.-Use-variables-to-encode-all-input-data">&#182;</a></h3><p><strong>Data:</strong></p>
<ul>
<li>$I$: the set of books. </li>
<li>$J$: the set of genres.</li>
<li>$a_{ij}$: a binary variable denoting whether book $i$ is of genre $j$. (These corresponds to the checkmarks in the original question.)</li>
<li>$q_j$: how many books do we need of genre $j$.</li>
</ul>
<h3 id="Step-3b.-Formulate-the-LP/MIP-in-terms-of-only-data-and-decision-variables">Step 3b. Formulate the LP/MIP in terms of only data and decision variables<a class="anchor-link" href="#Step-3b.-Formulate-the-LP/MIP-in-terms-of-only-data-and-decision-variables">&#182;</a></h3><p><strong>Decision Variables:</strong> For each book $i \in I$, let $x_i$ be a binary decision variable denoting whether to carry the book.</p>
<p><strong>Objective and constraints:</strong></p>
$$\begin{aligned}
\text{Minimize:} &amp;&amp; \sum_{i \in I} x_i \\
\text{subject to:} \\
\text{(Enough books in genre)} &amp;&amp; \sum_{i \in I} a_{ij}x_i &amp; \ge q_j &amp; \text{ for each genre $j \in J$.}\\
 &amp;&amp; x_{i} &amp; \in \{0,1\} &amp; \text{ for each book $i \in I$.}
\end{aligned}$$<h3 id="Alternative-encoding-of-data">Alternative encoding of data<a class="anchor-link" href="#Alternative-encoding-of-data">&#182;</a></h3><p><strong>Data:</strong></p>
<ul>
<li>$I$: the set of books.</li>
<li>$J$: the set of genres.</li>
<li>$I_j$: the set of books of genre $j$. </li>
<li>$q_j$: how many books we need of genre $j$.</li>
</ul>
<p><strong>Decision Variables:</strong> For each book $i \in I$, let $x_i$ be a decision variable denoting whether to carry the book. (binary)</p>
<p><strong>Objective and constraints:</strong></p>
$$\begin{aligned}
\text{Minimize:} &amp;&amp; \sum_{i \in I} x_i \\
\text{subject to:} \\
\text{(Enough books in genre)} &amp;&amp; \sum_{i \in I_j} x_i &amp; \ge q_j &amp; \text{ for each genre $j \in J$.}
\end{aligned}$$
</div>
</div>
</div>
<div class="cell border-box-sizing text_cell rendered"><div class="prompt input_prompt">
</div><div class="inner_cell">
<div class="text_cell_render border-box-sizing rendered_html">
<h2 id="Q1-(Emergency-Vehicle-Location)">Q1 (Emergency Vehicle Location)<a class="anchor-link" href="#Q1-(Emergency-Vehicle-Location)">&#182;</a></h2><p>The city of Metropolis is divided into nine districts and is considering seven possible sites to place emergency vehicles. The table below shows the time (minutes) it takes for an emergency vehicle to travel from each district to each site. (The column labels are sites and row labels are districts.)</p>
<table>
<thead><tr>
<th style="text-align:left">District \ Row</th>
<th>1</th>
<th>2</th>
<th>3</th>
<th>4</th>
<th>5</th>
<th>6</th>
<th>7</th>
</tr>
</thead>
<tbody>
<tr>
<td style="text-align:left">1</td>
<td>5</td>
<td>3</td>
<td>4</td>
<td>3</td>
<td>8</td>
<td>9</td>
<td>0</td>
</tr>
<tr>
<td style="text-align:left">2</td>
<td>3</td>
<td>6</td>
<td>5</td>
<td>4</td>
<td>8</td>
<td>0</td>
<td>3</td>
</tr>
<tr>
<td style="text-align:left">3</td>
<td>4</td>
<td>3</td>
<td>6</td>
<td>8</td>
<td>10</td>
<td>3</td>
<td>2</td>
</tr>
<tr>
<td style="text-align:left">4</td>
<td>6</td>
<td>0</td>
<td>2</td>
<td>7</td>
<td>3</td>
<td>2</td>
<td>5</td>
</tr>
<tr>
<td style="text-align:left">5</td>
<td>2</td>
<td>8</td>
<td>2</td>
<td>5</td>
<td>0</td>
<td>6</td>
<td>8</td>
</tr>
<tr>
<td style="text-align:left">6</td>
<td>2</td>
<td>6</td>
<td>4</td>
<td>0</td>
<td>7</td>
<td>3</td>
<td>5</td>
</tr>
<tr>
<td style="text-align:left">7</td>
<td>0</td>
<td>12</td>
<td>5</td>
<td>5</td>
<td>5</td>
<td>7</td>
<td>2</td>
</tr>
<tr>
<td style="text-align:left">8</td>
<td>10</td>
<td>9</td>
<td>0</td>
<td>2</td>
<td>3</td>
<td>5</td>
<td>7</td>
</tr>
<tr>
<td style="text-align:left">9</td>
<td>2</td>
<td>4</td>
<td>5</td>
<td>7</td>
<td>3</td>
<td>4</td>
<td>5</td>
</tr>
</tbody>
</table>
<p>Formulate an optimization problem to find the minimum number of sites so that all districts are within three minutes of an emergency vehicle, then generalize this to be able to handle arbitrary data of a similar format.</p>
<h3 id="Step-1.-Identify-the-decision,-objective,-and-constraints-in-English">Step 1. Identify the decision, objective, and constraints in English<a class="anchor-link" href="#Step-1.-Identify-the-decision,-objective,-and-constraints-in-English">&#182;</a></h3><p><strong>Decision:</strong> For each of the seven sites, decide whether or not to use it to place emergency vehicles.</p>
<p><strong>Objective:</strong> Minimize the number of sites used.</p>
<p><strong>Constraints:</strong> For each of the 9 districts, we need there to be at least one site that is within three minutes at which we placed emergency vehicles. In other words, for each district, 
$$\text{(# of sites within three minutes with emergency vehicle)} \ge 1 $$</p>
<h3 id="Step-2.-Formulate-the-optimization-as-linear-expressions-of-decision-variables">Step 2. Formulate the optimization as linear expressions of decision variables<a class="anchor-link" href="#Step-2.-Formulate-the-optimization-as-linear-expressions-of-decision-variables">&#182;</a></h3><p><strong>Decision variables:</strong> Let $x_i$ be a binary variable denoting whether we place an emergency vehicle at site $i$, where $i \in \{1,2,\cdots, 7\}$.</p>
<p><strong>Objective and constraints:</strong></p>
$$\begin{aligned}
\text{Minimize} &amp;&amp; x_1 + x_2 + \cdots + x_7 \\
\text{subject to:} \\
\text{(District 1)} &amp;&amp; x_2 + x_4 + x_7 &amp; \ge 1 \\
\text{(District 2)} &amp;&amp; x_1 + x_6 + x_7 &amp; \ge 1 \\
\text{(District 3)} &amp;&amp; x_2 + x_6 + x_7 &amp; \ge 1 \\
\text{(District 4)} &amp;&amp; x_2 + x_3 + x_5 + x_6 &amp; \ge 1 \\
\text{(District 5)} &amp;&amp; x_1 + x_3 + x_5 &amp; \ge 1 \\
\text{(District 6)} &amp;&amp; x_1 + x_4 + x_6 &amp; \ge 1 \\
\text{(District 7)} &amp;&amp; x_1 + x_7 &amp; \ge 1 \\
\text{(District 8)} &amp;&amp; x_3 + x_4 + x_5 &amp; \ge 1 \\
\text{(District 9)} &amp;&amp; x_1 + x_5 &amp; \ge 1 \\
&amp;&amp; x_i &amp; \in \{0,1\} \text{ for each site $i$.}
\end{aligned}$$<h3 id="Step-3a.-Use-variables-to-encode-all-input-data">Step 3a. Use variables to encode all input data<a class="anchor-link" href="#Step-3a.-Use-variables-to-encode-all-input-data">&#182;</a></h3><p><strong>Data:</strong></p>
<ul>
<li>$I$: the set of sites.</li>
<li>$J$: the set of districts.</li>
<li>$a_{ij}$: a binary variable for whether site $i$ is sufficiently close to district $j$. (This data can be obtained from the distance table by checking whether each entry is no more than the given threshold.)</li>
</ul>
<h3 id="Step-3b.-Formulate-the-LP/MIP-in-terms-of-only-data-and-decision-variables">Step 3b. Formulate the LP/MIP in terms of only data and decision variables<a class="anchor-link" href="#Step-3b.-Formulate-the-LP/MIP-in-terms-of-only-data-and-decision-variables">&#182;</a></h3><p><strong>Decision variables:</strong> For each site $i \in I$, let $x_i$ be a binary variable denoting whether we place an emergency vehicle at this site.</p>
<p><strong>Objective and constraints:</strong></p>
$$\begin{aligned}
\text{Minimize} &amp;&amp; \sum_{i \in I} x_i \\
\text{subject to:} \\
\text{(Close by site exists)} &amp;&amp; \sum_{i \in I}a_{ij}x_i &amp; \ge 1 &amp;&amp; \text{ for each district $j \in J$}. \\
&amp;&amp; x_i &amp; \in \{0,1\} &amp;&amp; \text{ for each site $i \in I$.}
\end{aligned}$$<h3 id="Alternative-encoding-of-data">Alternative encoding of data<a class="anchor-link" href="#Alternative-encoding-of-data">&#182;</a></h3><p>The following formulation is also correct. Note that we encode the data using sets instead of using a binary matrix. Moreover, the constraint $x_i \in \{0,1\}$ is unnecessary if we specify clearly that the variable is binary.</p>
<p><strong>Data:</strong></p>
<ul>
<li>$I$: the set of sites.</li>
<li>$J$: the set of districts.</li>
<li>$I_j$: the set of sites suffciently close to district $j$. </li>
</ul>
<p><strong>Decision variables:</strong> For each site $i$, let $x_i$ denote whether we place an emergency vehicle at this site.  (binary)</p>
$$\begin{aligned}
\text{Minimize} &amp;&amp; \sum_{i \in I} x_i \\
\text{subject to:} \\
\text{(Close by site exists)} &amp;&amp; \sum_{i \in I_j} x_i &amp; \ge 1 &amp;&amp; \text{ for each district $j$}.
\end{aligned}$$
</div>
</div>
</div>
<div class="cell border-box-sizing text_cell rendered"><div class="prompt input_prompt">
</div><div class="inner_cell">
<div class="text_cell_render border-box-sizing rendered_html">
<h2 id="Q2-(Transportation-Planning)">Q2 (Transportation Planning)<a class="anchor-link" href="#Q2-(Transportation-Planning)">&#182;</a></h2><p>Your software company has launched a new Analytics product. As sales manager, you are planning to promote the product by sending salesforce to software conventions running concurrently in Los Angeles, Saint Louis, and Detroit.</p>
<p>You have 6 representatives available at each of your Little Rock and Urbana Branches. You would like to send at least 2 to the Los Angeles convention, 5 to the Saint Louis convention, and at least 4 to the Detroit convention.</p>
<p>Roundtrip airfare between the locations are as follows:</p>
<table>
<thead><tr>
<th><code></code></th>
<th>Los Angeles</th>
<th>St. Louis</th>
<th>Detroit</th>
</tr>
</thead>
<tbody>
<tr>
<td>Little Rock</td>
<td>250</td>
<td>150</td>
<td>200</td>
</tr>
<tr>
<td>Urbana</td>
<td>300</td>
<td>200</td>
<td>150</td>
</tr>
</tbody>
</table>
<p>Formulate an optimization problem to allocate your sales force so as to minimize total airfare, then generalize the formulation to be able to handle arbitrary number of office branches, conventions cities, availability of representatives, requirement for conventions, and transportation cost.</p>
<h3 id="Step-1.-Identify-the-decision,-objective,-and-constraints-in-English">Step 1. Identify the decision, objective, and constraints in English<a class="anchor-link" href="#Step-1.-Identify-the-decision,-objective,-and-constraints-in-English">&#182;</a></h3><p><strong>Decision:</strong> How many representative to send from each branch to each convention.</p>
<p><strong>Objective:</strong> Minimize total airfare.</p>
<p><strong>Constraints:</strong></p>
<ul>
<li>(Supply) Not use more representatives than available at each branch. </li>
<li>(Demand) Send enough representives to each convention.</li>
</ul>
<h3 id="Step-2.-Formulate-the-optimization-as-linear-expressions-of-decision-variables">Step 2. Formulate the optimization as linear expressions of decision variables<a class="anchor-link" href="#Step-2.-Formulate-the-optimization-as-linear-expressions-of-decision-variables">&#182;</a></h3><p>Denote Little Rock and Urbana by 1 and 2 respectively, and the three cities by L, S, and D respectively.</p>
<p><strong>Decision variables:</strong> Let $X_{ij}$ denote how many representatives to send from branch $i \in \{1, 2\}$ to convention $j \in \{L,S,D\}$. (Integer)</p>
<p><strong>Objective and constraints:</strong></p>
$$\begin{aligned}
\text{Min} &amp;&amp; 250X_{1L}+150X_{1S}+200X_{1D} &amp;+300X_{2L}+200X_{2S}+150X_{2D} \\
\text{s.t.} \\
\text{(Supply Little Rock)} &amp;&amp; X_{1L}+X_{1S}+X_{1D} &amp; \le 6 \\
\text{(Supply Urbana)} &amp;&amp; X_{2L}+X_{2S}+X_{2D} &amp; \le 6 \\
\text{(Demand LA)} &amp;&amp; X_{1L}+X_{2L} &amp; \ge 2 \\
\text{(Demand St. Louis)} &amp;&amp; X_{1S}+X_{2S} &amp; \ge 5 \\
\text{(Demand Detroit)} &amp;&amp; X_{1D}+X_{2D} &amp; \ge 4 \\
\text{(Non-negativity)} &amp;&amp; X_{ij} &amp; \ge 0 \qquad \text{for all $i$ and $j$.}
\end{aligned}$$<h3 id="Step-3a.-Use-variables-to-encode-all-input-data">Step 3a. Use variables to encode all input data<a class="anchor-link" href="#Step-3a.-Use-variables-to-encode-all-input-data">&#182;</a></h3><p><strong>Data:</strong></p>
<ul>
<li>$I$: the set of office branches.</li>
<li>$J$: the set of conventions.</li>
<li>$s_i$: the number of available representatives at office branch $i \in I$. </li>
<li>$d_j$: the number of representatives needed at convention $j \in J$.</li>
<li>$c_{ij}$: the roundtrip airfare from branch $i$ to convention $j$.</li>
</ul>
<h3 id="Step-3b.-Formulate-the-LP/MIP-in-terms-of-only-data-and-decision-variables">Step 3b. Formulate the LP/MIP in terms of only data and decision variables<a class="anchor-link" href="#Step-3b.-Formulate-the-LP/MIP-in-terms-of-only-data-and-decision-variables">&#182;</a></h3><p><strong>Decision variables:</strong> Let $X_{ij}$ denote how many representatives to send from branch $i \in I$ to convention $j \in J$. (Integer)</p>
<p><strong>Objective and constraints:</strong></p>
$$\begin{aligned}
\text{Minimize} &amp;&amp; \sum_{i\in I}\sum_{j\in J} c_{ij}x_{ij} \\
\text{s.t.} \\
\text{(Supply)} &amp;&amp; \sum_{j \in J}x_{ij} &amp; \le s_i &amp;&amp; \text{ for each branch $i \in I$,} \\
\text{(Demand)} &amp;&amp; \sum_{i \in I}x_{ij} &amp; \ge d_j  &amp;&amp; \text{ for each convention $j \in J$,}\\
\text{(Non-negativity)} &amp;&amp; x_{ij} &amp; \ge 0  &amp;&amp; \text{ for each $i \in I$, $j \in J$.}
\end{aligned}$$<h3 id="Condensed-Notation">Condensed Notation<a class="anchor-link" href="#Condensed-Notation">&#182;</a></h3><p>The following is also correct, if we write in words before hand that every summation over $i$ is taken over the set $I$ and every summation over $j$ is taken over $J$.</p>
$$\begin{aligned}
\text{Minimize} &amp;&amp; \sum_{i,j} c_{ij}x_{ij} \\
\text{s.t.} \\
\text{(Supply)} &amp;&amp; \sum_{j}x_{ij} &amp; \le s_i &amp;&amp; \text{ for each branch $i$,} \\
\text{(Demand)} &amp;&amp; \sum_{i}x_{ij} &amp; \ge d_j  &amp;&amp; \text{ for each convention $j$,}\\
\text{(Non-negativity)} &amp;&amp; x_{ij} &amp; \ge 0  &amp;&amp; \text{ for each $i$ and $j$.}
\end{aligned}$$
</div>
</div>
</div>
<div class="cell border-box-sizing text_cell rendered"><div class="prompt input_prompt">
</div><div class="inner_cell">
<div class="text_cell_render border-box-sizing rendered_html">
<h2 id="Q3-(Optimal-Debt-Payments)">Q3 (Optimal Debt Payments)<a class="anchor-link" href="#Q3-(Optimal-Debt-Payments)">&#182;</a></h2><p>Paris has come to you because she needs help paying off her credit card bills. Her statement at the beginning of month 1 shows the following balances:</p>
<table>
<thead><tr>
<th>Credit Card</th>
<th>Balance</th>
<th>Monthly Rate</th>
</tr>
</thead>
<tbody>
<tr>
<td>Saks Fifth Avenue</td>
<td>\$20,000</td>
<td>0.5\%</td>
</tr>
<tr>
<td>Bloomingdale's</td>
<td>\$50,000</td>
<td>1.0\%</td>
</tr>
<tr>
<td>Macy's</td>
<td>\$40,000</td>
<td>1.5\%</td>
</tr>
</tbody>
</table>
<p>Paris has agreed not to shop at any of these stores anymore, and she is willing to allocate up to 5,000 dollars per month to pay off these credit cards. All cards must be paid off within 36 months (meaning that her statement at the beginning of month 37 must be zero for all card). Paris’ goal is to minimize the total of all her payments.</p>
<p>For this problem, assume that the interest for the month is applied after the payment for that month. For example, suppose Paris pays 5,000 on Saks for month 1. Then her Saks balance at the beginning of month 2 is $(1.005)\times (20000 - 5000) = 15075$.</p>
<p>Help Paris solve her problem by formulating it into a linear program, then generalize it to be able to handle arbitrary number of credit cards, balances, monthly rates, monthly budget, and time required for full payment.</p>
<h3 id="Step-1.-Identify-the-decision,-objective,-and-constraints-in-English">Step 1. Identify the decision, objective, and constraints in English<a class="anchor-link" href="#Step-1.-Identify-the-decision,-objective,-and-constraints-in-English">&#182;</a></h3><p><strong>Decision:</strong> How much to pay for each card in each month.</p>
<p><strong>Objective:</strong> Minimize total payment over all 36 months.</p>
<p><strong>Constraints:</strong></p>
<ul>
<li>Total amount paid in each month no more than 5000.</li>
<li>Paying off all cards by month 37.</li>
<li>Cashflow equation governing the relationship between the balance this month, payment this month, and balance next month. </li>
</ul>
<h3 id="Step-2.-Formulate-the-optimization-as-linear-expressions-of-decision-variables">Step 2. Formulate the optimization as linear expressions of decision variables<a class="anchor-link" href="#Step-2.-Formulate-the-optimization-as-linear-expressions-of-decision-variables">&#182;</a></h3><p><strong>Decision variables:</strong></p>
<ul>
<li>Let $x_{it}$ denote how much to pay card $i \in \{S,B,M\}$ in month $t \in \{1, 2,\cdots, 36\}$.</li>
<li>Let $y_{it}$ denote the balance for card $i$ at the beginning of month $t \in \{1, 2, \cdots, 37\}$.</li>
</ul>
<p><strong>Objective and constraints:</strong></p>
$$\begin{aligned}
\text{Minimize: } &amp; \sum_{it} x_{it} \\
x_{St}+x_{Bt}+x_{Mt} &amp; \le 5000 &amp;&amp; \text{for each month $1 \le t \le 36$.} \\
y_{S1} &amp; = 20000 \\
y_{B1} &amp; = 50000 \\
y_{M1} &amp; = 40000 \\
y_{S(37)},y_{B(37)},y_{M(37)} &amp; = 0 \\
(1+0.005)(y_{S1} - x_{S1}) &amp; = y_{S2} \\
(1+0.005)(y_{S2} - x_{S2}) &amp; = y_{S3} \\
\cdots \\
(1+0.01)(y_{B1} - x_{B1}) &amp; = y_{B2} \\
\cdots \\
(1+0.015)(y_{M1} - x_{M1}) &amp; = y_{M2} \\
\cdots \\
x_{it}, y_{it} &amp; \ge 0 &amp;&amp; \text{for each $i$ and $t$.}
\end{aligned}$$<h3 id="Step-3a.-Use-variables-to-encode-all-input-data">Step 3a. Use variables to encode all input data<a class="anchor-link" href="#Step-3a.-Use-variables-to-encode-all-input-data">&#182;</a></h3><p><strong>Data:</strong></p>
<ul>
<li>$I$: set of credit cards.</li>
<li>$n$: number of months in which to pay off all cards.</li>
<li>$T = \{1,\cdots, n\}$: the set of months.</li>
<li>$B_i$: the balance of card $i$ in month 1. </li>
<li>$C$: the total cash available to pay the credit cards each month.</li>
<li>$r_i$: monthly interest rate for each card $i$. </li>
</ul>
<h3 id="Step-3b.-Formulate-the-LP/MIP-in-terms-of-only-data-and-decision-variables">Step 3b. Formulate the LP/MIP in terms of only data and decision variables<a class="anchor-link" href="#Step-3b.-Formulate-the-LP/MIP-in-terms-of-only-data-and-decision-variables">&#182;</a></h3><p><strong>Decision variable:</strong></p>
<ul>
<li>Let $x_{it}$ denote how much to pay card $i \in I$ in this month $t \in T$ (continuous);</li>
<li>let $y_{it}$ denote the balance for card $i \in I$ in the beginning of month $t \in \{1, \cdots, n+1\}$ (continuous). </li>
</ul>
<p><strong>Objective and constraints:</strong> 
$$\begin{aligned}
\text{Minimize:} &amp;&amp; \sum_{i \in I} \sum_{t \in T} x_{it} \\
\text{subject to:} \\
\text{(Limit on payments)} &amp;&amp; \sum_{i \in I} x_{it} &amp; \le C &amp;&amp; \text{for each month $t \in T$.}\\
\text{(Beginning balance)} &amp;&amp; y_{i1} &amp;= B_i &amp;&amp; \text{for each card $i \in I$.} \\
\text{(Paying off at the end)} &amp;&amp; y_{i{n+1}} &amp; = 0 &amp;&amp; \text{for each card $i \in I$.} \\
\text{(Credit card accounting)} &amp;&amp; (1+r_i)(y_{it} - x_{it})  &amp;= y_{i{t+1}} &amp;&amp; \text{for each card $i \in I$ and each month $t\in T$.} \\
\text{(Non-negativivity)} &amp;&amp; x_{it}, y_{it} &amp; \ge 0 &amp;&amp; \text{for each card $i \in I$ and each month $t \in T$.}
\end{aligned}$$</p>

</div>
</div>
</div>
 


    </div>
  </div>

  </div>


  
    <footer class="footer hidden-print">
      <div class="container">
        <div class="col-md-4">
          <p>
            This website does not host notebooks, it only renders notebooks
            available on other websites.
          </p>
        </div>

        <div class="col-md-4">
          <p>
            Delivered by <a href="http://www.fastly.com/">Fastly</a>,
            Rendered by <a href="https://developer.rackspace.com/?nbviewer=awesome">Rackspace</a>
          </p>
          <p>
            nbviewer GitHub <a href="https://github.com/jupyter/nbviewer">repository</a>.
          </p>
        </div>

        <div class="col-md-4">
          
  
            
              <p>
                nbviewer version:
                <a href="https://github.com/jupyter/nbviewer/commit/f69705373d1402afd924a77712e7c63659e2b57f">
                  f697053
                </a>
              </p>
            
          
  
  <p>
    nbconvert version: <a href="https://github.com/jupyter/nbconvert/releases/tag/5.4.1">
      5.4.1
    </a>
  </p>
  

          
  
  
  <p>
    Rendered
    <span class='date' data-date='Thu, 02 May 2019 02:57:31 UTC' title='Thu, 02 May 2019 02:57:31 UTC'>(Thu, 02 May 2019 02:57:31 UTC)</span>
  </p>
  

        </div>
      </div>
    </footer>
  

  <script src="/static/components/bootstrap/js/bootstrap.min.js?v=5869c96cc8f19086aee625d670d741f9"></script>
  <script src="/static/components/headroom.js/dist/headroom.min.js?v=b0a311ea668f8e768ea375f4a7abb81c"></script>
  <script src="/static/components/headroom.js/dist/jQuery.headroom.min.js?v=f3a1bae118315d0c234afc74dc6aab71"></script>

  
  
  <script>
    $(function(){ $("#menubar").headroom({
      tolerance: 5,
      offset: 205,
      classes: {
        initial: "animated",
        pinned: "slideInDown",
        unpinned: "slideOutUp"
      }
    })});
  </script>


  
  <script>
    (function(i,s,o,g,r,a,m){i['GoogleAnalyticsObject']=r;i[r]=i[r]||function(){
      (i[r].q=i[r].q||[]).push(arguments)},i[r].l=1*new Date();a=s.createElement(o),
      m=s.getElementsByTagName(o)[0];a.async=1;a.src=g;m.parentNode.insertBefore(a,m)
    })(window,document,'script','https://www.google-analytics.com/analytics.js','ga');
    ga('create', 'UA-52617120-5', 'auto',
       {'storage': 'none'});
    ga('set', 'anonymizeIp', true);
    ga('send', 'pageview');
  </script>
  
  <script>
    require({
        paths: {
          moment: "/static/components/moment/min/moment.min.js?v=89f87298ad94aa1e6b92f42eb66da043"
        }
      }, ["moment"], function(moment){
      var date = $("footer .date"),
        m = moment(new Date(date.data('date'))),
        update = function(){ date.text(m.fromNow()); };
      setInterval(update, 61*1000);
      update();
      var w = $(window).scroll(function(event){
        $("body").toggleClass("scrolled", w.scrollTop() > 0);
      });
    });
  </script>

  <!--NEW RELIC Stop Perf Measurement-->
  
  <!--NEW RELIC End-->
</body>
</html>