








<!DOCTYPE html>
<html lang="en">

<head>
  <meta charset="utf-8">
  <title>Jupyter Notebook Viewer</title>
  <meta name="viewport" content="width=device-width, initial-scale=1.0">
  <meta name="description" content="">
  <meta name="author" content="">
  
  <meta name="robots" content="noindex,nofollow">
  

  <!--NEW RELIC Start Perf Measurement-->
  
  <!--NREND-->

  <!-- Le styles -->
  <link href="/static/build/styles.css?v=55ba354138253381d2c0ada9821cd4da" rel="stylesheet">

  <!-- Le HTML5 shim, for IE6-8 support of HTML5 elements -->
  <!--[if lt IE 9]>
    <script src="http://html5shim.googlecode.com/svn/trunk/html5.js"></script>
  <![endif]-->

  <!-- Le fav and touch icons -->
  <link rel="shortcut icon" href="/static/ico/ipynb_icon_16x16.png">
  <link rel="apple-touch-icon-precomposed" sizes="144x144"
        href="/static/ico/apple-touch-icon-144-precomposed.png?v=5a3c9ede93e2a8b8ea9e3f8f3da1a905">
  <link rel="apple-touch-icon-precomposed" sizes="114x114"
        href="/static/ico/apple-touch-icon-114-precomposed.png?v=45d86fc8f24dc00638035e1dd7a6d898">
  <link rel="apple-touch-icon-precomposed" sizes="72x72"
        href="/static/ico/apple-touch-icon-72-precomposed.png?v=540b5eb0f3cfd25f1439d1c9bd30e15f">
  <link rel="apple-touch-icon-precomposed"
        href="/static/ico/apple-touch-icon-57-precomposed.png?v=225f0590e187e1458625654f10a28f56">
  
  

  

  
  <meta name="twitter:card" content="summary">
  <meta name="twitter:title" content="Notebook on nbviewer">
  <meta name="twitter:description" content="Check out this Jupyter notebook!">

  
  <meta name="twitter:domain" content="nbviewer.jupyter.org">
  <meta name="twitter:image:src" content="http://ipython.org/ipython-doc/dev/_images/ipynb_icon_128x128.png">

  
    <link href="/static/build/notebook.css?v=aae8f92f7e80fc468ae446b9d852fe90" rel="stylesheet">
  

  

  
    <script src="https://cdnjs.cloudflare.com/ajax/libs/mathjax/2.7.1/MathJax.js?config=TeX-AMS_HTML" type="text/javascript">
    </script>
    <script type="text/javascript">
      init_mathjax = function() {
        if (window.MathJax) {
          // MathJax loaded
          MathJax.Hub.Config({
            TeX: {
              equationNumbers: {
                autoNumber: "AMS",
                useLabelIds: true
              }
            },
            tex2jax: {
              inlineMath: [ ['$','$'], ["\\(","\\)"] ],
              displayMath: [ ['$$','$$'], ["\\[","\\]"] ],
              processEscapes: true,
              processEnvironments: true
            },
            displayAlign: 'center',
            "HTML-CSS": {
              styles: {'.MathJax_Display': {"margin": 0}},
              linebreaks: { automatic: true }
            }
          });
          MathJax.Hub.Queue(["Typeset", MathJax.Hub]);
        }
      }
      init_mathjax();
    </script>
  

  
    <script>
      (function() {
        function addWidgetsRenderer() {
          var mimeElement = document.querySelector('script[type="application/vnd.jupyter.widget-view+json"]');
          var scriptElement = document.createElement('script');
          var widgetRendererSrc = 'https://unpkg.com/@jupyter-widgets/html-manager@0.15/dist/embed-amd.js';
          var widgetState;

          try {
            widgetState = mimeElement && JSON.parse(mimeElement.innerHTML);

            if (widgetState && (widgetState.version_major < 2 || !widgetState.version_major)) {
              widgetRendererSrc = 'https://unpkg.com/jupyter-js-widgets@2.1/dist/embed.js';
            }
          } catch(e) {}

          scriptElement.src = widgetRendererSrc;
          document.body.appendChild(scriptElement);
        }

        document.addEventListener('DOMContentLoaded', addWidgetsRenderer);
      }());
    </script>
  

</head>

<body class="nbviewer">

  <!-- These are loaded at the top of the body so they are available to
       notebook cells when they are loaded below. -->
  <script src="/static/components/jquery/dist/jquery.min.js?v=a09e13ee94d51c524b7e2a728c7d4039"></script>
  <script src="/static/components/requirejs/require.js?v=6da8be361b9ee26c5e721e76c6d4afce"></script>
  <script src="/static/components/moment/min/moment.min.js?v=89f87298ad94aa1e6b92f42eb66da043"></script>
<!-- Navbar
================================================== -->
  <nav id="menubar" class="navbar navbar-default navbar-fixed-top" data-spy="affix">
    <div class="container">
      <div class="navbar-header">
        <button type="button" class="navbar-toggle collapsed" data-toggle="collapse" data-target=".navbar-collapse">
          <span class="sr-only">Toggle navigation</span>
          <i class="fa fa-bars"></i>
        </button>
        <a class="navbar-brand" href="/">
          <img src="/static/img/nav_logo.svg?v=479cefe8d932fb14a67b93911b97d70f" width="159"/>
        </a>
      </div>

      <div class="collapse navbar-collapse">
        <ul class="nav navbar-nav navbar-right">
          <li>
            <a class="active" href="http://jupyter.org">JUPYTER</a>
          </li>
          <li>
    <a href="/faq" title="FAQ" >
      
        <span>FAQ</span>
      
    </a>
  </li>

          
  
    
  
    
      
        <li>
    <a href="/format/script/github/pengshi-usc/usc-dso-570/blob/master/Handouts%20and%20Notes/18-Handout-Solutions.ipynb" title="View as Code" >
      <span class="fa fa-code fa-2x menu-icon"></span>
      <span class="menu-text">View as Code</span>
    </a>
  </li>
      
    
  

  
    <li>
    <a href="#" title="Python 3 Kernel" >
      <span class="fa fa-server fa-2x menu-icon"></span>
      <span class="menu-text">Python 3 Kernel</span>
    </a>
  </li>
  

  
    <li>
    <a href="https://github.com/pengshi-usc/usc-dso-570/blob/master/Handouts%20and%20Notes/18-Handout-Solutions.ipynb" title="View on GitHub" >
      <span class="fa fa-github fa-2x menu-icon"></span>
      <span class="menu-text">View on GitHub</span>
    </a>
  </li>
  

  
    <li>
    <a href="https://mybinder.org/v2/gh/pengshi-usc/usc-dso-570/master?filepath=Handouts%20and%20Notes/18-Handout-Solutions.ipynb" title="Execute on Binder" >
      <span class="fa fa-icon-binder fa-2x menu-icon"></span>
      <span class="menu-text">Execute on Binder</span>
    </a>
  </li>
  

  <li>
    <a href="https://raw.githubusercontent.com/pengshi-usc/usc-dso-570/master/Handouts%20and%20Notes/18-Handout-Solutions.ipynb" title="Download Notebook" download>
      <span class="fa fa-download fa-2x menu-icon"></span>
      <span class="menu-text">Download Notebook</span>
    </a>
  </li>

        </ul>
      </div><!-- /.navbar-collapse -->
      
      
    </div>
  </nav>

  <div class="container container-main">
    
  
  <ol class="breadcrumb">
    
      <li>
        <a href="/github/pengshi-usc/usc-dso-570/tree/master">usc-dso-570</a>
      </li>
    
      <li>
        <a href="/github/pengshi-usc/usc-dso-570/tree/master/Handouts and Notes">Handouts and Notes</a>
      </li>
    
  </ol>
  
  <div id="notebook">
    <div id="notebook-container">
      
<div class="cell border-box-sizing text_cell rendered"><div class="prompt input_prompt">
</div><div class="inner_cell">
<div class="text_cell_render border-box-sizing rendered_html">
<h1 id="Session-18:-Mixed-Integer-Programming-(MIP)-Solutions">Session 18: Mixed Integer Programming (MIP) Solutions<a class="anchor-link" href="#Session-18:-Mixed-Integer-Programming-(MIP)-Solutions">&#182;</a></h1><h2 id="1.-Geometry-of-Linear-Programming">1. Geometry of Linear Programming<a class="anchor-link" href="#1.-Geometry-of-Linear-Programming">&#182;</a></h2><p><strong>Example 1:</strong> Solve the following LP graphically without the use of a computer.</p>
$$\begin{aligned} &amp; \text{Maximize} &amp; 2X+Y \\
&amp; \text{subject to:} \\
&amp; \text{(Material 1)} &amp; X+2Y &amp; \le 6 \\
&amp; \text{(Material 2)} &amp; 3Y &amp; \le 6 \\
&amp; \text{(Non-negativity)} &amp; X, Y &amp; \ge 0
\end{aligned}$$<p><strong>Q1:</strong> Solve the following LP graphically (find optimal solution and objective value). Which constraints are binding at the optimal solution? For each constraint, determine the sign of the its shadow price. (The sign means whether it is positive, negative, or zero.)</p>
$$\begin{aligned}
\text{Maximize} &amp;&amp; 10X+20Y \\
\text{subject to:} \\
\text{(Material 1)} &amp;&amp; 4X+Y &amp; \le 60 \\
\text{(Material 2)} &amp;&amp; 2Y &amp; \le 48 \\
\text{(Labor)} &amp;&amp; X+Y &amp; \le 30 \\
\text{(Non-negativity)}&amp;&amp; X,Y &amp; \ge 0 \\
\end{aligned}$$<p><strong>Q2:</strong> How does the optimal solution changes if both $X$ and $Y$ have to be integer multiples of $10$?</p>

</div>
</div>
</div>
<div class="cell border-box-sizing text_cell rendered"><div class="prompt input_prompt">
</div><div class="inner_cell">
<div class="text_cell_render border-box-sizing rendered_html">
<h2 id="2.-Introduction-to-MIPs">2. Introduction to MIPs<a class="anchor-link" href="#2.-Introduction-to-MIPs">&#182;</a></h2><p><strong>Example 2:</strong> Suppose that in the production planning example of Q1, there is an additional fixed cost of 90 for using any amount material 2. If we pay this cost, then we have 48 units of material 2 at our disposal, otherwise we have no material 2. What is the optimal profit and corresponding production plan?</p>
<p><strong>Decision Variables:</strong></p>
<ul>
<li>Let $X$ and $Y$ be the amount of each product to produce. (integer)</li>
<li>Let $M_2$ be a binary variable corresponding to whether we use material 2 at all. </li>
</ul>
<p><strong>Objective and Constraints:</strong></p>
$$\begin{aligned}
\text{Maximize} &amp;&amp; 10X+20Y-90M_2 \\
\text{subject to:} \\
\text{(Material 1)} &amp;&amp; 4X+Y &amp; \le 60 \\
\text{(Material 2)} &amp;&amp; 2Y &amp; \le 48M_2 \\
\text{(Labor)} &amp;&amp; X+Y &amp; \le 30 \\
\text{(Non-negativity)}&amp;&amp; X,Y &amp; \ge 0 \\
\text{(Binary)} &amp;&amp; M_2 &amp; \in \{0,1\}
\end{aligned}$$
</div>
</div>
</div>
<div class="cell border-box-sizing code_cell rendered">
<div class="input">
<div class="prompt input_prompt">In&nbsp;[1]:</div>
<div class="inner_cell">
    <div class="input_area">
<div class=" highlight hl-ipython3"><pre><span></span><span class="kn">from</span> <span class="nn">gurobipy</span> <span class="k">import</span> <span class="n">Model</span><span class="p">,</span> <span class="n">GRB</span>
<span class="n">mod</span><span class="o">=</span><span class="n">Model</span><span class="p">()</span>

<span class="n">X</span><span class="o">=</span><span class="n">mod</span><span class="o">.</span><span class="n">addVar</span><span class="p">()</span>
<span class="n">Y</span><span class="o">=</span><span class="n">mod</span><span class="o">.</span><span class="n">addVar</span><span class="p">()</span>
<span class="n">M2</span><span class="o">=</span><span class="n">mod</span><span class="o">.</span><span class="n">addVar</span><span class="p">(</span><span class="n">vtype</span><span class="o">=</span><span class="n">GRB</span><span class="o">.</span><span class="n">BINARY</span><span class="p">)</span>

<span class="n">mod</span><span class="o">.</span><span class="n">setObjective</span><span class="p">(</span><span class="mi">10</span><span class="o">*</span><span class="n">X</span><span class="o">+</span><span class="mi">20</span><span class="o">*</span><span class="n">Y</span><span class="o">-</span><span class="mi">90</span><span class="o">*</span><span class="n">M2</span><span class="p">,</span><span class="n">sense</span><span class="o">=</span><span class="n">GRB</span><span class="o">.</span><span class="n">MAXIMIZE</span><span class="p">)</span>
<span class="n">mod</span><span class="o">.</span><span class="n">addConstr</span><span class="p">(</span><span class="mi">4</span><span class="o">*</span><span class="n">X</span><span class="o">+</span><span class="n">Y</span> <span class="o">&lt;=</span><span class="mi">60</span><span class="p">)</span>
<span class="n">mod</span><span class="o">.</span><span class="n">addConstr</span><span class="p">(</span><span class="mi">2</span><span class="o">*</span><span class="n">Y</span><span class="o">&lt;=</span><span class="mi">48</span><span class="o">*</span><span class="n">M2</span><span class="p">)</span>
<span class="n">mod</span><span class="o">.</span><span class="n">addConstr</span><span class="p">(</span><span class="n">X</span><span class="o">+</span><span class="n">Y</span><span class="o">&lt;=</span><span class="mi">30</span><span class="p">)</span>

<span class="n">mod</span><span class="o">.</span><span class="n">optimize</span><span class="p">()</span>
</pre></div>

    </div>
</div>
</div>

<div class="output_wrapper">
<div class="output">


<div class="output_area">

    <div class="prompt"></div>


<div class="output_subarea output_stream output_stdout output_text">
<pre>Academic license - for non-commercial use only
Optimize a model with 3 rows, 3 columns and 6 nonzeros
Variable types: 2 continuous, 1 integer (1 binary)
Coefficient statistics:
  Matrix range     [1e+00, 5e+01]
  Objective range  [1e+01, 9e+01]
  Bounds range     [1e+00, 1e+00]
  RHS range        [3e+01, 6e+01]
Found heuristic solution: objective 150.0000000
Presolve time: 0.00s
Presolved: 3 rows, 3 columns, 7 nonzeros
Variable types: 2 continuous, 1 integer (1 binary)

Root relaxation: objective 4.500000e+02, 2 iterations, 0.00 seconds

    Nodes    |    Current Node    |     Objective Bounds      |     Work
 Expl Unexpl |  Obj  Depth IntInf | Incumbent    BestBd   Gap | It/Node Time

*    0     0               0     450.0000000  450.00000  0.00%     -    0s

Explored 0 nodes (2 simplex iterations) in 0.02 seconds
Thread count was 4 (of 4 available processors)

Solution count 2: 450 150 

Optimal solution found (tolerance 1.00e-04)
Best objective 4.500000000000e+02, best bound 4.500000000000e+02, gap 0.0000%
</pre>
</div>
</div>

</div>
</div>

</div>
<div class="cell border-box-sizing code_cell rendered">
<div class="input">
<div class="prompt input_prompt">In&nbsp;[2]:</div>
<div class="inner_cell">
    <div class="input_area">
<div class=" highlight hl-ipython3"><pre><span></span><span class="nb">print</span><span class="p">(</span><span class="s1">&#39;Optimal objective:&#39;</span><span class="p">,</span> <span class="n">mod</span><span class="o">.</span><span class="n">objval</span><span class="p">)</span>
<span class="nb">print</span><span class="p">(</span><span class="s1">&#39;</span><span class="se">\t</span><span class="s1">X:&#39;</span><span class="p">,</span><span class="n">X</span><span class="o">.</span><span class="n">x</span><span class="p">)</span>
<span class="nb">print</span><span class="p">(</span><span class="s1">&#39;</span><span class="se">\t</span><span class="s1">Y:&#39;</span><span class="p">,</span><span class="n">Y</span><span class="o">.</span><span class="n">x</span><span class="p">)</span>
<span class="nb">print</span><span class="p">(</span><span class="s1">&#39;</span><span class="se">\t</span><span class="s1">M2:&#39;</span><span class="p">,</span><span class="n">M2</span><span class="o">.</span><span class="n">x</span><span class="p">)</span>
</pre></div>

    </div>
</div>
</div>

<div class="output_wrapper">
<div class="output">


<div class="output_area">

    <div class="prompt"></div>


<div class="output_subarea output_stream output_stdout output_text">
<pre>Optimal objective: 450.0
	X: 6.0
	Y: 24.0
	M2: 1.0
</pre>
</div>
</div>

</div>
</div>

</div>
<div class="cell border-box-sizing text_cell rendered"><div class="prompt input_prompt">
</div><div class="inner_cell">
<div class="text_cell_render border-box-sizing rendered_html">
<p><strong>Q3:</strong> Consider the LP as in Q1 but now $X$ and $Y$ have to be integer multiples of 10. Formulate this as a MIP and solve it using Gurobi.</p>

</div>
</div>
</div>
<div class="cell border-box-sizing text_cell rendered"><div class="prompt input_prompt">
</div><div class="inner_cell">
<div class="text_cell_render border-box-sizing rendered_html">
<p><strong>Decision Variables:</strong></p>
<ul>
<li>Let $X$ and $Y$ be the amount of each product to produce. (integer)</li>
<li>Let $I_1$ and $I_2$ be integers.</li>
</ul>
<p><strong>Objective and Constraints:</strong></p>
$$\begin{aligned}
\text{Maximize} &amp;&amp; 10X+20Y \\
\text{subject to:} \\
\text{(Material 1)} &amp;&amp; 4X+Y &amp; \le 60 \\
\text{(Material 2)} &amp;&amp; 2Y &amp; \le 48 \\
\text{(Labor)} &amp;&amp; X+Y &amp; \le 30 \\
\text{(X multiple of 10)} &amp;&amp; X &amp;= 10I_1 \\
\text{(Y multiple of 10)} &amp;&amp; Y &amp;= 10I_2 \\
\text{(Non-negativity)}&amp;&amp; X,Y &amp; \ge 0 \\
\text{(Integer)} &amp;&amp; I_1, I_2 &amp; \in \mathbb{Z}
\end{aligned}$$
</div>
</div>
</div>
<div class="cell border-box-sizing code_cell rendered">
<div class="input">
<div class="prompt input_prompt">In&nbsp;[3]:</div>
<div class="inner_cell">
    <div class="input_area">
<div class=" highlight hl-ipython3"><pre><span></span><span class="kn">from</span> <span class="nn">gurobipy</span> <span class="k">import</span> <span class="n">Model</span><span class="p">,</span> <span class="n">GRB</span>

<span class="n">mod</span><span class="o">=</span><span class="n">Model</span><span class="p">()</span>

<span class="n">X</span><span class="o">=</span><span class="n">mod</span><span class="o">.</span><span class="n">addVar</span><span class="p">()</span>
<span class="n">Y</span><span class="o">=</span><span class="n">mod</span><span class="o">.</span><span class="n">addVar</span><span class="p">()</span>
<span class="n">I1</span><span class="o">=</span><span class="n">mod</span><span class="o">.</span><span class="n">addVar</span><span class="p">(</span><span class="n">vtype</span><span class="o">=</span><span class="n">GRB</span><span class="o">.</span><span class="n">INTEGER</span><span class="p">)</span>
<span class="n">I2</span><span class="o">=</span><span class="n">mod</span><span class="o">.</span><span class="n">addVar</span><span class="p">(</span><span class="n">vtype</span><span class="o">=</span><span class="n">GRB</span><span class="o">.</span><span class="n">INTEGER</span><span class="p">)</span>

<span class="n">mod</span><span class="o">.</span><span class="n">setObjective</span><span class="p">(</span><span class="mi">10</span><span class="o">*</span><span class="n">X</span><span class="o">+</span><span class="mi">20</span><span class="o">*</span><span class="n">Y</span><span class="p">,</span><span class="n">sense</span><span class="o">=</span><span class="n">GRB</span><span class="o">.</span><span class="n">MAXIMIZE</span><span class="p">)</span>
<span class="n">mod</span><span class="o">.</span><span class="n">addConstr</span><span class="p">(</span><span class="mi">4</span><span class="o">*</span><span class="n">X</span><span class="o">+</span><span class="n">Y</span> <span class="o">&lt;=</span><span class="mi">60</span><span class="p">)</span>
<span class="n">mod</span><span class="o">.</span><span class="n">addConstr</span><span class="p">(</span><span class="mi">2</span><span class="o">*</span><span class="n">Y</span><span class="o">&lt;=</span><span class="mi">48</span><span class="p">)</span>
<span class="n">mod</span><span class="o">.</span><span class="n">addConstr</span><span class="p">(</span><span class="n">X</span><span class="o">+</span><span class="n">Y</span><span class="o">&lt;=</span><span class="mi">30</span><span class="p">)</span>
<span class="n">mod</span><span class="o">.</span><span class="n">addConstr</span><span class="p">(</span><span class="n">X</span><span class="o">==</span><span class="mi">10</span><span class="o">*</span><span class="n">I1</span><span class="p">)</span>
<span class="n">mod</span><span class="o">.</span><span class="n">addConstr</span><span class="p">(</span><span class="n">Y</span><span class="o">==</span><span class="mi">10</span><span class="o">*</span><span class="n">I2</span><span class="p">)</span>

<span class="n">mod</span><span class="o">.</span><span class="n">setParam</span><span class="p">(</span><span class="s1">&#39;outputflag&#39;</span><span class="p">,</span><span class="kc">False</span><span class="p">)</span>
<span class="n">mod</span><span class="o">.</span><span class="n">optimize</span><span class="p">()</span>

<span class="nb">print</span><span class="p">(</span><span class="s1">&#39;Optimal objective:&#39;</span><span class="p">,</span> <span class="n">mod</span><span class="o">.</span><span class="n">objval</span><span class="p">)</span>
<span class="nb">print</span><span class="p">(</span><span class="s1">&#39;</span><span class="se">\t</span><span class="s1">X:&#39;</span><span class="p">,</span><span class="n">X</span><span class="o">.</span><span class="n">x</span><span class="p">)</span>
<span class="nb">print</span><span class="p">(</span><span class="s1">&#39;</span><span class="se">\t</span><span class="s1">Y:&#39;</span><span class="p">,</span><span class="n">Y</span><span class="o">.</span><span class="n">x</span><span class="p">)</span>
</pre></div>

    </div>
</div>
</div>

<div class="output_wrapper">
<div class="output">


<div class="output_area">

    <div class="prompt"></div>


<div class="output_subarea output_stream output_stdout output_text">
<pre>Optimal objective: 500.0
	X: 10.0
	Y: 20.0
</pre>
</div>
</div>

</div>
</div>

</div>
<div class="cell border-box-sizing text_cell rendered"><div class="prompt input_prompt">
</div><div class="inner_cell">
<div class="text_cell_render border-box-sizing rendered_html">
<p><strong>Q4:</strong> Consider the production planning problem from Q1 with the following modifications:</p>
<ul>
<li>All production quantities must be integers. </li>
<li>You have the additional ability to purchase more units of Material 1 at a cost of 3 per unit. However, you can only purchase them in batches of 9 units. </li>
<li>Producing any positive amounts of $X$ would incur a fixed cost of 100.</li>
<li>The number of units produced for $Y$ is either zero or at least 5.</li>
</ul>
<p>What is the optimal profit and how is it be achieved?</p>

</div>
</div>
</div>
<div class="cell border-box-sizing text_cell rendered"><div class="prompt input_prompt">
</div><div class="inner_cell">
<div class="text_cell_render border-box-sizing rendered_html">
<p><strong>Decision Variables:</strong></p>
<ul>
<li>Let $X$ and $Y$ be the amount of each product to produce. (integer)</li>
<li>Let $N_1$ be the number of batches of material 1 to purchase. (integer)</li>
<li>Let $Z_1$ be 1 if we produce any amount of $X$, and 0 otherwise. (binary)</li>
<li>Let $Z_2$ be 1 if we produce any amount of $Y$, and 0 otherwise. (binary)</li>
</ul>
<p><strong>Objective and Constraints:</strong></p>
$$\begin{aligned}
\text{Maximize} &amp;&amp; 10X+20Y-27N_1-100Z_1 \\
\text{subject to:} \\
\text{(Material 1)} &amp;&amp; 4X+Y &amp; \le 60+9N_1 \\
\text{(Material 2)} &amp;&amp; 2Y &amp; \le 48 \\
\text{(Labor)} &amp;&amp; X+Y &amp; \le 30 \\
\text{(Whether we produce X)} &amp;&amp; X &amp; \le 1000Z_1 \\
\text{(Minimum production size)} &amp;&amp; 5Z_2 \le Y &amp; \le 1000Z_2 \\
\text{(Non-negativity)}&amp;&amp; X,Y &amp; \ge 0 \\
\end{aligned}$$
</div>
</div>
</div>
<div class="cell border-box-sizing code_cell rendered">
<div class="input">
<div class="prompt input_prompt">In&nbsp;[4]:</div>
<div class="inner_cell">
    <div class="input_area">
<div class=" highlight hl-ipython3"><pre><span></span><span class="kn">from</span> <span class="nn">gurobipy</span> <span class="k">import</span> <span class="n">Model</span><span class="p">,</span> <span class="n">GRB</span>
<span class="n">mod</span><span class="o">=</span><span class="n">Model</span><span class="p">()</span>

<span class="n">X</span><span class="o">=</span><span class="n">mod</span><span class="o">.</span><span class="n">addVar</span><span class="p">(</span><span class="n">vtype</span><span class="o">=</span><span class="n">GRB</span><span class="o">.</span><span class="n">INTEGER</span><span class="p">)</span>
<span class="n">Y</span><span class="o">=</span><span class="n">mod</span><span class="o">.</span><span class="n">addVar</span><span class="p">(</span><span class="n">vtype</span><span class="o">=</span><span class="n">GRB</span><span class="o">.</span><span class="n">INTEGER</span><span class="p">)</span>
<span class="n">N1</span><span class="o">=</span><span class="n">mod</span><span class="o">.</span><span class="n">addVar</span><span class="p">(</span><span class="n">vtype</span><span class="o">=</span><span class="n">GRB</span><span class="o">.</span><span class="n">INTEGER</span><span class="p">)</span>
<span class="n">Z1</span><span class="o">=</span><span class="n">mod</span><span class="o">.</span><span class="n">addVar</span><span class="p">(</span><span class="n">vtype</span><span class="o">=</span><span class="n">GRB</span><span class="o">.</span><span class="n">BINARY</span><span class="p">)</span>
<span class="n">Z2</span><span class="o">=</span><span class="n">mod</span><span class="o">.</span><span class="n">addVar</span><span class="p">(</span><span class="n">vtype</span><span class="o">=</span><span class="n">GRB</span><span class="o">.</span><span class="n">BINARY</span><span class="p">)</span>

<span class="n">mod</span><span class="o">.</span><span class="n">setObjective</span><span class="p">(</span><span class="mi">10</span><span class="o">*</span><span class="n">X</span><span class="o">+</span><span class="mi">20</span><span class="o">*</span><span class="n">Y</span><span class="o">-</span><span class="mi">27</span><span class="o">*</span><span class="n">N1</span><span class="o">-</span><span class="mi">100</span><span class="o">*</span><span class="n">Z1</span><span class="p">,</span><span class="n">sense</span><span class="o">=</span><span class="n">GRB</span><span class="o">.</span><span class="n">MAXIMIZE</span><span class="p">)</span>
<span class="n">mod</span><span class="o">.</span><span class="n">addConstr</span><span class="p">(</span><span class="mi">4</span><span class="o">*</span><span class="n">X</span><span class="o">+</span><span class="n">Y</span> <span class="o">&lt;=</span><span class="mi">60</span><span class="o">+</span><span class="mi">9</span><span class="o">*</span><span class="n">N1</span><span class="p">)</span>
<span class="n">mod</span><span class="o">.</span><span class="n">addConstr</span><span class="p">(</span><span class="mi">2</span><span class="o">*</span><span class="n">Y</span><span class="o">&lt;=</span><span class="mi">48</span><span class="p">)</span>
<span class="n">mod</span><span class="o">.</span><span class="n">addConstr</span><span class="p">(</span><span class="n">X</span><span class="o">+</span><span class="n">Y</span><span class="o">&lt;=</span><span class="mi">30</span><span class="p">)</span>
<span class="n">mod</span><span class="o">.</span><span class="n">addConstr</span><span class="p">(</span><span class="n">X</span><span class="o">&lt;=</span><span class="mi">1000</span><span class="o">*</span><span class="n">Z1</span><span class="p">)</span>
<span class="c1"># Note that each side of this constraint must be coded separately</span>
<span class="n">mod</span><span class="o">.</span><span class="n">addConstr</span><span class="p">(</span><span class="mi">5</span><span class="o">*</span><span class="n">Z2</span> <span class="o">&lt;=</span> <span class="n">Y</span> <span class="p">)</span>
<span class="n">mod</span><span class="o">.</span><span class="n">addConstr</span><span class="p">(</span><span class="n">Y</span><span class="o">&lt;=</span><span class="mi">1000</span><span class="o">*</span><span class="n">Z2</span><span class="p">)</span>

<span class="n">mod</span><span class="o">.</span><span class="n">setParam</span><span class="p">(</span><span class="s1">&#39;outputflag&#39;</span><span class="p">,</span><span class="kc">False</span><span class="p">)</span>
<span class="n">mod</span><span class="o">.</span><span class="n">optimize</span><span class="p">()</span>

<span class="nb">print</span><span class="p">(</span><span class="s1">&#39;Optimal objective:&#39;</span><span class="p">,</span> <span class="n">mod</span><span class="o">.</span><span class="n">objval</span><span class="p">)</span>
<span class="nb">print</span><span class="p">(</span><span class="s1">&#39;</span><span class="se">\t</span><span class="s1">X:&#39;</span><span class="p">,</span><span class="n">X</span><span class="o">.</span><span class="n">x</span><span class="p">)</span>
<span class="nb">print</span><span class="p">(</span><span class="s1">&#39;</span><span class="se">\t</span><span class="s1">Y:&#39;</span><span class="p">,</span><span class="n">Y</span><span class="o">.</span><span class="n">x</span><span class="p">)</span>
<span class="nb">print</span><span class="p">(</span><span class="s1">&#39;</span><span class="se">\t</span><span class="s1">N1:&#39;</span><span class="p">,</span><span class="n">N1</span><span class="o">.</span><span class="n">x</span><span class="p">)</span>
<span class="nb">print</span><span class="p">(</span><span class="s1">&#39;</span><span class="se">\t</span><span class="s1">Z1:&#39;</span><span class="p">,</span><span class="n">Z1</span><span class="o">.</span><span class="n">x</span><span class="p">)</span>
<span class="nb">print</span><span class="p">(</span><span class="s1">&#39;</span><span class="se">\t</span><span class="s1">Z2:&#39;</span><span class="p">,</span><span class="n">Z2</span><span class="o">.</span><span class="n">x</span><span class="p">)</span>
</pre></div>

    </div>
</div>
</div>

<div class="output_wrapper">
<div class="output">


<div class="output_area">

    <div class="prompt"></div>


<div class="output_subarea output_stream output_stdout output_text">
<pre>Optimal objective: 480.0
	X: 0.0
	Y: 24.0
	N1: -0.0
	Z1: 0.0
	Z2: 1.0
</pre>
</div>
</div>

</div>
</div>

</div>
 


    </div>
  </div>

  </div>


  
    <footer class="footer hidden-print">
      <div class="container">
        <div class="col-md-4">
          <p>
            This website does not host notebooks, it only renders notebooks
            available on other websites.
          </p>
        </div>

        <div class="col-md-4">
          <p>
            Delivered by <a href="http://www.fastly.com/">Fastly</a>,
            Rendered by <a href="https://developer.rackspace.com/?nbviewer=awesome">Rackspace</a>
          </p>
          <p>
            nbviewer GitHub <a href="https://github.com/jupyter/nbviewer">repository</a>.
          </p>
        </div>

        <div class="col-md-4">
          
  
            
              <p>
                nbviewer version:
                <a href="https://github.com/jupyter/nbviewer/commit/f69705373d1402afd924a77712e7c63659e2b57f">
                  f697053
                </a>
              </p>
            
          
  
  <p>
    nbconvert version: <a href="https://github.com/jupyter/nbconvert/releases/tag/5.4.1">
      5.4.1
    </a>
  </p>
  

          
  
  
  <p>
    Rendered
    <span class='date' data-date='Thu, 02 May 2019 02:57:23 UTC' title='Thu, 02 May 2019 02:57:23 UTC'>(Thu, 02 May 2019 02:57:23 UTC)</span>
  </p>
  

        </div>
      </div>
    </footer>
  

  <script src="/static/components/bootstrap/js/bootstrap.min.js?v=5869c96cc8f19086aee625d670d741f9"></script>
  <script src="/static/components/headroom.js/dist/headroom.min.js?v=b0a311ea668f8e768ea375f4a7abb81c"></script>
  <script src="/static/components/headroom.js/dist/jQuery.headroom.min.js?v=f3a1bae118315d0c234afc74dc6aab71"></script>

  
  
  <script>
    $(function(){ $("#menubar").headroom({
      tolerance: 5,
      offset: 205,
      classes: {
        initial: "animated",
        pinned: "slideInDown",
        unpinned: "slideOutUp"
      }
    })});
  </script>


  
  <script>
    (function(i,s,o,g,r,a,m){i['GoogleAnalyticsObject']=r;i[r]=i[r]||function(){
      (i[r].q=i[r].q||[]).push(arguments)},i[r].l=1*new Date();a=s.createElement(o),
      m=s.getElementsByTagName(o)[0];a.async=1;a.src=g;m.parentNode.insertBefore(a,m)
    })(window,document,'script','https://www.google-analytics.com/analytics.js','ga');
    ga('create', 'UA-52617120-5', 'auto',
       {'storage': 'none'});
    ga('set', 'anonymizeIp', true);
    ga('send', 'pageview');
  </script>
  
  <script>
    require({
        paths: {
          moment: "/static/components/moment/min/moment.min.js?v=89f87298ad94aa1e6b92f42eb66da043"
        }
      }, ["moment"], function(moment){
      var date = $("footer .date"),
        m = moment(new Date(date.data('date'))),
        update = function(){ date.text(m.fromNow()); };
      setInterval(update, 61*1000);
      update();
      var w = $(window).scroll(function(event){
        $("body").toggleClass("scrolled", w.scrollTop() > 0);
      });
    });
  </script>

  <!--NEW RELIC Stop Perf Measurement-->
  
  <!--NEW RELIC End-->
</body>
</html>